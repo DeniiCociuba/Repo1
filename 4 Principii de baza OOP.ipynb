{
 "cells": [
  {
   "cell_type": "markdown",
   "id": "a05ad6f4",
   "metadata": {},
   "source": [
    "# 4 PRINCIPII DE BAZA AI OOP ( Encapsulare, Mostenire, Abstractizare, Polimorfism)"
   ]
  },
  {
   "cell_type": "code",
   "execution_count": 2,
   "id": "59ac8170",
   "metadata": {},
   "outputs": [],
   "source": [
    "# Principii OOP:\n",
    "# INHERITANCE\n",
    "# POLYMOPRHISM\n",
    "# ABSTRACTION\n",
    "# ENCAPSULATION/HERMETIZATION"
   ]
  },
  {
   "cell_type": "markdown",
   "id": "8352df42",
   "metadata": {},
   "source": [
    "# INHERITANCE: presupune o clasa parinte si o clasa numita copil care mosteneste de la parinte "
   ]
  },
  {
   "cell_type": "code",
   "execution_count": 6,
   "id": "538070ec",
   "metadata": {},
   "outputs": [
    {
     "name": "stdout",
     "output_type": "stream",
     "text": [
      "Bird created\n",
      "Penguin created\n",
      "I am a penguin\n",
      "I am flying\n"
     ]
    },
    {
     "data": {
      "text/plain": [
       "'Penguin'"
      ]
     },
     "execution_count": 6,
     "metadata": {},
     "output_type": "execute_result"
    }
   ],
   "source": [
    "class Bird:                       # clasa parinte\n",
    "    def __init__(self):\n",
    "        self.name = 'Birdy'\n",
    "        print(\"Bird created\")\n",
    "        \n",
    "    def who_am_i(self):\n",
    "        print(\"I am a bird\")\n",
    "        \n",
    "    def fly(self):\n",
    "        print(\"I am flying\")\n",
    "        \n",
    "class Penguin(Bird):             # clasa copil\n",
    "    def __init__(self):\n",
    "        super().__init__()         #initializam clasa parinte\n",
    "        print(\"Penguin created\")\n",
    "        self.name = \"Penguin\"\n",
    "        \n",
    "    def who_am_i(self):\n",
    "        print(\"I am a penguin\")\n",
    "        \n",
    "    def swim(self):\n",
    "        print(\"I am swimming\")\n",
    "        \n",
    "# clasa copil mosteneste toate metodele si atributele\n",
    "\n",
    "pengu = Penguin()\n",
    "pengu.who_am_i()\n",
    "pengu.fly()\n",
    "pengu.name"
   ]
  },
  {
   "cell_type": "code",
   "execution_count": 7,
   "id": "b40788e9",
   "metadata": {},
   "outputs": [],
   "source": [
    "# class Person\n",
    "\n",
    "# class Student(Person)\n",
    "\n",
    "# class Freshman(Student)\n",
    "\n",
    "# class Employee(Person)"
   ]
  },
  {
   "cell_type": "markdown",
   "id": "2d4f251b",
   "metadata": {},
   "source": [
    "# POLYMOPHISM: abilitate OOP de a permite obiectelor sa ia mai multe forme prin crearea unei interfete comune"
   ]
  },
  {
   "cell_type": "code",
   "execution_count": 10,
   "id": "04d193ad",
   "metadata": {},
   "outputs": [
    {
     "name": "stdout",
     "output_type": "stream",
     "text": [
      "In romania the spoken language is Romanian\n",
      "In USA the spoken language is English\n"
     ]
    }
   ],
   "source": [
    "class Romania:\n",
    "    def language(self):\n",
    "        print(\"In romania the spoken language is Romanian\")\n",
    "\n",
    "class USA:\n",
    "    def language(self):\n",
    "        print(\"In USA the spoken language is English\")\n",
    "        \n",
    "# interfata comuna\n",
    "def what_do_they_speak(country):\n",
    "    country.language()               # apelam functia de language\n",
    "    \n",
    "ro = Romania()         # ne initializam obiecte\n",
    "us = USA()\n",
    "\n",
    "what_do_they_speak(ro)    # apelam what do they speak\n",
    "what_do_they_speak(us)"
   ]
  },
  {
   "cell_type": "code",
   "execution_count": 11,
   "id": "2f4a01ee",
   "metadata": {},
   "outputs": [],
   "source": [
    "# in polymoprhism se face o interfata comuna (e o fctie care ia ca parametru o variabila)\n",
    "# dar variabila tre sa fie un obiect"
   ]
  },
  {
   "cell_type": "markdown",
   "id": "9ee661a5",
   "metadata": {},
   "source": [
    "# ABSTRACTION: concept OOP prin care se ascunde fata de user fctionalitatea interna a unei metode\n",
    "# oferindu i acestuia doar informatia asupra CE face metoda, NU CUM o face"
   ]
  },
  {
   "cell_type": "code",
   "execution_count": 23,
   "id": "4ac90aa8",
   "metadata": {},
   "outputs": [
    {
     "name": "stdout",
     "output_type": "stream",
     "text": [
      "Your object is a car\n",
      "The top speed is 240km/h\n",
      "Your object is a car\n",
      "The top speed is 250km/h\n"
     ]
    },
    {
     "ename": "TypeError",
     "evalue": "Can't instantiate abstract class BMW with abstract method top_speed",
     "output_type": "error",
     "traceback": [
      "\u001b[1;31m---------------------------------------------------------------------------\u001b[0m",
      "\u001b[1;31mTypeError\u001b[0m                                 Traceback (most recent call last)",
      "Input \u001b[1;32mIn [23]\u001b[0m, in \u001b[0;36m<cell line: 34>\u001b[1;34m()\u001b[0m\n\u001b[0;32m     31\u001b[0m tesla\u001b[38;5;241m.\u001b[39mdescription()\n\u001b[0;32m     32\u001b[0m tesla\u001b[38;5;241m.\u001b[39mtop_speed()\n\u001b[1;32m---> 34\u001b[0m bmw \u001b[38;5;241m=\u001b[39m \u001b[43mBMW\u001b[49m\u001b[43m(\u001b[49m\u001b[43m)\u001b[49m\n\u001b[0;32m     35\u001b[0m bmw\u001b[38;5;241m.\u001b[39mtop_speed\n",
      "\u001b[1;31mTypeError\u001b[0m: Can't instantiate abstract class BMW with abstract method top_speed"
     ]
    }
   ],
   "source": [
    "from abc import ABC, abstractmethod \n",
    "\n",
    "class Car(ABC):\n",
    "    #metoda normala\n",
    "    def description(self):\n",
    "        print(\"Your object is a car\")\n",
    "        \n",
    "    @abstractmethod          # abstractizare, nu oferim implementarea\n",
    "    def top_speed(self):      #fieacare copil al clasei Car va trebui sa implementeze top_speed\n",
    "        raise NotImplementedError  #fie\n",
    " #       pass NotImplementedError\n",
    "    \n",
    "class Dacia(Car):\n",
    "    def top_speed(self):\n",
    "        print(\"The top speed is 240km/h\")\n",
    "        \n",
    "\n",
    "class Tesla(Car):\n",
    "    def top_speed(self):\n",
    "        print(\"The top speed is 250km/h\")   \n",
    "        \n",
    "        \n",
    "class BMW(Car):\n",
    "    pass\n",
    "\n",
    "dacia = Dacia()\n",
    "dacia.description()\n",
    "dacia.top_speed()\n",
    "\n",
    "tesla = Tesla()\n",
    "tesla.description()\n",
    "tesla.top_speed()\n",
    "\n",
    "bmw = BMW()\n",
    "bmw.top_speed"
   ]
  },
  {
   "cell_type": "code",
   "execution_count": 14,
   "id": "041d7460",
   "metadata": {},
   "outputs": [],
   "source": [
    "# La bmw nu merge din cauza ca in metoda respectiva NU am implementat metoda abstracta\n",
    "\n",
    "\n"
   ]
  },
  {
   "cell_type": "markdown",
   "id": "66883828",
   "metadata": {},
   "source": [
    "# ENCAPSULATION: concept OOP prin care se ascunde accesul la date din exterior\n",
    "# modificarea lor se face doar dintr-un singurl loc, prin intermediul unei metode"
   ]
  },
  {
   "cell_type": "code",
   "execution_count": 38,
   "id": "625ebb33",
   "metadata": {},
   "outputs": [
    {
     "name": "stdout",
     "output_type": "stream",
     "text": [
      "1000\n",
      "2000\n",
      "I am hidden\n"
     ]
    }
   ],
   "source": [
    "class Computer:\n",
    "    def __init__(self):\n",
    "        self.__price = 1000    # price e atribut private (cand punem __ inaintea atributului, devine private)\n",
    "    \n",
    "    def set_price(self, new_price):\n",
    "        self.__price = new_price\n",
    "        \n",
    "    def get_price(self):\n",
    "        print(self.__price)\n",
    "        \n",
    "    def __hidden(self):\n",
    "        print(\"I am hidden\")\n",
    "        \n",
    "    def call_hidden(self):\n",
    "        self.__hidden()\n",
    "        \n",
    "c1 = Computer()\n",
    "#c1.__price = 200 # eroare; nu putem modif direct atributul, ci doar prin intermediul unei fctii\n",
    "\n",
    "c1.get_price()\n",
    "c1.set_price(2000)\n",
    "c1.get_price()\n",
    "\n",
    "# c1.__hidden()  # eroare, din afara clasei nu putem apela\n",
    "                 # putem apela doar daca cream o fctie call_hidden\n",
    "\n",
    "c1.call_hidden()  # doar asa poti apela\n",
    "\n",
    "# nu te lasa sa il modifici, e accesibil doar din interiorul clasei\n",
    "# ca sa poti modifica pretul trebuie sa faci ca si mai sus"
   ]
  },
  {
   "cell_type": "code",
   "execution_count": 39,
   "id": "1c016572",
   "metadata": {},
   "outputs": [],
   "source": [
    "# mai exista si atribute protected similare cu cele private (au doar cu o _ in fata numelor)\n",
    "# dar spre deosebire de private, ele pot fi apelate din afara clasei, insa conventia e sa nu..."
   ]
  },
  {
   "cell_type": "code",
   "execution_count": 41,
   "id": "6e44adba",
   "metadata": {},
   "outputs": [
    {
     "data": {
      "text/plain": [
       "'Pukii'"
      ]
     },
     "execution_count": 41,
     "metadata": {},
     "output_type": "execute_result"
    }
   ],
   "source": [
    "class Dog:\n",
    "    def __init__(self):\n",
    "        self._name = \"Pukii\"    # atribute protected\n",
    "        self._age = 11          # atribute private\n",
    "        \n",
    "doggy = Dog()\n",
    "doggy._name"
   ]
  },
  {
   "cell_type": "code",
   "execution_count": 43,
   "id": "d50dae6b",
   "metadata": {},
   "outputs": [
    {
     "name": "stdout",
     "output_type": "stream",
     "text": [
      "Pukii\n"
     ]
    },
    {
     "ename": "AttributeError",
     "evalue": "'Dog' object has no attribute '__age'",
     "output_type": "error",
     "traceback": [
      "\u001b[1;31m---------------------------------------------------------------------------\u001b[0m",
      "\u001b[1;31mAttributeError\u001b[0m                            Traceback (most recent call last)",
      "Input \u001b[1;32mIn [43]\u001b[0m, in \u001b[0;36m<cell line: 8>\u001b[1;34m()\u001b[0m\n\u001b[0;32m      6\u001b[0m doggy \u001b[38;5;241m=\u001b[39m Dog()\n\u001b[0;32m      7\u001b[0m \u001b[38;5;28mprint\u001b[39m(doggy\u001b[38;5;241m.\u001b[39m_name)  \u001b[38;5;66;03m# merge, desi nu e indicat sa facem asta\u001b[39;00m\n\u001b[1;32m----> 8\u001b[0m \u001b[38;5;28mprint\u001b[39m(\u001b[43mdoggy\u001b[49m\u001b[38;5;241;43m.\u001b[39;49m\u001b[43m__age\u001b[49m)\n",
      "\u001b[1;31mAttributeError\u001b[0m: 'Dog' object has no attribute '__age'"
     ]
    }
   ],
   "source": [
    "class Dog:\n",
    "    def __init__(self):\n",
    "        self._name = \"Pukii\"\n",
    "        self.__age = 11\n",
    "        \n",
    "doggy = Dog()\n",
    "print(doggy._name)  # merge, desi nu e indicat sa facem asta\n",
    "print(doggy.__age)  # eroare"
   ]
  },
  {
   "cell_type": "code",
   "execution_count": 52,
   "id": "87f6bd3a",
   "metadata": {},
   "outputs": [
    {
     "name": "stdout",
     "output_type": "stream",
     "text": [
      "denisa is 26 years old\n",
      "denisa\n",
      "denisa is 26 years old\n"
     ]
    }
   ],
   "source": [
    "# Sa presupunem ca avem o clasa Person care are 2 atribute, name si age si o metoda care afiseaza \"<name> is <age> years old\"\n",
    "class Person:\n",
    "    def __init__(self, name, age):\n",
    "        self.name = name\n",
    "        self.age = age\n",
    "        \n",
    "    def descriere_persoana(self):\n",
    "        print(f\"{self.name} is {self.age} years old\")\n",
    "        \n",
    "    def __str__(self):\n",
    "        return f\"{self.name} is {self.age} years old\"\n",
    "# pt a da print de obiect tre sa scriem metoda __str__\n",
    "        \n",
    "denisa = Person('denisa', 26)\n",
    "denisa.descriere_persoana()\n",
    "\n",
    "print(denisa.name)\n",
    "\n",
    "print(denisa)\n",
    "\n"
   ]
  },
  {
   "cell_type": "code",
   "execution_count": 65,
   "id": "e8e12df5",
   "metadata": {},
   "outputs": [
    {
     "name": "stdout",
     "output_type": "stream",
     "text": [
      "Denisa is 26 years old\n",
      "2000\n",
      "Gheorghe is 19 years old\n",
      "800\n"
     ]
    }
   ],
   "source": [
    "# Si mai avem o clasa Student, care evident e tot o persoana, dar are in plus 2 atribute, grade si scholarship (ambele float)\n",
    "# Clasa mai are si o metoda show_finance care returneaza valoarea bursei\n",
    "\n",
    "class Person:\n",
    "    def __init__(self, name, age):\n",
    "        self.name = name\n",
    "        self.age = age\n",
    "        \n",
    "    def descriere_persoana(self):\n",
    "        print(f\"{self.name} is {self.age} years old\")\n",
    "        \n",
    "    def __str__(self):\n",
    "        return f\"{self.name} is {self.age} years old\"\n",
    "\n",
    "class Student(Person):\n",
    "    \n",
    "    def __init__(self, name, age, grade, scholarship):\n",
    "        super().__init__(name, age)\n",
    "        self.grade = grade\n",
    "        self.scholarship = scholarship\n",
    "        \n",
    "    def show_finance(self):\n",
    "        return self.scholarship\n",
    "    \n",
    "    \n",
    "s1 = Student(\"Denisa\", 26, 9.80, 2000)\n",
    "s1.descriere_persoana()\n",
    "print(s1.show_finance ())   \n",
    "s2 = Student(\"Gheorghe\", 19, 7.80, 800)\n",
    "s2.descriere_persoana()\n",
    "print(s2.show_finance())"
   ]
  },
  {
   "cell_type": "code",
   "execution_count": null,
   "id": "18ffc1d7",
   "metadata": {},
   "outputs": [],
   "source": []
  }
 ],
 "metadata": {
  "kernelspec": {
   "display_name": "Python 3 (ipykernel)",
   "language": "python",
   "name": "python3"
  },
  "language_info": {
   "codemirror_mode": {
    "name": "ipython",
    "version": 3
   },
   "file_extension": ".py",
   "mimetype": "text/x-python",
   "name": "python",
   "nbconvert_exporter": "python",
   "pygments_lexer": "ipython3",
   "version": "3.10.6"
  }
 },
 "nbformat": 4,
 "nbformat_minor": 5
}
