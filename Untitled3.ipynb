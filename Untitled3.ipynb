{
 "cells": [
  {
   "cell_type": "code",
   "execution_count": 2,
   "id": "1c544550",
   "metadata": {},
   "outputs": [],
   "source": [
    "# Solutii Tema 2 "
   ]
  },
  {
   "cell_type": "code",
   "execution_count": null,
   "id": "a72b5a83",
   "metadata": {},
   "outputs": [],
   "source": []
  },
  {
   "cell_type": "code",
   "execution_count": 8,
   "id": "689031e4",
   "metadata": {},
   "outputs": [
    {
     "name": "stdout",
     "output_type": "stream",
     "text": [
      "Numarul nu e natural\n"
     ]
    }
   ],
   "source": [
    "# tre sa invatam sa scriem cod CURAT si ORDONAT\n",
    "# indentarea se face cu tab sau cu 4 spatii \n",
    "\n",
    "# ex 2: verifica si afiseaza daca x e nr natural sau nu\n",
    "\n",
    "x = 3.5 # numar natural = numar intreg mai mare sau egal cu 0\n",
    "\n",
    "if x >= 0 and isinstance(x, int): # daca ce punem pe prima pozitie e de tipul int sau nu (daca x-ul e int sau nu)\n",
    "    print('Numarul e natural')\n",
    "else:\n",
    "    print('Numarul nu e natural')"
   ]
  },
  {
   "cell_type": "code",
   "execution_count": 9,
   "id": "1f6e3418",
   "metadata": {},
   "outputs": [],
   "source": [
    "isinstance?"
   ]
  },
  {
   "cell_type": "code",
   "execution_count": 10,
   "id": "02002bc0",
   "metadata": {},
   "outputs": [
    {
     "name": "stdout",
     "output_type": "stream",
     "text": [
      "<class 'float'>\n"
     ]
    }
   ],
   "source": [
    "print(type(x))"
   ]
  },
  {
   "cell_type": "code",
   "execution_count": 14,
   "id": "a17fdd65",
   "metadata": {},
   "outputs": [
    {
     "name": "stdout",
     "output_type": "stream",
     "text": [
      "Introdu un numar: 3.5\n",
      "False\n",
      "True\n"
     ]
    }
   ],
   "source": [
    "# ex 4 Verifica si afiseaza daca x este intre -2 si 13\n",
    "\n",
    "x = float(input(\"Introdu un numar: \"))\n",
    "if x in range (-2, 13):\n",
    "    print(True)\n",
    "else:\n",
    "    print(False)\n",
    "    \n",
    "#solutie 2 ca sa mearga cu floats\n",
    "\n",
    "if x  >= -2 and x <= 13:\n",
    "    print(True)\n",
    "else:\n",
    "    print(False)\n",
    "    "
   ]
  },
  {
   "cell_type": "code",
   "execution_count": 16,
   "id": "36e98297",
   "metadata": {},
   "outputs": [],
   "source": [
    "# ex 5 verifica si afiseaza daca dif dintre x si y e mai mica decat 5\n",
    " # e bine cum ai facut"
   ]
  },
  {
   "cell_type": "code",
   "execution_count": 20,
   "id": "16d77cf0",
   "metadata": {},
   "outputs": [
    {
     "name": "stdout",
     "output_type": "stream",
     "text": [
      "Introduceti X:10\n",
      "Introduceti Y:3\n",
      "Diferenta e mai mica decat 5\n"
     ]
    }
   ],
   "source": [
    "# Daca as vrea sa verific ca dif dintre x si y sau y si x e mai mica decat 5\n",
    "\n",
    "x = int(input('Introduceti X:'))\n",
    "y = int(input('Introduceti Y:'))\n",
    "\n",
    "diff1 = x-y\n",
    "diff2 = y-x\n",
    "\n",
    "if diff1 < 5 or diff2 < 5:\n",
    "    print('Diferenta e mai mica decat 5')\n",
    "else:\n",
    "    print('Diferenta e mai mare decat 5')\n",
    "    # solutie incompleta"
   ]
  },
  {
   "cell_type": "code",
   "execution_count": 25,
   "id": "d9e3d319",
   "metadata": {},
   "outputs": [
    {
     "name": "stdout",
     "output_type": "stream",
     "text": [
      "Introduceti X:4\n",
      "Introduceti Y:100\n",
      "Diferenta e mai mare sau egala cu 5\n",
      "Diferenta e mai mica decat 5\n"
     ]
    }
   ],
   "source": [
    "x = int(input('Introduceti X:'))\n",
    "y = int(input('Introduceti Y:'))\n",
    "\n",
    "if x >= y:\n",
    "    diff = x-y\n",
    "else: \n",
    "    diff = y-x\n",
    "if diff < 5:\n",
    "    print('Diferenta e mai mica decat 5')\n",
    "else:\n",
    "    print('Diferenta e mai mare sau egala cu 5')\n",
    "# solutie corecta\n",
    "\n",
    "# v2\n",
    "if abs (x-y):\n",
    "    print('Diferenta e mai mica decat 5')\n",
    "else:\n",
    "    print('Dif e mai mare sau egala cu 5')"
   ]
  },
  {
   "cell_type": "code",
   "execution_count": 24,
   "id": "102c7ac1",
   "metadata": {},
   "outputs": [
    {
     "data": {
      "text/plain": [
       "6"
      ]
     },
     "execution_count": 24,
     "metadata": {},
     "output_type": "execute_result"
    }
   ],
   "source": [
    "abs(4-10) # valoare absoluta? -> cauta pe Google"
   ]
  },
  {
   "cell_type": "code",
   "execution_count": 28,
   "id": "8f8e6484",
   "metadata": {},
   "outputs": [
    {
     "name": "stdout",
     "output_type": "stream",
     "text": [
      "Introduceti o litera:A\n",
      "Litera e vocala\n"
     ]
    }
   ],
   "source": [
    "# ex 9: citeste o litera de la tastatura. verifica daca e vocala\n",
    "litera = input(\"Introduceti o litera:\")\n",
    "vocale = 'aeiou'\n",
    "\n",
    "if litera.lower() in vocale:\n",
    "    print('Litera e vocala')\n",
    "else:\n",
    "    print('Litera nu e vocala')"
   ]
  },
  {
   "cell_type": "code",
   "execution_count": 33,
   "id": "61095fff",
   "metadata": {},
   "outputs": [
    {
     "name": "stdout",
     "output_type": "stream",
     "text": [
      "Introduceti numarul: -123.456\n",
      "Nu are exact 6 cifre\n"
     ]
    }
   ],
   "source": [
    "# ex 12 Verifica daca un nr introdus de la tastatura x are exact 6 cifre\n",
    "\n",
    "x = float(input('Introduceti numarul: '))\n",
    "# print(len(str(x)))\n",
    "\n",
    "\n",
    "if len(str(x)) <= 6:\n",
    "    print('Are exact 6 cifre')\n",
    "else:\n",
    "    print('Nu are exact 6 cifre')"
   ]
  },
  {
   "cell_type": "code",
   "execution_count": 34,
   "id": "d356dc68",
   "metadata": {},
   "outputs": [
    {
     "data": {
      "text/plain": [
       "4"
      ]
     },
     "execution_count": 34,
     "metadata": {},
     "output_type": "execute_result"
    }
   ],
   "source": [
    "len('1232')"
   ]
  },
  {
   "cell_type": "code",
   "execution_count": 35,
   "id": "393158a0",
   "metadata": {},
   "outputs": [],
   "source": [
    "# Structuri de date aka Colectii"
   ]
  },
  {
   "cell_type": "code",
   "execution_count": 36,
   "id": "77e418a5",
   "metadata": {},
   "outputs": [
    {
     "data": {
      "text/plain": [
       "list"
      ]
     },
     "execution_count": 36,
     "metadata": {},
     "output_type": "execute_result"
    }
   ],
   "source": [
    "type([])"
   ]
  },
  {
   "cell_type": "code",
   "execution_count": 37,
   "id": "020e0e42",
   "metadata": {},
   "outputs": [
    {
     "data": {
      "text/plain": [
       "tuple"
      ]
     },
     "execution_count": 37,
     "metadata": {},
     "output_type": "execute_result"
    }
   ],
   "source": [
    "type ((1,2,3))"
   ]
  },
  {
   "cell_type": "code",
   "execution_count": 38,
   "id": "79d297ad",
   "metadata": {},
   "outputs": [],
   "source": [
    "# LIST:"
   ]
  },
  {
   "cell_type": "code",
   "execution_count": 39,
   "id": "12234682",
   "metadata": {},
   "outputs": [
    {
     "data": {
      "text/plain": [
       "[1, 2, 3, 4]"
      ]
     },
     "execution_count": 39,
     "metadata": {},
     "output_type": "execute_result"
    }
   ],
   "source": [
    "# Listele sunt niste variabile care pastreaza mai mult de o valoare inauntrul lor\n",
    "my_var = 10\n",
    "my_list = [1,2,3,4]\n",
    "my_list"
   ]
  },
  {
   "cell_type": "code",
   "execution_count": 41,
   "id": "ed13c3fa",
   "metadata": {},
   "outputs": [
    {
     "data": {
      "text/plain": [
       "[1, 'doi', 3, True, 3, 3, 8.3, [100, 2011, 300], (1, 2, 3), {'key': 'val'}]"
      ]
     },
     "execution_count": 41,
     "metadata": {},
     "output_type": "execute_result"
    }
   ],
   "source": [
    "my_list = [1, 'doi', 3, True, 3, 3, 8.3, [100,2011,300], (1,2,3), {'key': 'val'}] # putem pune orice\n",
    "my_list"
   ]
  },
  {
   "cell_type": "code",
   "execution_count": 42,
   "id": "9d951f2f",
   "metadata": {},
   "outputs": [
    {
     "data": {
      "text/plain": [
       "1"
      ]
     },
     "execution_count": 42,
     "metadata": {},
     "output_type": "execute_result"
    }
   ],
   "source": [
    "my_list[0] # lista e indexata"
   ]
  },
  {
   "cell_type": "code",
   "execution_count": 43,
   "id": "3dd5804f",
   "metadata": {},
   "outputs": [
    {
     "data": {
      "text/plain": [
       "{'key': 'val'}"
      ]
     },
     "execution_count": 43,
     "metadata": {},
     "output_type": "execute_result"
    }
   ],
   "source": [
    "my_list[-1]"
   ]
  },
  {
   "cell_type": "code",
   "execution_count": 44,
   "id": "315222a0",
   "metadata": {},
   "outputs": [
    {
     "data": {
      "text/plain": [
       "'doi'"
      ]
     },
     "execution_count": 44,
     "metadata": {},
     "output_type": "execute_result"
    }
   ],
   "source": [
    "my_list[1]"
   ]
  },
  {
   "cell_type": "code",
   "execution_count": 45,
   "id": "c462fee7",
   "metadata": {},
   "outputs": [
    {
     "data": {
      "text/plain": [
       "[100, 'doi', 3, True, 3, 3, 8.3, [100, 2011, 300], (1, 2, 3), {'key': 'val'}]"
      ]
     },
     "execution_count": 45,
     "metadata": {},
     "output_type": "execute_result"
    }
   ],
   "source": [
    "# cu ajutorul indecsilor, ii putem chiar modifica valorile:\n",
    "my_list[0] = 100\n",
    "my_list"
   ]
  },
  {
   "cell_type": "code",
   "execution_count": 46,
   "id": "a130ed28",
   "metadata": {},
   "outputs": [
    {
     "data": {
      "text/plain": [
       "[100,\n",
       " 'doi',\n",
       " 3,\n",
       " True,\n",
       " 3,\n",
       " 3,\n",
       " 8.3,\n",
       " [100, 2011, 300],\n",
       " (1, 2, 3),\n",
       " {'key': 'val'},\n",
       " None]"
      ]
     },
     "execution_count": 46,
     "metadata": {},
     "output_type": "execute_result"
    }
   ],
   "source": [
    "# putem adauga noi valori la lista:\n",
    "my_list.append(None)\n",
    "my_list\n",
    "\n",
    "# lista e mutabila fiindca se poate modifica fara suprascriere"
   ]
  },
  {
   "cell_type": "code",
   "execution_count": 55,
   "id": "ebf95c58",
   "metadata": {},
   "outputs": [
    {
     "name": "stdout",
     "output_type": "stream",
     "text": [
      "None\n"
     ]
    }
   ],
   "source": [
    "print(my_list[-1])"
   ]
  },
  {
   "cell_type": "code",
   "execution_count": 56,
   "id": "4b4de9a1",
   "metadata": {},
   "outputs": [
    {
     "ename": "TypeError",
     "evalue": "'str' object does not support item assignment",
     "output_type": "error",
     "traceback": [
      "\u001b[1;31m---------------------------------------------------------------------------\u001b[0m",
      "\u001b[1;31mTypeError\u001b[0m                                 Traceback (most recent call last)",
      "Input \u001b[1;32mIn [56]\u001b[0m, in \u001b[0;36m<cell line: 2>\u001b[1;34m()\u001b[0m\n\u001b[0;32m      1\u001b[0m s \u001b[38;5;241m=\u001b[39m \u001b[38;5;124m'\u001b[39m\u001b[38;5;124mabc\u001b[39m\u001b[38;5;124m'\u001b[39m \u001b[38;5;66;03m# cum fac sa ii adaug 'd' la final? sa devina abcd\u001b[39;00m\n\u001b[1;32m----> 2\u001b[0m \u001b[43ms\u001b[49m\u001b[43m[\u001b[49m\u001b[38;5;241;43m-\u001b[39;49m\u001b[38;5;241;43m1\u001b[39;49m\u001b[43m]\u001b[49m \u001b[38;5;241m=\u001b[39m \u001b[38;5;124m'\u001b[39m\u001b[38;5;124md\u001b[39m\u001b[38;5;124m'\u001b[39m\n",
      "\u001b[1;31mTypeError\u001b[0m: 'str' object does not support item assignment"
     ]
    }
   ],
   "source": [
    "s = 'abc' # cum fac sa ii adaug 'd' la final? sa devina abcd\n",
    "s[-1] = 'd' # eroare, stringul e imutabil, necesita reatribuire"
   ]
  },
  {
   "cell_type": "code",
   "execution_count": 53,
   "id": "99247895",
   "metadata": {},
   "outputs": [
    {
     "name": "stdout",
     "output_type": "stream",
     "text": [
      "abcd\n"
     ]
    }
   ],
   "source": [
    "# stringul trebuia suprascris\n",
    "s = 'abc'\n",
    "# s = s + 'd'\n",
    "s += 'd'\n",
    "print(s)"
   ]
  },
  {
   "cell_type": "code",
   "execution_count": 58,
   "id": "23e4c7b2",
   "metadata": {},
   "outputs": [
    {
     "data": {
      "text/plain": [
       "[100,\n",
       " 'doi',\n",
       " 'avion',\n",
       " 'avion',\n",
       " 3,\n",
       " True,\n",
       " 3,\n",
       " 3,\n",
       " 8.3,\n",
       " [100, 2011, 300],\n",
       " (1, 2, 3),\n",
       " {'key': 'val'},\n",
       " None]"
      ]
     },
     "execution_count": 58,
     "metadata": {},
     "output_type": "execute_result"
    }
   ],
   "source": [
    "#putem adauga un element nou si pe un anumit index\n",
    "my_list.insert(2, 'avion')\n",
    "my_list"
   ]
  },
  {
   "cell_type": "code",
   "execution_count": 59,
   "id": "cac1ebac",
   "metadata": {},
   "outputs": [],
   "source": [
    "# toate valorile s-au mutat la dreapta pt a ii face loc lui 'avion'"
   ]
  },
  {
   "cell_type": "code",
   "execution_count": 60,
   "id": "722975f6",
   "metadata": {},
   "outputs": [
    {
     "data": {
      "text/plain": [
       "[100,\n",
       " 'doi',\n",
       " 'avion',\n",
       " 'avion',\n",
       " 3,\n",
       " True,\n",
       " 3,\n",
       " 3,\n",
       " [100, 2011, 300],\n",
       " (1, 2, 3),\n",
       " {'key': 'val'},\n",
       " None]"
      ]
     },
     "execution_count": 60,
     "metadata": {},
     "output_type": "execute_result"
    }
   ],
   "source": [
    "my_list.remove(8.3)\n",
    "my_list"
   ]
  },
  {
   "cell_type": "code",
   "execution_count": 62,
   "id": "30a35352",
   "metadata": {},
   "outputs": [
    {
     "data": {
      "text/plain": [
       "[100,\n",
       " 'doi',\n",
       " 'avion',\n",
       " 'avion',\n",
       " True,\n",
       " 3,\n",
       " [100, 2011, 300],\n",
       " (1, 2, 3),\n",
       " {'key': 'val'},\n",
       " None]"
      ]
     },
     "execution_count": 62,
     "metadata": {},
     "output_type": "execute_result"
    }
   ],
   "source": [
    "# atentie! se sterge doar prima aparitie a elementului\n",
    "my_list.remove(3)\n",
    "my_list"
   ]
  },
  {
   "cell_type": "code",
   "execution_count": 64,
   "id": "af44b107",
   "metadata": {},
   "outputs": [
    {
     "data": {
      "text/plain": [
       "[100, 'doi', 'avion', 'avion', True, 3, [100, 2011, 300], (1, 2, 3)]"
      ]
     },
     "execution_count": 64,
     "metadata": {},
     "output_type": "execute_result"
    }
   ],
   "source": [
    "# putem sterge si de pe un index\n",
    "del my_list[-1] # fctia del e mereu cu spatiu\n",
    "my_list"
   ]
  },
  {
   "cell_type": "code",
   "execution_count": 65,
   "id": "53e5bae7",
   "metadata": {},
   "outputs": [
    {
     "data": {
      "text/plain": [
       "False"
      ]
     },
     "execution_count": 65,
     "metadata": {},
     "output_type": "execute_result"
    }
   ],
   "source": [
    "[1,2,3] == [2,1,3] # e False\n",
    "# -> lista e ordonata"
   ]
  },
  {
   "cell_type": "code",
   "execution_count": 66,
   "id": "f7cf4f76",
   "metadata": {},
   "outputs": [
    {
     "data": {
      "text/plain": [
       "1"
      ]
     },
     "execution_count": 66,
     "metadata": {},
     "output_type": "execute_result"
    }
   ],
   "source": [
    "# Ce mai putem face cu listele?\n",
    "my_list.count(3) #fctia count numara de cate ori apare"
   ]
  },
  {
   "cell_type": "code",
   "execution_count": 67,
   "id": "462878ce",
   "metadata": {},
   "outputs": [
    {
     "name": "stdout",
     "output_type": "stream",
     "text": [
      "<class 'list'>\n"
     ]
    }
   ],
   "source": [
    "print(type(my_list))"
   ]
  },
  {
   "cell_type": "code",
   "execution_count": 70,
   "id": "94518345",
   "metadata": {},
   "outputs": [
    {
     "data": {
      "text/plain": [
       "4"
      ]
     },
     "execution_count": 70,
     "metadata": {},
     "output_type": "execute_result"
    }
   ],
   "source": [
    "lst = [11, 3, 26, 2, 1, 14, 13]\n",
    "\n",
    "####    0  1  2   3  4\n",
    "\n",
    "lst.index(1)"
   ]
  },
  {
   "cell_type": "code",
   "execution_count": 71,
   "id": "39c74c97",
   "metadata": {},
   "outputs": [
    {
     "data": {
      "text/plain": [
       "7"
      ]
     },
     "execution_count": 71,
     "metadata": {},
     "output_type": "execute_result"
    }
   ],
   "source": [
    "len(lst)"
   ]
  },
  {
   "cell_type": "code",
   "execution_count": 72,
   "id": "51af60f1",
   "metadata": {},
   "outputs": [
    {
     "data": {
      "text/plain": [
       "[26, 14, 13, 11, 3, 2, 1]"
      ]
     },
     "execution_count": 72,
     "metadata": {},
     "output_type": "execute_result"
    }
   ],
   "source": [
    "lst.sort(reverse=True)\n",
    "lst"
   ]
  },
  {
   "cell_type": "code",
   "execution_count": 75,
   "id": "c864d80b",
   "metadata": {},
   "outputs": [
    {
     "name": "stdout",
     "output_type": "stream",
     "text": [
      "[1, 2, 4, 5, 7]\n",
      "[5, 1, 2, 7, 4]\n"
     ]
    }
   ],
   "source": [
    "lst = [5,1,2,7,4]\n",
    "sorted_lst = sorted(lst)\n",
    "print(sorted_lst)\n",
    "print(lst)\n",
    "\n",
    "#ai si lista sortata si cea originala"
   ]
  },
  {
   "cell_type": "code",
   "execution_count": 80,
   "id": "13d74a5c",
   "metadata": {},
   "outputs": [
    {
     "name": "stdout",
     "output_type": "stream",
     "text": [
      "a\n",
      "c\n",
      "False\n",
      "[100, 'b', 'c', 'd']\n"
     ]
    }
   ],
   "source": [
    "# Proprietati lista:\n",
    "lst = ['a', 'b', 'c']\n",
    "\n",
    "#######     0    1     2\n",
    "\n",
    "# 1) lista e indexata\n",
    "print(lst[0])\n",
    "print(lst[-1])\n",
    "\n",
    "# e) lista e ordonata\n",
    "l1 = [1,2,3]\n",
    "l2 = [2,1,3]\n",
    "print(l1 == l2) # False, conteaza ordinea\n",
    "\n",
    "# 3) lista e mutabila\n",
    "lst = ['a', 'b', 'c']\n",
    "lst.append('d') # adaug o noua val\n",
    "lst[0] = 100 # sau chiar modifica o val\n",
    "print(lst)\n",
    "\n",
    "#se intreaba mult la interviuri, DE RETINUT NEAPARAT!!"
   ]
  },
  {
   "cell_type": "code",
   "execution_count": null,
   "id": "1c7306f8",
   "metadata": {},
   "outputs": [],
   "source": []
  },
  {
   "cell_type": "code",
   "execution_count": 81,
   "id": "db0ec292",
   "metadata": {},
   "outputs": [],
   "source": [
    "# TUPLE"
   ]
  },
  {
   "cell_type": "code",
   "execution_count": 82,
   "id": "8f2dedfb",
   "metadata": {},
   "outputs": [],
   "source": [
    "# tuplele sunt colectii (structuri de date) similare cu listele, cu exceptia ca sunt imutabile (odata create nu pot fi modificate)"
   ]
  },
  {
   "cell_type": "code",
   "execution_count": 83,
   "id": "90ac514c",
   "metadata": {},
   "outputs": [],
   "source": [
    "my_tuple = (1, 'doi', 3, True, 3, 7.4)\n",
    "#sintaxa e cu ()"
   ]
  },
  {
   "cell_type": "code",
   "execution_count": 84,
   "id": "90f0d669",
   "metadata": {},
   "outputs": [],
   "source": [
    "my_tuple = (1, 'doi', 3, True, 3, 7.4, ('q', 'w')) # putem pune si [1,2,3], {'key':, 'val'} dar nu e recomandat"
   ]
  },
  {
   "cell_type": "code",
   "execution_count": 85,
   "id": "0b7e18d1",
   "metadata": {},
   "outputs": [
    {
     "data": {
      "text/plain": [
       "1"
      ]
     },
     "execution_count": 85,
     "metadata": {},
     "output_type": "execute_result"
    }
   ],
   "source": [
    "my_tuple[0]\n",
    "\n",
    "# -> tuplele sunt indexate"
   ]
  },
  {
   "cell_type": "code",
   "execution_count": 86,
   "id": "9d7e2c48",
   "metadata": {},
   "outputs": [
    {
     "data": {
      "text/plain": [
       "('q', 'w')"
      ]
     },
     "execution_count": 86,
     "metadata": {},
     "output_type": "execute_result"
    }
   ],
   "source": [
    "my_tuple[-1]"
   ]
  },
  {
   "cell_type": "code",
   "execution_count": 87,
   "id": "4fc6ba05",
   "metadata": {},
   "outputs": [
    {
     "data": {
      "text/plain": [
       "False"
      ]
     },
     "execution_count": 87,
     "metadata": {},
     "output_type": "execute_result"
    }
   ],
   "source": [
    "(1,2,3) == (2,1,3)\n",
    "\n",
    "# -> tuplele sunt ordonate"
   ]
  },
  {
   "cell_type": "code",
   "execution_count": 88,
   "id": "10c3c4c3",
   "metadata": {},
   "outputs": [
    {
     "ename": "TypeError",
     "evalue": "'tuple' object does not support item assignment",
     "output_type": "error",
     "traceback": [
      "\u001b[1;31m---------------------------------------------------------------------------\u001b[0m",
      "\u001b[1;31mTypeError\u001b[0m                                 Traceback (most recent call last)",
      "Input \u001b[1;32mIn [88]\u001b[0m, in \u001b[0;36m<cell line: 1>\u001b[1;34m()\u001b[0m\n\u001b[1;32m----> 1\u001b[0m \u001b[43mmy_tuple\u001b[49m\u001b[43m[\u001b[49m\u001b[38;5;241;43m0\u001b[39;49m\u001b[43m]\u001b[49m \u001b[38;5;241m=\u001b[39m \u001b[38;5;241m100\u001b[39m\n",
      "\u001b[1;31mTypeError\u001b[0m: 'tuple' object does not support item assignment"
     ]
    }
   ],
   "source": [
    "my_tuple[0] = 100 # eroare\n",
    "\n",
    "# -> tuple sunt imutabile (odata create nu pot fi modif !!)"
   ]
  },
  {
   "cell_type": "code",
   "execution_count": 89,
   "id": "e95a3ba0",
   "metadata": {},
   "outputs": [
    {
     "data": {
      "text/plain": [
       "1"
      ]
     },
     "execution_count": 89,
     "metadata": {},
     "output_type": "execute_result"
    }
   ],
   "source": [
    "my_tuple.index('doi')"
   ]
  },
  {
   "cell_type": "code",
   "execution_count": 90,
   "id": "d99b3837",
   "metadata": {},
   "outputs": [
    {
     "data": {
      "text/plain": [
       "2"
      ]
     },
     "execution_count": 90,
     "metadata": {},
     "output_type": "execute_result"
    }
   ],
   "source": [
    "my_tuple.count(3)"
   ]
  },
  {
   "cell_type": "code",
   "execution_count": 91,
   "id": "35039b65",
   "metadata": {},
   "outputs": [
    {
     "data": {
      "text/plain": [
       "7"
      ]
     },
     "execution_count": 91,
     "metadata": {},
     "output_type": "execute_result"
    }
   ],
   "source": [
    "len(my_tuple)"
   ]
  },
  {
   "cell_type": "code",
   "execution_count": 92,
   "id": "35b0c1b5",
   "metadata": {},
   "outputs": [],
   "source": [
    "# my_tuple.insert(1, 'avioane')"
   ]
  },
  {
   "cell_type": "code",
   "execution_count": null,
   "id": "bfdc7194",
   "metadata": {},
   "outputs": [],
   "source": []
  },
  {
   "cell_type": "code",
   "execution_count": 95,
   "id": "72225441",
   "metadata": {},
   "outputs": [
    {
     "name": "stdout",
     "output_type": "stream",
     "text": [
      "12 0.8\n",
      "True\n",
      "False\n"
     ]
    }
   ],
   "source": [
    "# Proprietati tupla:\n",
    "t = (12, True, 'abc', 0.8)\n",
    "\n",
    "#tupla e indexata\n",
    "print (t[0], t[-1])\n",
    "\n",
    "#tupla e ordonata\n",
    "t1 = (1,2,3)\n",
    "t2 = (1,2,3)\n",
    "t3 = (3,2,1)\n",
    "print(t1 == t2)\n",
    "print(t1 == t3)\n",
    "\n",
    "#tupla e imutabila\n",
    "# t[0] = 1000 # eroare"
   ]
  },
  {
   "cell_type": "code",
   "execution_count": null,
   "id": "bd339666",
   "metadata": {},
   "outputs": [],
   "source": []
  },
  {
   "cell_type": "code",
   "execution_count": 98,
   "id": "0be0b3c3",
   "metadata": {},
   "outputs": [
    {
     "name": "stdout",
     "output_type": "stream",
     "text": [
      "('a', 10, 'b', 1234)\n"
     ]
    }
   ],
   "source": [
    "# Avem tupla t = ('a', 10, 'b') si vrem sa adaugam val 1234, obtinand tupla ('a', 10, 'b', 1234)?\n",
    "t = ('a', 10, 'b')\n",
    "\n",
    "t = list(t)\n",
    "t.append(1234)\n",
    "t = tuple(t)\n",
    "print(t)\n",
    "\n",
    "#am transformat in lista, am editat cu ce ne-a trebuit si am transofrmat o inapoi in tupla"
   ]
  },
  {
   "cell_type": "code",
   "execution_count": 101,
   "id": "80bcbc6b",
   "metadata": {},
   "outputs": [
    {
     "name": "stdout",
     "output_type": "stream",
     "text": [
      "x=10, y=5\n"
     ]
    }
   ],
   "source": [
    "# Exercitiu ce va poate ajuta la interviuri:\n",
    "\n",
    "#Daca avem x = 5 si y = 10, cum facem sa le inteschimba valorile?\n",
    "#Adica x sa devina 10, iar y 5\n",
    "\n",
    "x = 5\n",
    "y = 10\n",
    "\n",
    "#varianta clasica din celelate limbaje de progr\n",
    "#aux = x\n",
    "#x = y \n",
    "#y = aux\n",
    "#print(f'x={x}, y={y}')\n",
    "\n",
    "#Varianta smechera a Pythonului\n",
    "\n",
    "x,y = y,x # se numeste tuple unpacking!\n",
    "#practic (x, y) = (y, x) asa sa v o imaginati\n",
    "print(f'x={x}, y={y}')\n",
    "\n",
    "#Tuple unpacking se foloseste frecvent la functii cand se returneaza mai mult de o valoare"
   ]
  },
  {
   "cell_type": "code",
   "execution_count": 105,
   "id": "32fcc967",
   "metadata": {},
   "outputs": [
    {
     "name": "stdout",
     "output_type": "stream",
     "text": [
      "(1, 2)\n",
      "<class 'tuple'>\n",
      "1\n",
      "2\n",
      "<class 'int'>\n"
     ]
    }
   ],
   "source": [
    "# inca nu am facut, dar e un ex. \n",
    "def my_func():\n",
    "    return 1,2\n",
    "\n",
    "returned_val = my_func()\n",
    "print(returned_val)\n",
    "print(type(returned_val))\n",
    "\n",
    "a,b = my_func()\n",
    "print(a)\n",
    "print(b)\n",
    "print(type(a))"
   ]
  },
  {
   "cell_type": "code",
   "execution_count": null,
   "id": "3ca92f44",
   "metadata": {},
   "outputs": [],
   "source": []
  },
  {
   "cell_type": "code",
   "execution_count": 106,
   "id": "9f711dcb",
   "metadata": {},
   "outputs": [],
   "source": [
    "# DICT"
   ]
  },
  {
   "cell_type": "code",
   "execution_count": 107,
   "id": "eef4b3aa",
   "metadata": {},
   "outputs": [],
   "source": [
    "# dictionarele sunt colectii/structuri de date care stocheaza elemente sub forma cheie:valoare"
   ]
  },
  {
   "cell_type": "code",
   "execution_count": 114,
   "id": "5c3977b9",
   "metadata": {},
   "outputs": [],
   "source": [
    "my_dict ={\n",
    "    \"brand\": \"Tesla\",\n",
    "    \"model\": \"X\",\n",
    "    \"year\": 2022,\n",
    "    \"is_licensed\": True,\n",
    "    5: 10,\n",
    "    2.1: \"two point one\",\n",
    "    \"available_models\": ['X', 'Y', 'S', '3'],\n",
    "    \"specs\": {\"top_speed\": \"250kmh\", \"range\": \"650km\"},\n",
    "    (1,2,3): 'o valore',\n",
    "    \n",
    "}\n",
    "\n",
    "# !! cheile din dict nu pot fi tipuri de date imutabile"
   ]
  },
  {
   "cell_type": "code",
   "execution_count": 115,
   "id": "eca02e02",
   "metadata": {},
   "outputs": [
    {
     "ename": "TypeError",
     "evalue": "unhashable type: 'list'",
     "output_type": "error",
     "traceback": [
      "\u001b[1;31m---------------------------------------------------------------------------\u001b[0m",
      "\u001b[1;31mTypeError\u001b[0m                                 Traceback (most recent call last)",
      "Input \u001b[1;32mIn [115]\u001b[0m, in \u001b[0;36m<cell line: 2>\u001b[1;34m()\u001b[0m\n\u001b[0;32m      1\u001b[0m \u001b[38;5;66;03m# Atentie !! Nu putem avea o lista drept cheie in dict\u001b[39;00m\n\u001b[1;32m----> 2\u001b[0m d \u001b[38;5;241m=\u001b[39m {[\u001b[38;5;241m1\u001b[39m,\u001b[38;5;241m2\u001b[39m,\u001b[38;5;241m3\u001b[39m]: \u001b[38;5;124m'\u001b[39m\u001b[38;5;124mvaloare\u001b[39m\u001b[38;5;124m'\u001b[39m}\n",
      "\u001b[1;31mTypeError\u001b[0m: unhashable type: 'list'"
     ]
    }
   ],
   "source": [
    "# Atentie !! Nu putem avea o lista drept cheie in dict\n",
    "d = {[1,2,3]: 'valoare'} # eroare\n",
    "\n",
    "# Lista e mutabila, python nu poate risca asta, in spate, in memorie valoarea e asociata cheii si e stocata\n",
    "# intr o zona de memorie calculata pe baza acestei chei"
   ]
  },
  {
   "cell_type": "code",
   "execution_count": 116,
   "id": "bd7e8797",
   "metadata": {},
   "outputs": [
    {
     "name": "stdout",
     "output_type": "stream",
     "text": [
      "{('a', 'b', 'c'): 'ahaa'}\n"
     ]
    }
   ],
   "source": [
    "# Codul urmator da sau nu eroarE?\n",
    "t = ('a', 'b', 'c')\n",
    "d = {t: 'ahaa'}\n",
    "print(d)"
   ]
  },
  {
   "cell_type": "code",
   "execution_count": 117,
   "id": "811857d8",
   "metadata": {},
   "outputs": [
    {
     "name": "stdout",
     "output_type": "stream",
     "text": [
      "Tesla\n"
     ]
    }
   ],
   "source": [
    "# dictionarului putem sa ii accesam calorile prin intermediul cheilor\n",
    "print(my_dict['brand'])\n",
    "\n",
    "# nu prin indecsi ca la str, list sau tuple\n",
    "# print(my_dict[0]) # eroare\n",
    "\n",
    "# -> dict e neindexat"
   ]
  },
  {
   "cell_type": "code",
   "execution_count": 118,
   "id": "887367a5",
   "metadata": {},
   "outputs": [
    {
     "data": {
      "text/plain": [
       "dict_keys(['brand', 'model', 'year', 'is_licensed', 5, 2.1, 'available_models', 'specs', (1, 2, 3)])"
      ]
     },
     "execution_count": 118,
     "metadata": {},
     "output_type": "execute_result"
    }
   ],
   "source": [
    "my_dict.keys() # afiseaza cheile in ordinea in care au fost introduse\n",
    "\n",
    "# -> dict e ordonat! (in py2 nu era!)"
   ]
  },
  {
   "cell_type": "code",
   "execution_count": 119,
   "id": "7567cda6",
   "metadata": {},
   "outputs": [
    {
     "data": {
      "text/plain": [
       "{'brand': 'Tesla',\n",
       " 'model': 'X',\n",
       " 'year': 2022,\n",
       " 'is_licensed': True,\n",
       " 5: 10,\n",
       " 2.1: 'two point one',\n",
       " 'available_models': ['X', 'Y', 'S', '3'],\n",
       " 'specs': {'top_speed': '250kmh', 'range': '650km'},\n",
       " (1, 2, 3): 'o valore',\n",
       " 'engine': 'electric'}"
      ]
     },
     "execution_count": 119,
     "metadata": {},
     "output_type": "execute_result"
    }
   ],
   "source": [
    "# putem adauga noi elemente in dict?\n",
    "my_dict['engine'] = 'electric'\n",
    "my_dict"
   ]
  },
  {
   "cell_type": "code",
   "execution_count": 120,
   "id": "cc3c1f73",
   "metadata": {},
   "outputs": [
    {
     "data": {
      "text/plain": [
       "{'brand': 'Tesla',\n",
       " 'model': 'S',\n",
       " 'year': 2022,\n",
       " 'is_licensed': True,\n",
       " 5: 10,\n",
       " 2.1: 'two point one',\n",
       " 'available_models': ['X', 'Y', 'S', '3'],\n",
       " 'specs': {'top_speed': '250kmh', 'range': '650km'},\n",
       " (1, 2, 3): 'o valore',\n",
       " 'engine': 'electric'}"
      ]
     },
     "execution_count": 120,
     "metadata": {},
     "output_type": "execute_result"
    }
   ],
   "source": [
    "# putem modifica anumite valori: \n",
    "my_dict['model'] = \"S\"\n",
    "my_dict\n",
    "\n",
    "# -> dict e mutabil"
   ]
  },
  {
   "cell_type": "code",
   "execution_count": 121,
   "id": "dfd0162b",
   "metadata": {},
   "outputs": [
    {
     "data": {
      "text/plain": [
       "{'brand': 'Tesla',\n",
       " 'model': 'S',\n",
       " 'is_licensed': True,\n",
       " 5: 10,\n",
       " 2.1: 'two point one',\n",
       " 'available_models': ['X', 'Y', 'S', '3'],\n",
       " 'specs': {'top_speed': '250kmh', 'range': '650km'},\n",
       " (1, 2, 3): 'o valore',\n",
       " 'engine': 'electric'}"
      ]
     },
     "execution_count": 121,
     "metadata": {},
     "output_type": "execute_result"
    }
   ],
   "source": [
    "# putem sa stergem elemente (cheie:val)\n",
    "del my_dict['year']\n",
    "my_dict"
   ]
  },
  {
   "cell_type": "code",
   "execution_count": 126,
   "id": "ff32255c",
   "metadata": {},
   "outputs": [
    {
     "ename": "KeyError",
     "evalue": "5",
     "output_type": "error",
     "traceback": [
      "\u001b[1;31m---------------------------------------------------------------------------\u001b[0m",
      "\u001b[1;31mKeyError\u001b[0m                                  Traceback (most recent call last)",
      "Input \u001b[1;32mIn [126]\u001b[0m, in \u001b[0;36m<cell line: 2>\u001b[1;34m()\u001b[0m\n\u001b[0;32m      1\u001b[0m \u001b[38;5;66;03m# putem sterge returnand valoarea\u001b[39;00m\n\u001b[1;32m----> 2\u001b[0m val \u001b[38;5;241m=\u001b[39m \u001b[43mmy_dict\u001b[49m\u001b[38;5;241;43m.\u001b[39;49m\u001b[43mpop\u001b[49m\u001b[43m(\u001b[49m\u001b[38;5;241;43m5\u001b[39;49m\u001b[43m)\u001b[49m\n\u001b[0;32m      3\u001b[0m \u001b[38;5;28mprint\u001b[39m(val)\n\u001b[0;32m      4\u001b[0m my_dict\n",
      "\u001b[1;31mKeyError\u001b[0m: 5"
     ]
    }
   ],
   "source": [
    "# putem sterge returnand valoarea\n",
    "val = my_dict.pop(5)\n",
    "print(val)\n",
    "my_dict"
   ]
  },
  {
   "cell_type": "code",
   "execution_count": 128,
   "id": "2fb2bdb8",
   "metadata": {},
   "outputs": [
    {
     "data": {
      "text/plain": [
       "'650km'"
      ]
     },
     "execution_count": 128,
     "metadata": {},
     "output_type": "execute_result"
    }
   ],
   "source": [
    "# Cum credeti ca returnam range-ul? \n",
    "my_dict['specs']['range'] #nested dict"
   ]
  },
  {
   "cell_type": "code",
   "execution_count": 129,
   "id": "ad262ad5",
   "metadata": {},
   "outputs": [
    {
     "name": "stdout",
     "output_type": "stream",
     "text": [
      "Tesla\n",
      "dict_keys(['brand', 'model', 'is_licensed', 2.1, 'available_models', 'specs', (1, 2, 3), 'engine'])\n",
      "{'brand': 'Tesla', 'model': 'S', 'is_licensed': True, 2.1: 'two point one', 'available_models': ['X', 'Y', 'S', '3'], 'specs': {'top_speed': '250kmh', 'range': '650km'}, (1, 2, 3): 'o valore', 'engine': 'electric', 'year': 2021}\n"
     ]
    }
   ],
   "source": [
    "# Proprietati dict:\n",
    "my_d = {'brand': 'Tesla', 'model': 'S', 'year': 2022 }\n",
    "\n",
    "#dict e neindexat !!\n",
    "print(my_dict['brand'])\n",
    "#print(my_dict[0]) #eroare\n",
    "\n",
    "#dict e ordonat!!\n",
    "print(my_dict.keys()) # afisate in ordinea introdusa\n",
    "\n",
    "#dict e mutabil!!\n",
    "my_dict['year'] = 2021\n",
    "print(my_dict)"
   ]
  },
  {
   "cell_type": "code",
   "execution_count": null,
   "id": "67fb67ec",
   "metadata": {},
   "outputs": [],
   "source": []
  }
 ],
 "metadata": {
  "kernelspec": {
   "display_name": "Python 3 (ipykernel)",
   "language": "python",
   "name": "python3"
  },
  "language_info": {
   "codemirror_mode": {
    "name": "ipython",
    "version": 3
   },
   "file_extension": ".py",
   "mimetype": "text/x-python",
   "name": "python",
   "nbconvert_exporter": "python",
   "pygments_lexer": "ipython3",
   "version": "3.10.6"
  }
 },
 "nbformat": 4,
 "nbformat_minor": 5
}
