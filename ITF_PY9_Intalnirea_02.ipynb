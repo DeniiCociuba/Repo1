{
 "cells": [
  {
   "cell_type": "markdown",
   "id": "78039b36",
   "metadata": {},
   "source": [
    "# Solutii Tema 01"
   ]
  },
  {
   "cell_type": "code",
   "execution_count": 1,
   "id": "380e5151",
   "metadata": {},
   "outputs": [
    {
     "data": {
      "text/plain": [
       "bool"
      ]
     },
     "execution_count": 1,
     "metadata": {},
     "output_type": "execute_result"
    }
   ],
   "source": [
    "name = 'Ioan'\n",
    "absolvent_itf = False  # atentie sa nu punem ghilimele cand ne dorim un bool\n",
    "type(absolvent_itf)"
   ]
  },
  {
   "cell_type": "code",
   "execution_count": 5,
   "id": "1500a290",
   "metadata": {},
   "outputs": [
    {
     "name": "stdout",
     "output_type": "stream",
     "text": [
      "something\n"
     ]
    }
   ],
   "source": [
    "print('something');  # ; la final nu da eroare, dar nici nu e Pythonesque"
   ]
  },
  {
   "cell_type": "code",
   "execution_count": 10,
   "id": "509c4f5f",
   "metadata": {},
   "outputs": [
    {
     "name": "stdout",
     "output_type": "stream",
     "text": [
      "Introdu nume: q\n",
      "Introdu prenume: w\n",
      "Numele complet are 2 caractere.\n"
     ]
    }
   ],
   "source": [
    "# ex 6.:\n",
    "# citeste de la tastatura numele\n",
    "# citeste de la tastatura prenumele\n",
    "# afiseaza 'Numele complet are x caractere'\n",
    "\n",
    "# unele pers au facut confuzie...\n",
    "nume = input('Introdu nume: ')\n",
    "prenume = input('Introdu prenume: ')\n",
    "\n",
    "# print(nume, prenume)\n",
    "print(f\"Numele complet are {len(nume + prenume)} caractere.\")  # concateneaza"
   ]
  },
  {
   "cell_type": "code",
   "execution_count": 16,
   "id": "49c01db7",
   "metadata": {},
   "outputs": [
    {
     "name": "stdout",
     "output_type": "stream",
     "text": [
      "Coral is eiTHEr THE stupidest animal or THE smartest rock\n"
     ]
    }
   ],
   "source": [
    "# ex 9.: Avand stringul: 'Coral is either the stupidest animal or the smartest rock'\n",
    "# inlocuieste the cu THE peste tot printeaza rezultatul\n",
    "\n",
    "str1 = 'Coral is either the stupidest animal or the smartest rock'\n",
    "str1 = str1.replace(\"the\", \"THE\")\n",
    "print(str1)"
   ]
  },
  {
   "cell_type": "code",
   "execution_count": 32,
   "id": "65c066e6",
   "metadata": {},
   "outputs": [
    {
     "data": {
      "text/plain": [
       "3"
      ]
     },
     "execution_count": 32,
     "metadata": {},
     "output_type": "execute_result"
    }
   ],
   "source": [
    "# ex9_2: daca am fi avut propozitia: \"The coral is either the stupidest animal or the smartest rock, love it or loathe it\"\n",
    "# si am fi vrut sa calculam de cate ori apare cuvantul the, nu insiruirea de caractere?\n",
    "# => 3 \"<The> coral is either <the> stupidest animal or <the> smartest rock, love it or loathe it\"\n",
    "\n",
    "s1 = \"The coral is either the stupidest animal or the smartest rock, love it or loathe it\"\n",
    "# s1.count(' the ')\n",
    "\n",
    "# v1\n",
    "s1 = s1.lower()\n",
    "s1 = ' ' + s1\n",
    "print(s1.count(' the '))\n",
    "\n",
    "# v2\n",
    "s1 = \"The coral is either the stupidest animal or the smartest rock, love it or loathe it\"\n",
    "s1 = s1.lower()\n",
    "s1 = s1.split(' ')  # splituim stringul dupa fiecare caracter spatiu ' '\n",
    "print(s1.count('the'))"
   ]
  },
  {
   "cell_type": "code",
   "execution_count": 33,
   "id": "f55020e1",
   "metadata": {},
   "outputs": [
    {
     "data": {
      "text/plain": [
       "'the coral'"
      ]
     },
     "execution_count": 33,
     "metadata": {},
     "output_type": "execute_result"
    }
   ],
   "source": [
    "s1 = 'THE Coral'\n",
    "s1.lower()"
   ]
  },
  {
   "cell_type": "code",
   "execution_count": 46,
   "id": "06afbd83",
   "metadata": {},
   "outputs": [
    {
     "name": "stdout",
     "output_type": "stream",
     "text": [
      "alAbAlA portocAla\n"
     ]
    }
   ],
   "source": [
    "# ex 14 - citeste un string de la tastatura de ex 'alabala portocala':\n",
    "# a) salveazale in 2 variabile separate\n",
    "# b) capitalizeaza toti 'a' in afara de primul si ultimul caracter\n",
    "\n",
    "# a)\n",
    "# my_string = input('Give me your string: ')\n",
    "\n",
    "# x,y = my_string.split(\" \")\n",
    "# print(x)\n",
    "# print(y)\n",
    "\n",
    "# b) \"alabala portocala\" => \"alAbAlA portocAla\"\n",
    "######012............-1\n",
    "s1 = \"alabala portocala\"\n",
    "\n",
    "# parcurgem de la al 2-lea char pana la penultimul\n",
    "# print(s1[1:-1]) \n",
    "to_upper = s1[1:-1].replace('a', 'A')\n",
    "# print(to_upper)\n",
    "\n",
    "to_upper = s1[0] + to_upper + s1[-1]\n",
    "print(to_upper)"
   ]
  },
  {
   "cell_type": "code",
   "execution_count": 48,
   "id": "188c23e6",
   "metadata": {},
   "outputs": [
    {
     "name": "stdout",
     "output_type": "stream",
     "text": [
      "Insert your user: q\n",
      "Insert your password: w\n",
      "Parola pt user q este * si are 1 caractere!\n"
     ]
    }
   ],
   "source": [
    "# ex 15 - citim user si password, si afisam in loc de parola un numar de * echivalent cu lungime parolei\n",
    "\n",
    "# e.g.: User: User1, parola123 => 9 caractere => afiseaza: 'Parola pt user User1 este ********* si are 9 caractere'\n",
    "\n",
    "user = input('Insert your user: ')\n",
    "password = input(\"Insert your password: \")\n",
    "password_mask = len(password) * \"*\"  # numarul de caractere in stelute nr_char * '*'\n",
    "\n",
    "print(f'Parola pt user {user} este {password_mask} si are {len(password)} caractere!')"
   ]
  },
  {
   "cell_type": "code",
   "execution_count": 51,
   "id": "85cd5cfc",
   "metadata": {},
   "outputs": [
    {
     "name": "stdout",
     "output_type": "stream",
     "text": [
      "yesyesyes\n"
     ]
    }
   ],
   "source": [
    "s = 'yes'\n",
    "print(s*3)\n",
    "# print(s+3)  # eroare"
   ]
  },
  {
   "cell_type": "code",
   "execution_count": 69,
   "id": "063d974d",
   "metadata": {},
   "outputs": [
    {
     "name": "stdout",
     "output_type": "stream",
     "text": [
      "Valoare lui pi cu 2 zecimale este: 3.15\n",
      "Valoare lui pi cu 2 zecimale este: 3.15\n",
      "Valoare lui pi cu 2 zecimale este: 3.15\n",
      "3.1465783\n",
      "Valoare lui pi cu 2 zecimale este: 3.14\n"
     ]
    }
   ],
   "source": [
    "# TODO_3: Vrem sa printam valoarea lui pi cu doar 2 zecimale sub forma propozitiei: \"Valoare lui pi cu 2 zecimale este: ...\"\n",
    "\n",
    "pi = 3.1465783\n",
    "print(f\"Valoare lui pi cu 2 zecimale este: {round(pi, 2)}\")\n",
    "print(\"Valoare lui pi cu 2 zecimale este: {:.2f}\".format(pi))  # old way, py2\n",
    "print(f\"Valoare lui pi cu 2 zecimale este: {pi:.2f}\")          # new way, the go to\n",
    "\n",
    "\n",
    "# Daca era string pi?\n",
    "pi = str(pi)\n",
    "print(f\"Valoare lui pi cu 2 zecimale este: {pi[0:4]}\")"
   ]
  },
  {
   "cell_type": "code",
   "execution_count": null,
   "id": "1bf5a6be",
   "metadata": {},
   "outputs": [],
   "source": []
  },
  {
   "cell_type": "markdown",
   "id": "e9a61378",
   "metadata": {},
   "source": [
    "# Intalnirea 02"
   ]
  },
  {
   "cell_type": "code",
   "execution_count": 70,
   "id": "9203db99",
   "metadata": {},
   "outputs": [],
   "source": [
    "# Operatori de atribuire: =, +=, -=, *=, /="
   ]
  },
  {
   "cell_type": "code",
   "execution_count": 73,
   "id": "dd30ab7a",
   "metadata": {},
   "outputs": [
    {
     "name": "stdout",
     "output_type": "stream",
     "text": [
      "50\n"
     ]
    }
   ],
   "source": [
    "# Avem x = 10 si vrem sa il marim de 5 ori\n",
    "x = 10\n",
    "# x = x * 5  # don`t do it like this\n",
    "x *= 5    # do it like this instead\n",
    "print(x)"
   ]
  },
  {
   "cell_type": "code",
   "execution_count": 75,
   "id": "efdd9429",
   "metadata": {},
   "outputs": [
    {
     "name": "stdout",
     "output_type": "stream",
     "text": [
      "6.0\n"
     ]
    }
   ],
   "source": [
    "y = 12\n",
    "# vrem sa il injumatatim pe y\n",
    "y /= 2 \n",
    "print(y)\n"
   ]
  },
  {
   "cell_type": "code",
   "execution_count": 80,
   "id": "c464bcc6",
   "metadata": {},
   "outputs": [
    {
     "name": "stdout",
     "output_type": "stream",
     "text": [
      "7\n",
      "-3\n",
      "10\n",
      "2.5\n"
     ]
    }
   ],
   "source": [
    "x = 2\n",
    "y = 5\n",
    "print(x + y)\n",
    "print(x - y)\n",
    "print(x * y)\n",
    "print(y / x)\n"
   ]
  },
  {
   "cell_type": "code",
   "execution_count": 84,
   "id": "b2b64c12",
   "metadata": {},
   "outputs": [
    {
     "name": "stdout",
     "output_type": "stream",
     "text": [
      "3.6666666666666665\n",
      "3\n"
     ]
    }
   ],
   "source": [
    "x = 11\n",
    "y = 3\n",
    "print(x / y)   # impartire cu zecimale\n",
    "print(x // y)  # returneaza doar partea intreaga (Catul)"
   ]
  },
  {
   "cell_type": "code",
   "execution_count": 85,
   "id": "3ee93e69",
   "metadata": {},
   "outputs": [],
   "source": [
    "# D / I = C + R  \n",
    "# // returneaza C\n",
    "# % returneaza R"
   ]
  },
  {
   "cell_type": "code",
   "execution_count": 87,
   "id": "692b2767",
   "metadata": {},
   "outputs": [
    {
     "name": "stdout",
     "output_type": "stream",
     "text": [
      "2\n"
     ]
    }
   ],
   "source": [
    "x = 11\n",
    "y = 3\n",
    "print(x % y)\n",
    "\n",
    "# 11 / 3 = 3 r 2"
   ]
  },
  {
   "cell_type": "code",
   "execution_count": 89,
   "id": "b2aadc85",
   "metadata": {},
   "outputs": [
    {
     "name": "stdout",
     "output_type": "stream",
     "text": [
      "1.0\n"
     ]
    }
   ],
   "source": [
    "x,y,z = 2, 4, 8\n",
    "print(z / y / x)  # se pastreaza ordinea efectuarii operatiilor de la mate!! :)"
   ]
  },
  {
   "cell_type": "code",
   "execution_count": 90,
   "id": "76b33a4b",
   "metadata": {},
   "outputs": [
    {
     "ename": "ZeroDivisionError",
     "evalue": "division by zero",
     "output_type": "error",
     "traceback": [
      "\u001b[1;31m---------------------------------------------------------------------------\u001b[0m",
      "\u001b[1;31mZeroDivisionError\u001b[0m                         Traceback (most recent call last)",
      "\u001b[1;32m~\\AppData\\Local\\Temp/ipykernel_8136/1303809765.py\u001b[0m in \u001b[0;36m<module>\u001b[1;34m\u001b[0m\n\u001b[0;32m      1\u001b[0m \u001b[0mx\u001b[0m \u001b[1;33m=\u001b[0m \u001b[1;36m10\u001b[0m\u001b[1;33m\u001b[0m\u001b[1;33m\u001b[0m\u001b[0m\n\u001b[1;32m----> 2\u001b[1;33m \u001b[0mprint\u001b[0m\u001b[1;33m(\u001b[0m\u001b[0mx\u001b[0m \u001b[1;33m/\u001b[0m \u001b[1;36m0\u001b[0m\u001b[1;33m)\u001b[0m\u001b[1;33m\u001b[0m\u001b[1;33m\u001b[0m\u001b[0m\n\u001b[0m",
      "\u001b[1;31mZeroDivisionError\u001b[0m: division by zero"
     ]
    }
   ],
   "source": [
    "x = 10\n",
    "print(x / 0)  # eroare in Python"
   ]
  },
  {
   "cell_type": "code",
   "execution_count": 92,
   "id": "241b5e36",
   "metadata": {},
   "outputs": [
    {
     "name": "stdout",
     "output_type": "stream",
     "text": [
      "11\n"
     ]
    }
   ],
   "source": [
    "print(1 + 2 + 5 * 2 - 2)"
   ]
  },
  {
   "cell_type": "code",
   "execution_count": 94,
   "id": "5afce32a",
   "metadata": {},
   "outputs": [
    {
     "name": "stdout",
     "output_type": "stream",
     "text": [
      "13\n"
     ]
    }
   ],
   "source": [
    "print(1 + (2 + 5) * 2 - 2)"
   ]
  },
  {
   "cell_type": "code",
   "execution_count": 97,
   "id": "cf5aa30f",
   "metadata": {},
   "outputs": [
    {
     "data": {
      "text/plain": [
       "True"
      ]
     },
     "execution_count": 97,
     "metadata": {},
     "output_type": "execute_result"
    }
   ],
   "source": [
    "# Am o intrebare: sa presupunem ca x = 22 si vrem sa determinam daca x e par sau nu?\n",
    "x = 22 \n",
    "x % 2 == 0"
   ]
  },
  {
   "cell_type": "code",
   "execution_count": 98,
   "id": "eaee8b9b",
   "metadata": {},
   "outputs": [
    {
     "data": {
      "text/plain": [
       "27"
      ]
     },
     "execution_count": 98,
     "metadata": {},
     "output_type": "execute_result"
    }
   ],
   "source": [
    "x = 3\n",
    "x ** 3\n",
    "\n",
    "# 3 ^ 3 = 3 * 3 * 3 = 27"
   ]
  },
  {
   "cell_type": "code",
   "execution_count": 101,
   "id": "8274a377",
   "metadata": {},
   "outputs": [
    {
     "data": {
      "text/plain": [
       "27"
      ]
     },
     "execution_count": 101,
     "metadata": {},
     "output_type": "execute_result"
    }
   ],
   "source": [
    "x = 3\n",
    "pow(x, 3)"
   ]
  },
  {
   "cell_type": "code",
   "execution_count": null,
   "id": "d92686c9",
   "metadata": {},
   "outputs": [],
   "source": []
  },
  {
   "cell_type": "code",
   "execution_count": 102,
   "id": "462f7bc2",
   "metadata": {},
   "outputs": [],
   "source": [
    "# Operatori de comparare: ==, !=, <=, >=, <, >"
   ]
  },
  {
   "cell_type": "code",
   "execution_count": 107,
   "id": "b5fc0c12",
   "metadata": {},
   "outputs": [
    {
     "name": "stdout",
     "output_type": "stream",
     "text": [
      "True\n",
      "False\n",
      "False\n",
      "True\n"
     ]
    }
   ],
   "source": [
    "print(5 > 2)\n",
    "print(5 < 2)\n",
    "print(5 == 2)\n",
    "print(5 != 2)\n"
   ]
  },
  {
   "cell_type": "code",
   "execution_count": 111,
   "id": "64350066",
   "metadata": {},
   "outputs": [
    {
     "name": "stdout",
     "output_type": "stream",
     "text": [
      "True\n"
     ]
    }
   ],
   "source": [
    "s1 = 'abc'\n",
    "s2 = 'bcd'\n",
    "print(s1 < s2)  # comparatia se face pozitie cu pozitie "
   ]
  },
  {
   "cell_type": "code",
   "execution_count": 113,
   "id": "cd198d67",
   "metadata": {},
   "outputs": [
    {
     "name": "stdout",
     "output_type": "stream",
     "text": [
      "True\n"
     ]
    }
   ],
   "source": [
    "s1 = 'abc'\n",
    "s2 = 'xy'\n",
    "print(s1 < s2)"
   ]
  },
  {
   "cell_type": "code",
   "execution_count": 115,
   "id": "6809fdd1",
   "metadata": {},
   "outputs": [
    {
     "data": {
      "text/plain": [
       "97"
      ]
     },
     "execution_count": 115,
     "metadata": {},
     "output_type": "execute_result"
    }
   ],
   "source": [
    "ord('a')"
   ]
  },
  {
   "cell_type": "code",
   "execution_count": 117,
   "id": "acdfd30a",
   "metadata": {},
   "outputs": [
    {
     "data": {
      "text/plain": [
       "120"
      ]
     },
     "execution_count": 117,
     "metadata": {},
     "output_type": "execute_result"
    }
   ],
   "source": [
    "ord('x')"
   ]
  },
  {
   "cell_type": "code",
   "execution_count": 121,
   "id": "a2680ffb",
   "metadata": {},
   "outputs": [
    {
     "name": "stdout",
     "output_type": "stream",
     "text": [
      "True\n"
     ]
    }
   ],
   "source": [
    "s1 = 'aabc'\n",
    "s2 = 'abac'\n",
    "print(s1 < s2)"
   ]
  },
  {
   "cell_type": "code",
   "execution_count": 122,
   "id": "1e82e25c",
   "metadata": {},
   "outputs": [
    {
     "name": "stdout",
     "output_type": "stream",
     "text": [
      "True\n"
     ]
    }
   ],
   "source": [
    "s1 = 'abc'\n",
    "s2 = 'abcd'\n",
    "print(s1 < s2)  # compararea se face alfanumeric"
   ]
  },
  {
   "cell_type": "code",
   "execution_count": 123,
   "id": "c8ba5f91",
   "metadata": {},
   "outputs": [
    {
     "name": "stdout",
     "output_type": "stream",
     "text": [
      "False\n"
     ]
    }
   ],
   "source": [
    "print(5 != 5)"
   ]
  },
  {
   "cell_type": "code",
   "execution_count": null,
   "id": "3b1caba8",
   "metadata": {},
   "outputs": [],
   "source": []
  },
  {
   "cell_type": "code",
   "execution_count": 124,
   "id": "2d2640e2",
   "metadata": {},
   "outputs": [],
   "source": [
    "# Operatori logici: and, or, not"
   ]
  },
  {
   "cell_type": "code",
   "execution_count": 125,
   "id": "7991d101",
   "metadata": {},
   "outputs": [
    {
     "data": {
      "text/plain": [
       "False"
      ]
     },
     "execution_count": 125,
     "metadata": {},
     "output_type": "execute_result"
    }
   ],
   "source": [
    "# A        B\n",
    "True and False"
   ]
  },
  {
   "cell_type": "code",
   "execution_count": 126,
   "id": "7766d6d4",
   "metadata": {},
   "outputs": [],
   "source": [
    "#   A   |   B   |   and |   or  |  not A  \n",
    "# True  | True  |  True | True  | False\n",
    "# True  | False | False | True  | False\n",
    "# False | True  | False | True  | True\n",
    "# False | False | False | False | True"
   ]
  },
  {
   "cell_type": "code",
   "execution_count": 128,
   "id": "95303909",
   "metadata": {},
   "outputs": [
    {
     "data": {
      "text/plain": [
       "True"
      ]
     },
     "execution_count": 128,
     "metadata": {},
     "output_type": "execute_result"
    }
   ],
   "source": [
    "False or not False and True\n",
    "# False or True and True\n",
    "# True and True\n",
    "# True"
   ]
  },
  {
   "cell_type": "code",
   "execution_count": 130,
   "id": "f70c0d69",
   "metadata": {},
   "outputs": [
    {
     "data": {
      "text/plain": [
       "True"
      ]
     },
     "execution_count": 130,
     "metadata": {},
     "output_type": "execute_result"
    }
   ],
   "source": [
    "False and False or True and True\n",
    "# False or True and True\n",
    "# True and True\n",
    "# True"
   ]
  },
  {
   "cell_type": "code",
   "execution_count": 132,
   "id": "a55c289e",
   "metadata": {},
   "outputs": [
    {
     "name": "stdout",
     "output_type": "stream",
     "text": [
      "False\n"
     ]
    }
   ],
   "source": [
    "print(False and (False or True) and True)\n",
    "#      False and True and True\n",
    "#      False and True\n",
    "#      False "
   ]
  },
  {
   "cell_type": "code",
   "execution_count": 133,
   "id": "96517b80",
   "metadata": {},
   "outputs": [
    {
     "name": "stdout",
     "output_type": "stream",
     "text": [
      "True\n"
     ]
    }
   ],
   "source": [
    "print(not(5 > 7))"
   ]
  },
  {
   "cell_type": "code",
   "execution_count": 137,
   "id": "67c151ab",
   "metadata": {},
   "outputs": [
    {
     "data": {
      "text/plain": [
       "True"
      ]
     },
     "execution_count": 137,
     "metadata": {},
     "output_type": "execute_result"
    }
   ],
   "source": [
    "x = 12\n",
    "x < 7 or x > 10"
   ]
  },
  {
   "cell_type": "code",
   "execution_count": 145,
   "id": "cc34f340",
   "metadata": {},
   "outputs": [
    {
     "name": "stdout",
     "output_type": "stream",
     "text": [
      "True\n",
      "False\n"
     ]
    }
   ],
   "source": [
    "x = 10\n",
    "y = 8\n",
    "z = 9\n",
    "# Vrem sa verificam daca x e mai mare decat y si mai mare decat z\n",
    "\n",
    "print((x > y) and (x > z))\n",
    "print(x > y > z)  # gresit\n"
   ]
  },
  {
   "cell_type": "code",
   "execution_count": null,
   "id": "31aa6590",
   "metadata": {},
   "outputs": [],
   "source": []
  },
  {
   "cell_type": "code",
   "execution_count": 146,
   "id": "65ffbd40",
   "metadata": {},
   "outputs": [],
   "source": [
    "# Operatori de identitate: is, is not"
   ]
  },
  {
   "cell_type": "code",
   "execution_count": 147,
   "id": "193ed5d5",
   "metadata": {},
   "outputs": [
    {
     "name": "stdout",
     "output_type": "stream",
     "text": [
      "True\n",
      "True\n",
      "True\n"
     ]
    }
   ],
   "source": [
    "a = 2\n",
    "b = 2\n",
    "c = a\n",
    "print(a is b)  # is verifica daca in memorie sunt stocate in acelasi loc\n",
    "print(a is c)\n",
    "print(b is c)"
   ]
  },
  {
   "cell_type": "code",
   "execution_count": 148,
   "id": "fc74577f",
   "metadata": {},
   "outputs": [
    {
     "name": "stdout",
     "output_type": "stream",
     "text": [
      "True\n",
      "True\n",
      "True\n"
     ]
    }
   ],
   "source": [
    "s1 = 'qwe'\n",
    "s2 = 'qwe'\n",
    "s3 = s1\n",
    "print(s1 is s2)\n",
    "print(s2 is s3)\n",
    "print(s3 is s1)"
   ]
  },
  {
   "cell_type": "code",
   "execution_count": 150,
   "id": "d62a0ac0",
   "metadata": {},
   "outputs": [
    {
     "name": "stdout",
     "output_type": "stream",
     "text": [
      "False\n",
      "False\n",
      "True\n"
     ]
    }
   ],
   "source": [
    "l1 = [1,2,3]\n",
    "l2 = [1,2,3]\n",
    "l3 = l1\n",
    "print(l1 is l2)\n",
    "print(l2 is l3)\n",
    "print(l3 is l1)  "
   ]
  },
  {
   "cell_type": "code",
   "execution_count": 152,
   "id": "880818e8",
   "metadata": {},
   "outputs": [
    {
     "name": "stdout",
     "output_type": "stream",
     "text": [
      "140729377103648\n",
      "140729377103648\n",
      "140729377103648\n"
     ]
    }
   ],
   "source": [
    "a = 2\n",
    "b = 2\n",
    "c = a\n",
    "print(id(a))\n",
    "print(id(b))\n",
    "print(id(c))"
   ]
  },
  {
   "cell_type": "code",
   "execution_count": 154,
   "id": "e862627e",
   "metadata": {},
   "outputs": [
    {
     "name": "stdout",
     "output_type": "stream",
     "text": [
      "1602761280704\n",
      "1602761247808\n",
      "1602761280704\n"
     ]
    }
   ],
   "source": [
    "print(id(l1))\n",
    "print(id(l2))\n",
    "print(id(l3))"
   ]
  },
  {
   "cell_type": "code",
   "execution_count": null,
   "id": "78f2381d",
   "metadata": {},
   "outputs": [],
   "source": []
  },
  {
   "cell_type": "code",
   "execution_count": 155,
   "id": "2cf01f7c",
   "metadata": {},
   "outputs": [],
   "source": [
    "# Operatori de membru: in, not in"
   ]
  },
  {
   "cell_type": "code",
   "execution_count": 158,
   "id": "aae31dd1",
   "metadata": {},
   "outputs": [
    {
     "data": {
      "text/plain": [
       "True"
      ]
     },
     "execution_count": 158,
     "metadata": {},
     "output_type": "execute_result"
    }
   ],
   "source": [
    "'p' in 'apple'"
   ]
  },
  {
   "cell_type": "code",
   "execution_count": 161,
   "id": "92f71f0f",
   "metadata": {},
   "outputs": [
    {
     "data": {
      "text/plain": [
       "True"
      ]
     },
     "execution_count": 161,
     "metadata": {},
     "output_type": "execute_result"
    }
   ],
   "source": [
    "'pp' in 'apple'"
   ]
  },
  {
   "cell_type": "code",
   "execution_count": 163,
   "id": "993e872e",
   "metadata": {},
   "outputs": [
    {
     "data": {
      "text/plain": [
       "False"
      ]
     },
     "execution_count": 163,
     "metadata": {},
     "output_type": "execute_result"
    }
   ],
   "source": [
    "'ppp' in 'apple'"
   ]
  },
  {
   "cell_type": "code",
   "execution_count": 164,
   "id": "638f9386",
   "metadata": {},
   "outputs": [
    {
     "data": {
      "text/plain": [
       "False"
      ]
     },
     "execution_count": 164,
     "metadata": {},
     "output_type": "execute_result"
    }
   ],
   "source": [
    "'ae' in 'apple'"
   ]
  },
  {
   "cell_type": "code",
   "execution_count": 166,
   "id": "71955749",
   "metadata": {},
   "outputs": [
    {
     "data": {
      "text/plain": [
       "True"
      ]
     },
     "execution_count": 166,
     "metadata": {},
     "output_type": "execute_result"
    }
   ],
   "source": [
    "2 in [1,2,3]"
   ]
  },
  {
   "cell_type": "code",
   "execution_count": 168,
   "id": "23a3c717",
   "metadata": {},
   "outputs": [
    {
     "data": {
      "text/plain": [
       "False"
      ]
     },
     "execution_count": 168,
     "metadata": {},
     "output_type": "execute_result"
    }
   ],
   "source": [
    "'2' in ['1', '12', '3']"
   ]
  },
  {
   "cell_type": "code",
   "execution_count": 170,
   "id": "11436d15",
   "metadata": {},
   "outputs": [
    {
     "data": {
      "text/plain": [
       "True"
      ]
     },
     "execution_count": 170,
     "metadata": {},
     "output_type": "execute_result"
    }
   ],
   "source": [
    "'2' in '12'"
   ]
  },
  {
   "cell_type": "code",
   "execution_count": 172,
   "id": "d63f52fc",
   "metadata": {},
   "outputs": [
    {
     "data": {
      "text/plain": [
       "True"
      ]
     },
     "execution_count": 172,
     "metadata": {},
     "output_type": "execute_result"
    }
   ],
   "source": [
    "\"fox\" in \"dog, cat, foxy, horse\""
   ]
  },
  {
   "cell_type": "code",
   "execution_count": 173,
   "id": "1d383741",
   "metadata": {},
   "outputs": [],
   "source": [
    "# Ex_01: Create a substring made of the first, middle and last character of a given string\n",
    "# e.g.:  'Michael' => 'Mhl'\n",
    "#        'Adrian'  => 'Arn' / 'Ain' (either one works)\n",
    "\n",
    "# solutia pe discord"
   ]
  },
  {
   "cell_type": "code",
   "execution_count": null,
   "id": "2b8ce825",
   "metadata": {},
   "outputs": [],
   "source": [
    "# TODO: # Ex_02: Given a string s1, append another string s2 in the middle of s1\n",
    "# e.g.:  s1 = 'Legendary', s2 = 'wait'  => 'Legewaitndary'\n",
    "#        s1 = 'mama', s2 = 'MIA'  =>  'maMIAma'\n"
   ]
  },
  {
   "cell_type": "code",
   "execution_count": null,
   "id": "82c91f60",
   "metadata": {},
   "outputs": [],
   "source": []
  },
  {
   "cell_type": "code",
   "execution_count": null,
   "id": "5ce60b74",
   "metadata": {},
   "outputs": [],
   "source": [
    "# if"
   ]
  },
  {
   "cell_type": "code",
   "execution_count": 175,
   "id": "a89275ec",
   "metadata": {},
   "outputs": [
    {
     "name": "stdout",
     "output_type": "stream",
     "text": [
      "Da, A e mai mare decat B\n"
     ]
    }
   ],
   "source": [
    "A = 5\n",
    "B = 4\n",
    "if A > B:\n",
    "    print(\"Da, A e mai mare decat B\")"
   ]
  },
  {
   "cell_type": "code",
   "execution_count": 178,
   "id": "1a3e7895",
   "metadata": {},
   "outputs": [],
   "source": [
    "A = 5\n",
    "B = 10\n",
    "if A > B:\n",
    "    print(\"Da, A e mai mare decat B\")"
   ]
  },
  {
   "cell_type": "code",
   "execution_count": 179,
   "id": "07f48f40",
   "metadata": {},
   "outputs": [
    {
     "name": "stdout",
     "output_type": "stream",
     "text": [
      "Asta se afiseaza??\n"
     ]
    }
   ],
   "source": [
    "A = 5\n",
    "B = 10\n",
    "if A > B:\n",
    "    print(\"Da, A e mai mare decat B\")\n",
    "print('Asta se afiseaza??')  # atentie la indentare!!!"
   ]
  },
  {
   "cell_type": "code",
   "execution_count": 181,
   "id": "d47328d4",
   "metadata": {},
   "outputs": [
    {
     "name": "stdout",
     "output_type": "stream",
     "text": [
      "Alege nota: 2\n"
     ]
    }
   ],
   "source": [
    "# Cum facem sa afisam mesajul \"Ai picat examenul, ne vedem la vara.\" in cazul in care nota nu e de trecere?\n",
    "nota_de_trecere = 4.5\n",
    "nota = float(input('Alege nota: '))\n",
    "if nota > nota_de_trecere:\n",
    "    print(f'Felicitari ai trecut examenul cu nota {nota}')"
   ]
  },
  {
   "cell_type": "code",
   "execution_count": 183,
   "id": "612871ae",
   "metadata": {},
   "outputs": [
    {
     "name": "stdout",
     "output_type": "stream",
     "text": [
      "Alege nota: 4.4\n",
      "Ai picat examenul, ne vedem la vara.\n"
     ]
    }
   ],
   "source": [
    "nota_de_trecere = 4.5\n",
    "nota = float(input('Alege nota: '))\n",
    "if nota > nota_de_trecere:\n",
    "    print(f'Felicitari ai trecut examenul cu nota {nota}')\n",
    "else:\n",
    "    print(\"Ai picat examenul, ne vedem la vara.\")"
   ]
  },
  {
   "cell_type": "code",
   "execution_count": 190,
   "id": "6d83f83c",
   "metadata": {},
   "outputs": [
    {
     "name": "stdout",
     "output_type": "stream",
     "text": [
      "Alegeti o limba: 1\n",
      "Ati ales limba romana\n"
     ]
    }
   ],
   "source": [
    "# robot telefonic cu mai multe optiuni 1 => lb romana, 2 => engleza, 0 => meniu anterior, altceva => Ati ales o optiune invalida\n",
    "optiune = input(\"Alegeti o limba: \")\n",
    "if optiune == '1':\n",
    "    print('Ati ales limba romana')\n",
    "elif optiune == '2':\n",
    "    print('Ati ales limba engleza')\n",
    "elif optiune == '0':\n",
    "    print(\"Ati ales meniul anterior\")\n",
    "else:\n",
    "    print(\"Ati ales o optiune invalida\")\n",
    "    \n",
    "    "
   ]
  },
  {
   "cell_type": "code",
   "execution_count": 191,
   "id": "3145a16c",
   "metadata": {},
   "outputs": [],
   "source": [
    "# sintaxa if\n",
    "# if cond:\n",
    "    # ramaura se executa daca cond e adevarata\n",
    "# elif alta_cond:\n",
    "    # ramura se executa daca cond e falsa, dar alta_cond e adev\n",
    "# else:\n",
    "    # ramura care se executa cand niciuna dintre conditiile anterioare nu e adev\n",
    "    \n",
    "    \n",
    "# elif si else nu trebuie neaparat sa apara"
   ]
  },
  {
   "cell_type": "code",
   "execution_count": null,
   "id": "7572bcb1",
   "metadata": {},
   "outputs": [],
   "source": []
  },
  {
   "cell_type": "code",
   "execution_count": null,
   "id": "bb1256e6",
   "metadata": {},
   "outputs": [],
   "source": [
    "# TODO: Ex_03: Given a keyboard inputed number: print \"Your number is positive\" or \"Your number is negative\" or \"Your number is 0\" \n",
    "# depending whether the number is greater than 0, smaller or 0."
   ]
  }
 ],
 "metadata": {
  "kernelspec": {
   "display_name": "Python 3 (ipykernel)",
   "language": "python",
   "name": "python3"
  },
  "language_info": {
   "codemirror_mode": {
    "name": "ipython",
    "version": 3
   },
   "file_extension": ".py",
   "mimetype": "text/x-python",
   "name": "python",
   "nbconvert_exporter": "python",
   "pygments_lexer": "ipython3",
   "version": "3.10.6"
  }
 },
 "nbformat": 4,
 "nbformat_minor": 5
}
