{
 "cells": [
  {
   "cell_type": "markdown",
   "id": "22b46fd7",
   "metadata": {},
   "source": [
    "TEMA 5"
   ]
  },
  {
   "cell_type": "code",
   "execution_count": 6,
   "id": "531fece4",
   "metadata": {},
   "outputs": [
    {
     "name": "stdout",
     "output_type": "stream",
     "text": [
      "Masina mea preferata este Audi\n",
      "Masina mea preferata este Volvo\n",
      "Masina mea preferata este BMW\n",
      "Masina mea preferata este Mercedes\n",
      "Masina mea preferata este Aston Martin\n",
      "Masina mea preferata este Lastun\n",
      "Masina mea preferata este Fiat\n",
      "Masina mea preferata este Trabant\n",
      "Masina mea preferata este Opel\n"
     ]
    }
   ],
   "source": [
    "\n",
    "masini = ['Audi', 'Volvo', 'BMW', 'Mercedes', 'Aston Martin', 'Lastun', 'Fiat', 'Trabant', 'Opel'] \n",
    "\n",
    "# id =      0        1        2       3              4            5        6         7         8\n",
    "\n",
    "# a itera = a parcurge\n",
    "# pt a parcurge o lista -> cu \"for\"\n",
    "\n",
    "# Var. 1 cu index\n",
    "\n",
    "for idx in range(0, len(masini)):\n",
    "    print(f\"Masina mea preferata este {masini[idx]}\")\n",
    "# Var. 2 fara indexi\n",
    "\n",
    "# for m in masini:\n",
    "#  print (f\"Masina mea preferata este {m}\")"
   ]
  },
  {
   "cell_type": "code",
   "execution_count": null,
   "id": "9ee90736",
   "metadata": {},
   "outputs": [],
   "source": []
  }
 ],
 "metadata": {
  "kernelspec": {
   "display_name": "Python 3 (ipykernel)",
   "language": "python",
   "name": "python3"
  },
  "language_info": {
   "codemirror_mode": {
    "name": "ipython",
    "version": 3
   },
   "file_extension": ".py",
   "mimetype": "text/x-python",
   "name": "python",
   "nbconvert_exporter": "python",
   "pygments_lexer": "ipython3",
   "version": "3.10.6"
  }
 },
 "nbformat": 4,
 "nbformat_minor": 5
}
