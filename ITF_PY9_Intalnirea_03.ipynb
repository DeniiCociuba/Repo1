{
 "cells": [
  {
   "cell_type": "markdown",
   "id": "04aff811",
   "metadata": {},
   "source": [
    "# Solutii Tema 02"
   ]
  },
  {
   "cell_type": "code",
   "execution_count": 1,
   "id": "0bd2f877",
   "metadata": {},
   "outputs": [],
   "source": [
    "# Observatii:\n",
    "# - tre sa invatam sa scriem cod CURAT si ORDONAT\n",
    "# - indentare se face fie cu 4 spatii, fie cu un tab\n"
   ]
  },
  {
   "cell_type": "code",
   "execution_count": 3,
   "id": "dbdf9a66",
   "metadata": {},
   "outputs": [
    {
     "name": "stdout",
     "output_type": "stream",
     "text": [
      "Numarul este natural\n"
     ]
    }
   ],
   "source": [
    "# ex2: Verifica si afiseaza daca x este numar natural sau nu\n",
    "\n",
    "x = 1\n",
    "if x >= 0:\n",
    "    print('Numarul este natural')\n",
    "else:\n",
    "    print('Numarul nu este natural')\n",
    "    \n",
    "    "
   ]
  },
  {
   "cell_type": "code",
   "execution_count": 4,
   "id": "99349850",
   "metadata": {},
   "outputs": [
    {
     "name": "stdout",
     "output_type": "stream",
     "text": [
      "Numarul nu este natural\n"
     ]
    }
   ],
   "source": [
    "x = -1\n",
    "if x >= 0:\n",
    "    print('Numarul este natural')\n",
    "else:\n",
    "    print('Numarul nu este natural')\n"
   ]
  },
  {
   "cell_type": "code",
   "execution_count": 22,
   "id": "bd62034d",
   "metadata": {},
   "outputs": [
    {
     "name": "stdout",
     "output_type": "stream",
     "text": [
      "Numarul NU este natural\n"
     ]
    }
   ],
   "source": [
    "x = 3.5  # numar natural = numar intreg mai mare sau egal cu 0\n",
    "if x >= 0 and isinstance(x, int):\n",
    "    print('Numarul este natural')\n",
    "else:\n",
    "    print('Numarul NU este natural')"
   ]
  },
  {
   "cell_type": "code",
   "execution_count": 7,
   "id": "dc6095cd",
   "metadata": {},
   "outputs": [],
   "source": [
    "isinstance?"
   ]
  },
  {
   "cell_type": "code",
   "execution_count": 14,
   "id": "b85ffda0",
   "metadata": {},
   "outputs": [
    {
     "name": "stdout",
     "output_type": "stream",
     "text": [
      "<class 'float'>\n"
     ]
    }
   ],
   "source": [
    "print(type(x))"
   ]
  },
  {
   "cell_type": "code",
   "execution_count": null,
   "id": "bc5d87b2",
   "metadata": {},
   "outputs": [],
   "source": []
  },
  {
   "cell_type": "code",
   "execution_count": 36,
   "id": "9e37453a",
   "metadata": {},
   "outputs": [
    {
     "name": "stdout",
     "output_type": "stream",
     "text": [
      "Introdu un numar: 4.77\n",
      "False\n",
      "True\n"
     ]
    }
   ],
   "source": [
    "# ex4. Verifica si afiseaza daca x este intre -2 si 13\n",
    "x = float(input(\"Introdu un numar: \"))\n",
    "if x in range(-2, 13):\n",
    "    print(True)\n",
    "else:\n",
    "    print(False)\n",
    "    \n",
    "    \n",
    "# varianta ca sa mearga cu floats\n",
    "if x >= -2 and x <= 13:\n",
    "    print(True)\n",
    "else:\n",
    "    print(False)"
   ]
  },
  {
   "cell_type": "code",
   "execution_count": 31,
   "id": "e4f25ac1",
   "metadata": {},
   "outputs": [
    {
     "data": {
      "text/plain": [
       "[-2, -1, 0, 1, 2, 3, 4, 5, 6, 7, 8, 9, 10, 11, 12]"
      ]
     },
     "execution_count": 31,
     "metadata": {},
     "output_type": "execute_result"
    }
   ],
   "source": [
    "list(range(-2, 13))"
   ]
  },
  {
   "cell_type": "code",
   "execution_count": null,
   "id": "75edbb1f",
   "metadata": {},
   "outputs": [],
   "source": []
  },
  {
   "cell_type": "code",
   "execution_count": 40,
   "id": "1b0c013c",
   "metadata": {},
   "outputs": [
    {
     "name": "stdout",
     "output_type": "stream",
     "text": [
      "Indroduceti x: 3\n",
      "Indroduceti y: 10\n",
      "Diferenta e mai mica decat 5\n"
     ]
    }
   ],
   "source": [
    "# ex5: Verifica si afiseaza daca dif dintre x si y e mai mica decat 5.\n",
    "x = int(input('Indroduceti x: '))\n",
    "y = int(input('Indroduceti y: '))\n",
    "\n",
    "diff = x - y\n",
    "if diff < 5:\n",
    "    print(\"Diferenta e mai mica decat 5\")\n",
    "else:\n",
    "    print(\"Diferenta e mai mare decat 5\")"
   ]
  },
  {
   "cell_type": "code",
   "execution_count": 46,
   "id": "729aba7c",
   "metadata": {},
   "outputs": [
    {
     "name": "stdout",
     "output_type": "stream",
     "text": [
      "Indroduceti x: 10\n",
      "Indroduceti y: 3\n",
      "Diferenta e mai mica decat 5\n"
     ]
    }
   ],
   "source": [
    "# Daca as vrea sa verific ca diferenta dintre x si y sau y si x e mai mica decat 5\n",
    "x = int(input('Indroduceti x: '))\n",
    "y = int(input('Indroduceti y: '))\n",
    "\n",
    "diff1 = x - y\n",
    "if diff1 < 5:\n",
    "    print(\"Diferenta e mai mica decat 5\")\n",
    "else:\n",
    "    print(\"Diferenta e mai mare decat 5\")\n",
    "# incompleta"
   ]
  },
  {
   "cell_type": "code",
   "execution_count": 54,
   "id": "5116b1d6",
   "metadata": {},
   "outputs": [
    {
     "name": "stdout",
     "output_type": "stream",
     "text": [
      "Indroduceti x: 4\n",
      "Indroduceti y: 100\n",
      "Diferenta e mai mare sau egala cu 5\n"
     ]
    }
   ],
   "source": [
    "x = int(input('Indroduceti x: '))\n",
    "y = int(input('Indroduceti y: '))\n",
    "\n",
    "# v1\n",
    "if x >= y:\n",
    "    diff = x - y\n",
    "else:\n",
    "    diff = y - x\n",
    "\n",
    "if diff < 5:\n",
    "    print(\"Diferenta e mai mica decat 5\")\n",
    "else:\n",
    "    print(\"Diferenta e mai mare sau egala cu 5\")\n",
    "    \n",
    "# v2\n",
    "if abs(x-y) < 5:\n",
    "    print(\"Diferenta e mai mica decat 5\")\n",
    "else:\n",
    "    print(\"Dif mai mare sau egala cu 5\")\n"
   ]
  },
  {
   "cell_type": "code",
   "execution_count": 57,
   "id": "fb4193d5",
   "metadata": {},
   "outputs": [
    {
     "data": {
      "text/plain": [
       "6"
      ]
     },
     "execution_count": 57,
     "metadata": {},
     "output_type": "execute_result"
    }
   ],
   "source": [
    "abs(4-10)"
   ]
  },
  {
   "cell_type": "code",
   "execution_count": 61,
   "id": "d8f6fe89",
   "metadata": {},
   "outputs": [
    {
     "name": "stdout",
     "output_type": "stream",
     "text": [
      "Introduceti o litera: A\n",
      "Litera e Vocala\n"
     ]
    }
   ],
   "source": [
    "# ex9: Citeste o litera de la tastatura. Verifica daca e vocala\n",
    "litera = input(\"Introduceti o litera: \")\n",
    "vocale = 'aeiou'\n",
    "\n",
    "if litera.lower() in vocale:\n",
    "    print(\"Litera e Vocala\")\n",
    "else:\n",
    "    print(\"Litera nu e vocala\")"
   ]
  },
  {
   "cell_type": "code",
   "execution_count": 89,
   "id": "d35e1c95",
   "metadata": {},
   "outputs": [
    {
     "name": "stdout",
     "output_type": "stream",
     "text": [
      "Introduceti numarul: 123.456\n",
      "Are exact 6 cifre!\n"
     ]
    }
   ],
   "source": [
    "# Verifica daca un numar introdus de la tastatura x are exact 6 cifre\n",
    "x = float(input(\"Introduceti numarul: \"))\n",
    "# print(len(str(x)))\n",
    "\n",
    "x = str(x)\n",
    "if x.count('.')>0 and len(x) == 7 or len(x) == 6:\n",
    "    print(\"Are exact 6 cifre!\")\n",
    "else:\n",
    "    print(\"Nu are exact 6 cifre\")\n",
    "\n",
    "# TODO: Incercati sa modificati sa accepte si numere negative"
   ]
  },
  {
   "cell_type": "code",
   "execution_count": 72,
   "id": "99557ca0",
   "metadata": {},
   "outputs": [
    {
     "data": {
      "text/plain": [
       "4"
      ]
     },
     "execution_count": 72,
     "metadata": {},
     "output_type": "execute_result"
    }
   ],
   "source": [
    "len(\"1232\")"
   ]
  },
  {
   "cell_type": "code",
   "execution_count": null,
   "id": "6f83eb51",
   "metadata": {},
   "outputs": [],
   "source": []
  },
  {
   "cell_type": "code",
   "execution_count": null,
   "id": "27f8da0f",
   "metadata": {},
   "outputs": [],
   "source": []
  },
  {
   "cell_type": "markdown",
   "id": "96563c5e",
   "metadata": {},
   "source": [
    "# Intalnirea 03"
   ]
  },
  {
   "cell_type": "code",
   "execution_count": 90,
   "id": "f8a291cc",
   "metadata": {},
   "outputs": [],
   "source": [
    "# Structuri de date aka Colectii"
   ]
  },
  {
   "cell_type": "code",
   "execution_count": 94,
   "id": "7b2cc358",
   "metadata": {},
   "outputs": [
    {
     "data": {
      "text/plain": [
       "list"
      ]
     },
     "execution_count": 94,
     "metadata": {},
     "output_type": "execute_result"
    }
   ],
   "source": [
    "type([])"
   ]
  },
  {
   "cell_type": "code",
   "execution_count": 95,
   "id": "986efdde",
   "metadata": {},
   "outputs": [
    {
     "data": {
      "text/plain": [
       "tuple"
      ]
     },
     "execution_count": 95,
     "metadata": {},
     "output_type": "execute_result"
    }
   ],
   "source": [
    "type((1,2,3))"
   ]
  },
  {
   "cell_type": "code",
   "execution_count": 96,
   "id": "e226b6b4",
   "metadata": {},
   "outputs": [],
   "source": [
    "# LIST:"
   ]
  },
  {
   "cell_type": "code",
   "execution_count": 98,
   "id": "f9bb6477",
   "metadata": {},
   "outputs": [
    {
     "data": {
      "text/plain": [
       "[1, 2, 3, 4]"
      ]
     },
     "execution_count": 98,
     "metadata": {},
     "output_type": "execute_result"
    }
   ],
   "source": [
    "# liste sunt niste variabile care pastreaza mai mult de o valoare inauntrul lor\n",
    "my_var = 10\n",
    "my_list = [1,2,3,4]\n",
    "my_list"
   ]
  },
  {
   "cell_type": "code",
   "execution_count": 116,
   "id": "c47756a9",
   "metadata": {},
   "outputs": [
    {
     "data": {
      "text/plain": [
       "[1, 'doi', 3, True, 3, 3, 8.3, [100, 200, 300], (1, 2, 3), {'key': 'val'}]"
      ]
     },
     "execution_count": 116,
     "metadata": {},
     "output_type": "execute_result"
    }
   ],
   "source": [
    "my_list = [1, \"doi\", 3, True, 3, 3, 8.3, [100,200,300], (1,2,3), {'key': 'val'}] # putem pune orice :)\n",
    "my_list"
   ]
  },
  {
   "cell_type": "code",
   "execution_count": 117,
   "id": "c6697ede",
   "metadata": {},
   "outputs": [
    {
     "data": {
      "text/plain": [
       "1"
      ]
     },
     "execution_count": 117,
     "metadata": {},
     "output_type": "execute_result"
    }
   ],
   "source": [
    "my_list[0]  # lista e indexata"
   ]
  },
  {
   "cell_type": "code",
   "execution_count": 118,
   "id": "7370977d",
   "metadata": {},
   "outputs": [
    {
     "data": {
      "text/plain": [
       "{'key': 'val'}"
      ]
     },
     "execution_count": 118,
     "metadata": {},
     "output_type": "execute_result"
    }
   ],
   "source": [
    "my_list[-1]"
   ]
  },
  {
   "cell_type": "code",
   "execution_count": 119,
   "id": "0580d434",
   "metadata": {},
   "outputs": [
    {
     "data": {
      "text/plain": [
       "'doi'"
      ]
     },
     "execution_count": 119,
     "metadata": {},
     "output_type": "execute_result"
    }
   ],
   "source": [
    "my_list[1]"
   ]
  },
  {
   "cell_type": "code",
   "execution_count": 120,
   "id": "7b05bf30",
   "metadata": {},
   "outputs": [
    {
     "data": {
      "text/plain": [
       "[100, 'doi', 3, True, 3, 3, 8.3, [100, 200, 300], (1, 2, 3), {'key': 'val'}]"
      ]
     },
     "execution_count": 120,
     "metadata": {},
     "output_type": "execute_result"
    }
   ],
   "source": [
    "# cu ajutorul indecsilor, ii putem chiar modifica valorile:\n",
    "my_list[0] = 100\n",
    "my_list"
   ]
  },
  {
   "cell_type": "code",
   "execution_count": 121,
   "id": "7690a23d",
   "metadata": {},
   "outputs": [
    {
     "data": {
      "text/plain": [
       "[100,\n",
       " 'doi',\n",
       " 3,\n",
       " True,\n",
       " 3,\n",
       " 3,\n",
       " 8.3,\n",
       " [100, 200, 300],\n",
       " (1, 2, 3),\n",
       " {'key': 'val'},\n",
       " None]"
      ]
     },
     "execution_count": 121,
     "metadata": {},
     "output_type": "execute_result"
    }
   ],
   "source": [
    "# putem adauga noi valori la lista:\n",
    "my_list.append(None)\n",
    "my_list\n",
    "\n",
    "# => lista e mutabila fiindca se poate modifica fara suprascriere (aka reatribuire)"
   ]
  },
  {
   "cell_type": "code",
   "execution_count": 122,
   "id": "e7e0aac9",
   "metadata": {},
   "outputs": [
    {
     "name": "stdout",
     "output_type": "stream",
     "text": [
      "None\n"
     ]
    }
   ],
   "source": [
    "print(my_list[-1])"
   ]
  },
  {
   "cell_type": "code",
   "execution_count": 123,
   "id": "ad2bf76e",
   "metadata": {},
   "outputs": [
    {
     "data": {
      "text/plain": [
       "[100,\n",
       " 'doi',\n",
       " 'avion',\n",
       " 3,\n",
       " True,\n",
       " 3,\n",
       " 3,\n",
       " 8.3,\n",
       " [100, 200, 300],\n",
       " (1, 2, 3),\n",
       " {'key': 'val'},\n",
       " None]"
      ]
     },
     "execution_count": 123,
     "metadata": {},
     "output_type": "execute_result"
    }
   ],
   "source": [
    "# putem adauga un elem nou si pe un anumit index\n",
    "my_list.insert(2, 'avion')\n",
    "my_list"
   ]
  },
  {
   "cell_type": "code",
   "execution_count": 124,
   "id": "94deeaca",
   "metadata": {},
   "outputs": [
    {
     "ename": "TypeError",
     "evalue": "'str' object does not support item assignment",
     "output_type": "error",
     "traceback": [
      "\u001b[1;31m---------------------------------------------------------------------------\u001b[0m",
      "\u001b[1;31mTypeError\u001b[0m                                 Traceback (most recent call last)",
      "\u001b[1;32m~\\AppData\\Local\\Temp/ipykernel_13044/4176506257.py\u001b[0m in \u001b[0;36m<module>\u001b[1;34m\u001b[0m\n\u001b[0;32m      1\u001b[0m \u001b[0ms\u001b[0m \u001b[1;33m=\u001b[0m \u001b[1;34m'abc'\u001b[0m \u001b[1;31m# cum fac sa ii adaug 'd' la final? s sa devina 'abcd'\u001b[0m\u001b[1;33m\u001b[0m\u001b[1;33m\u001b[0m\u001b[0m\n\u001b[1;32m----> 2\u001b[1;33m \u001b[0ms\u001b[0m\u001b[1;33m[\u001b[0m\u001b[1;33m-\u001b[0m\u001b[1;36m1\u001b[0m\u001b[1;33m]\u001b[0m \u001b[1;33m=\u001b[0m \u001b[1;34m'd'\u001b[0m  \u001b[1;31m# eroare, stringul e imutabil, necesita reatribuire\u001b[0m\u001b[1;33m\u001b[0m\u001b[1;33m\u001b[0m\u001b[0m\n\u001b[0m\u001b[0;32m      3\u001b[0m \u001b[0mprint\u001b[0m\u001b[1;33m(\u001b[0m\u001b[0ms\u001b[0m\u001b[1;33m)\u001b[0m\u001b[1;33m\u001b[0m\u001b[1;33m\u001b[0m\u001b[0m\n",
      "\u001b[1;31mTypeError\u001b[0m: 'str' object does not support item assignment"
     ]
    }
   ],
   "source": [
    "s = 'abc' # cum fac sa ii adaug 'd' la final? s sa devina 'abcd'\n",
    "s[-1] = 'd'  # eroare, stringul e imutabil, necesita reatribuire\n",
    "print(s)"
   ]
  },
  {
   "cell_type": "code",
   "execution_count": 125,
   "id": "feecf150",
   "metadata": {},
   "outputs": [
    {
     "name": "stdout",
     "output_type": "stream",
     "text": [
      "abcd\n"
     ]
    }
   ],
   "source": [
    "# stringul trebuia suprascris\n",
    "s = 'abc'\n",
    "s = s + 'd'  # sau s += 'd'\n",
    "print(s)"
   ]
  },
  {
   "cell_type": "code",
   "execution_count": 126,
   "id": "c0b656ac",
   "metadata": {
    "scrolled": true
   },
   "outputs": [
    {
     "data": {
      "text/plain": [
       "[100,\n",
       " 'doi',\n",
       " 'avion',\n",
       " 3,\n",
       " True,\n",
       " 3,\n",
       " 3,\n",
       " [100, 200, 300],\n",
       " (1, 2, 3),\n",
       " {'key': 'val'},\n",
       " None]"
      ]
     },
     "execution_count": 126,
     "metadata": {},
     "output_type": "execute_result"
    }
   ],
   "source": [
    "# putem sterge elemente din lista:\n",
    "my_list.remove(8.3)\n",
    "my_list"
   ]
  },
  {
   "cell_type": "code",
   "execution_count": 127,
   "id": "ae737449",
   "metadata": {},
   "outputs": [],
   "source": [
    "my_list.remove?"
   ]
  },
  {
   "cell_type": "code",
   "execution_count": 128,
   "id": "ce3d9be0",
   "metadata": {},
   "outputs": [
    {
     "data": {
      "text/plain": [
       "[100,\n",
       " 'doi',\n",
       " 'avion',\n",
       " True,\n",
       " 3,\n",
       " 3,\n",
       " [100, 200, 300],\n",
       " (1, 2, 3),\n",
       " {'key': 'val'},\n",
       " None]"
      ]
     },
     "execution_count": 128,
     "metadata": {},
     "output_type": "execute_result"
    }
   ],
   "source": [
    "my_list.remove(3)  # atentie! se sterge doar prima aparitie a elem\n",
    "my_list"
   ]
  },
  {
   "cell_type": "code",
   "execution_count": 129,
   "id": "da36f339",
   "metadata": {},
   "outputs": [
    {
     "data": {
      "text/plain": [
       "[100, 'doi', 'avion', True, 3, 3, [100, 200, 300], (1, 2, 3), {'key': 'val'}]"
      ]
     },
     "execution_count": 129,
     "metadata": {},
     "output_type": "execute_result"
    }
   ],
   "source": [
    "# putem sterge si de pe un index\n",
    "del my_list[-1]\n",
    "my_list"
   ]
  },
  {
   "cell_type": "code",
   "execution_count": 130,
   "id": "d3972880",
   "metadata": {},
   "outputs": [
    {
     "data": {
      "text/plain": [
       "False"
      ]
     },
     "execution_count": 130,
     "metadata": {},
     "output_type": "execute_result"
    }
   ],
   "source": [
    "[1,2,3] == [2,1,3]  # e False\n",
    "\n",
    "# => list e ordonata"
   ]
  },
  {
   "cell_type": "code",
   "execution_count": 131,
   "id": "7a658845",
   "metadata": {},
   "outputs": [
    {
     "data": {
      "text/plain": [
       "2"
      ]
     },
     "execution_count": 131,
     "metadata": {},
     "output_type": "execute_result"
    }
   ],
   "source": [
    "# Ce mai putem face cu listele?\n",
    "my_list.count(3)"
   ]
  },
  {
   "cell_type": "code",
   "execution_count": 133,
   "id": "9f746e43",
   "metadata": {},
   "outputs": [
    {
     "name": "stdout",
     "output_type": "stream",
     "text": [
      "<class 'list'>\n"
     ]
    }
   ],
   "source": [
    "print(type(my_list))"
   ]
  },
  {
   "cell_type": "code",
   "execution_count": 134,
   "id": "d9438f1f",
   "metadata": {},
   "outputs": [
    {
     "data": {
      "text/plain": [
       "4"
      ]
     },
     "execution_count": 134,
     "metadata": {},
     "output_type": "execute_result"
    }
   ],
   "source": [
    "lst = [11, 3, 26, 2, 1, 14, 13]\n",
    "#####   0  1  2   3  4\n",
    "lst.index(1)"
   ]
  },
  {
   "cell_type": "code",
   "execution_count": 135,
   "id": "d059c4c4",
   "metadata": {},
   "outputs": [
    {
     "data": {
      "text/plain": [
       "7"
      ]
     },
     "execution_count": 135,
     "metadata": {},
     "output_type": "execute_result"
    }
   ],
   "source": [
    "len(lst)"
   ]
  },
  {
   "cell_type": "code",
   "execution_count": 138,
   "id": "e7d52c9e",
   "metadata": {},
   "outputs": [
    {
     "data": {
      "text/plain": [
       "[26, 14, 13, 11, 3, 2, 1]"
      ]
     },
     "execution_count": 138,
     "metadata": {},
     "output_type": "execute_result"
    }
   ],
   "source": [
    "lst.sort(reverse=True)\n",
    "lst"
   ]
  },
  {
   "cell_type": "code",
   "execution_count": 144,
   "id": "64db3e0d",
   "metadata": {},
   "outputs": [
    {
     "name": "stdout",
     "output_type": "stream",
     "text": [
      "[1, 2, 4, 5, 7]\n",
      "[5, 1, 2, 7, 4]\n"
     ]
    }
   ],
   "source": [
    "lst = [5,1,2,7,4]\n",
    "sorted_lst = sorted(lst)\n",
    "print(sorted_lst)\n",
    "print(lst)"
   ]
  },
  {
   "cell_type": "code",
   "execution_count": 146,
   "id": "f4f7e449",
   "metadata": {},
   "outputs": [
    {
     "name": "stdout",
     "output_type": "stream",
     "text": [
      "a\n",
      "c\n",
      "False\n",
      "[100, 'b', 'c', 'd']\n"
     ]
    }
   ],
   "source": [
    "# Proprietati lista:\n",
    "lst = ['a', 'b', 'c']\n",
    "########    0    1    2\n",
    "\n",
    "# 1) lista e indexata!!\n",
    "print(lst[0])\n",
    "print(lst[-1])\n",
    "\n",
    "# 2) lista e ordonata!!\n",
    "l1 = [1,2,3]\n",
    "l2 = [2,1,3]\n",
    "print(l1 == l2)  # False, conteaza ordinea\n",
    "\n",
    "# 3) lista e mutabila!! \n",
    "lst = ['a', 'b', 'c']\n",
    "lst.append('d')  # adaug o noua val\n",
    "lst[0] = 100     # sau chiar modific o val\n",
    "print(lst)"
   ]
  },
  {
   "cell_type": "code",
   "execution_count": null,
   "id": "c93aa923",
   "metadata": {},
   "outputs": [],
   "source": []
  },
  {
   "cell_type": "code",
   "execution_count": 147,
   "id": "d969b6f3",
   "metadata": {},
   "outputs": [],
   "source": [
    "# TUPLE"
   ]
  },
  {
   "cell_type": "code",
   "execution_count": 148,
   "id": "6f4da67c",
   "metadata": {},
   "outputs": [],
   "source": [
    "# tuplele sunt colectii similare cu listele, cu exceptia ca sunt imutabile (odata create nu pot modificate) "
   ]
  },
  {
   "cell_type": "code",
   "execution_count": 149,
   "id": "9abcdcb4",
   "metadata": {},
   "outputs": [],
   "source": [
    "my_tuple = (1, 'doi', 3, True, 3, 3, 7.4)"
   ]
  },
  {
   "cell_type": "code",
   "execution_count": 155,
   "id": "b13aaa92",
   "metadata": {},
   "outputs": [],
   "source": [
    "my_tuple = (1, 'doi', 3, True, 3, 3, 7.4, ('q','w')) # putem pune si [1,2,3], {'key': 'val'} dar nu e recomandat"
   ]
  },
  {
   "cell_type": "code",
   "execution_count": 156,
   "id": "24a3f276",
   "metadata": {},
   "outputs": [
    {
     "data": {
      "text/plain": [
       "1"
      ]
     },
     "execution_count": 156,
     "metadata": {},
     "output_type": "execute_result"
    }
   ],
   "source": [
    "my_tuple[0]  \n",
    "\n",
    "# => tuple sunt indexate"
   ]
  },
  {
   "cell_type": "code",
   "execution_count": 157,
   "id": "f263118b",
   "metadata": {},
   "outputs": [
    {
     "data": {
      "text/plain": [
       "('q', 'w')"
      ]
     },
     "execution_count": 157,
     "metadata": {},
     "output_type": "execute_result"
    }
   ],
   "source": [
    "my_tuple[-1]"
   ]
  },
  {
   "cell_type": "code",
   "execution_count": 159,
   "id": "fe37fb5f",
   "metadata": {},
   "outputs": [
    {
     "data": {
      "text/plain": [
       "False"
      ]
     },
     "execution_count": 159,
     "metadata": {},
     "output_type": "execute_result"
    }
   ],
   "source": [
    "(1,2,3) == (2,1,3)\n",
    "\n",
    "# => tuple sunt ordonate"
   ]
  },
  {
   "cell_type": "code",
   "execution_count": 160,
   "id": "77f1036e",
   "metadata": {},
   "outputs": [
    {
     "ename": "TypeError",
     "evalue": "'tuple' object does not support item assignment",
     "output_type": "error",
     "traceback": [
      "\u001b[1;31m---------------------------------------------------------------------------\u001b[0m",
      "\u001b[1;31mTypeError\u001b[0m                                 Traceback (most recent call last)",
      "\u001b[1;32m~\\AppData\\Local\\Temp/ipykernel_13044/4144963076.py\u001b[0m in \u001b[0;36m<module>\u001b[1;34m\u001b[0m\n\u001b[1;32m----> 1\u001b[1;33m \u001b[0mmy_tuple\u001b[0m\u001b[1;33m[\u001b[0m\u001b[1;36m0\u001b[0m\u001b[1;33m]\u001b[0m \u001b[1;33m=\u001b[0m \u001b[1;36m100\u001b[0m  \u001b[1;31m#\u001b[0m\u001b[1;33m\u001b[0m\u001b[1;33m\u001b[0m\u001b[0m\n\u001b[0m",
      "\u001b[1;31mTypeError\u001b[0m: 'tuple' object does not support item assignment"
     ]
    }
   ],
   "source": [
    "my_tuple[0] = 100  # eroare\n",
    "\n",
    "# => tuple sunt imutabile (odata create nu pot fi modif!!!)"
   ]
  },
  {
   "cell_type": "code",
   "execution_count": 161,
   "id": "91e1d44b",
   "metadata": {},
   "outputs": [
    {
     "data": {
      "text/plain": [
       "(1, 'doi', 3, True, 3, 3, 7.4, ('q', 'w'))"
      ]
     },
     "execution_count": 161,
     "metadata": {},
     "output_type": "execute_result"
    }
   ],
   "source": [
    "my_tuple"
   ]
  },
  {
   "cell_type": "code",
   "execution_count": 162,
   "id": "2f3eb594",
   "metadata": {},
   "outputs": [
    {
     "data": {
      "text/plain": [
       "1"
      ]
     },
     "execution_count": 162,
     "metadata": {},
     "output_type": "execute_result"
    }
   ],
   "source": [
    "my_tuple.index('doi')"
   ]
  },
  {
   "cell_type": "code",
   "execution_count": 163,
   "id": "682a12f8",
   "metadata": {},
   "outputs": [
    {
     "data": {
      "text/plain": [
       "3"
      ]
     },
     "execution_count": 163,
     "metadata": {},
     "output_type": "execute_result"
    }
   ],
   "source": [
    "my_tuple.count(3)"
   ]
  },
  {
   "cell_type": "code",
   "execution_count": 164,
   "id": "c167f44b",
   "metadata": {},
   "outputs": [
    {
     "data": {
      "text/plain": [
       "8"
      ]
     },
     "execution_count": 164,
     "metadata": {},
     "output_type": "execute_result"
    }
   ],
   "source": [
    "len(my_tuple)"
   ]
  },
  {
   "cell_type": "code",
   "execution_count": 165,
   "id": "4a5679f8",
   "metadata": {},
   "outputs": [
    {
     "data": {
      "text/plain": [
       "tuple"
      ]
     },
     "execution_count": 165,
     "metadata": {},
     "output_type": "execute_result"
    }
   ],
   "source": [
    "type(my_tuple)"
   ]
  },
  {
   "cell_type": "code",
   "execution_count": 168,
   "id": "8229b568",
   "metadata": {},
   "outputs": [],
   "source": [
    "# my_tuple.insert(1, 'avioane') "
   ]
  },
  {
   "cell_type": "code",
   "execution_count": null,
   "id": "8fc3de5b",
   "metadata": {},
   "outputs": [],
   "source": []
  },
  {
   "cell_type": "code",
   "execution_count": 172,
   "id": "f561219e",
   "metadata": {},
   "outputs": [
    {
     "name": "stdout",
     "output_type": "stream",
     "text": [
      "12 0.8\n",
      "True\n",
      "False\n"
     ]
    }
   ],
   "source": [
    "# Proprietati tupla:\n",
    "t = (12, True, 'abc', 0.8)\n",
    "\n",
    "# tupla e indexata\n",
    "print(t[0], t[-1])\n",
    "\n",
    "# tupla e ordonata\n",
    "t1 = (1,2,3)\n",
    "t2 = (1,2,3)\n",
    "t3 = (3,2,1)\n",
    "print(t1 == t2)\n",
    "print(t1 == t3)\n",
    "\n",
    "# tupla e imutabila\n",
    "# t[0] = 1000  # eroare\n"
   ]
  },
  {
   "cell_type": "code",
   "execution_count": null,
   "id": "70359910",
   "metadata": {},
   "outputs": [],
   "source": []
  },
  {
   "cell_type": "code",
   "execution_count": 178,
   "id": "7c1a0216",
   "metadata": {},
   "outputs": [
    {
     "name": "stdout",
     "output_type": "stream",
     "text": [
      "('a', 10, 'b', 1234)\n"
     ]
    }
   ],
   "source": [
    "# Avem tupla t = ('a', 10, 'b') si vrem sa adaugam valoarea 1234, obtinand tupla ('a', 10, 'b', 1234)?\n",
    "t = ('a', 10, 'b')\n",
    "\n",
    "t = list(t)\n",
    "t.append(1234)\n",
    "t = tuple(t)\n",
    "print(t)"
   ]
  },
  {
   "cell_type": "code",
   "execution_count": 174,
   "id": "bc965d4c",
   "metadata": {},
   "outputs": [
    {
     "name": "stdout",
     "output_type": "stream",
     "text": [
      "<class 'float'> 3.5\n"
     ]
    }
   ],
   "source": [
    "x = '3.5'\n",
    "# vrem sa il transformam in numar?\n",
    "x = float(x)\n",
    "print(type(x), x)"
   ]
  },
  {
   "cell_type": "code",
   "execution_count": 181,
   "id": "a4f58594",
   "metadata": {},
   "outputs": [
    {
     "name": "stdout",
     "output_type": "stream",
     "text": [
      "x=10, y=5\n"
     ]
    }
   ],
   "source": [
    "# Exercitiu ce va poate ajuta la interviuri:\n",
    "\n",
    "# Daca avem x = 5 si y = 10, cum facem sa la interschimbam valorile?\n",
    "# Adica x sa devina 10 ,iar y 5\n",
    "\n",
    "x = 5\n",
    "y = 10\n",
    "\n",
    "# Varianta clasica din celelalte limbaje de programare\n",
    "# aux = x\n",
    "# x = y\n",
    "# y = aux\n",
    "# print(f'x={x}, y={y}')\n",
    "\n",
    "# Varianta smechera a Pythonului\n",
    "x, y = y, x   # se numeste tuple unpacking!\n",
    "# practic (x, y) = (y, x)  asa sa v`o imaginati\n",
    "print(f'x={x}, y={y}')\n",
    "\n",
    "\n",
    "# Tuple unpacking se foloseste frecvent la functii cand se returneaza mai mult de o valoare"
   ]
  },
  {
   "cell_type": "code",
   "execution_count": 186,
   "id": "6fdf14f0",
   "metadata": {},
   "outputs": [
    {
     "name": "stdout",
     "output_type": "stream",
     "text": [
      "(1, 2)\n",
      "<class 'tuple'>\n",
      "1\n",
      "2\n",
      "<class 'int'>\n"
     ]
    }
   ],
   "source": [
    "def my_func():\n",
    "    return 1,2\n",
    "\n",
    "returned_val = my_func()\n",
    "print(returned_val)\n",
    "print(type(returned_val))\n",
    "\n",
    "a, b = my_func()\n",
    "print(a)\n",
    "print(b)\n",
    "print(type(a))"
   ]
  },
  {
   "cell_type": "code",
   "execution_count": null,
   "id": "4b2b1c9e",
   "metadata": {},
   "outputs": [],
   "source": []
  },
  {
   "cell_type": "code",
   "execution_count": 187,
   "id": "bfc1953c",
   "metadata": {},
   "outputs": [],
   "source": [
    "# DICT"
   ]
  },
  {
   "cell_type": "code",
   "execution_count": 188,
   "id": "c46696ec",
   "metadata": {},
   "outputs": [],
   "source": [
    "# dictionarele sunt colectii/structuri de date care stocheaza elemente sub forma cheie:valoare"
   ]
  },
  {
   "cell_type": "code",
   "execution_count": 211,
   "id": "b0841257",
   "metadata": {},
   "outputs": [],
   "source": [
    "my_dict = {\n",
    "    \"brand\": \"Tesla\",\n",
    "    \"model\": \"X\",\n",
    "    \"year\": 2022,\n",
    "    \"is_licensed\": True,\n",
    "    5: 10,\n",
    "    2.1: \"two point one\",\n",
    "    \"availble_models\": ['X', 'Y', 'S', '3'],\n",
    "    \"specs\": {\"top_speed\": \"250kmh\", \"range\": \"650km\"},\n",
    "    (1,2,3): 'o valoare',\n",
    "}\n",
    "# !!cheile din dict trebuie sa fie tipuri de date imutabile!!"
   ]
  },
  {
   "cell_type": "code",
   "execution_count": 212,
   "id": "43633c9d",
   "metadata": {},
   "outputs": [
    {
     "ename": "TypeError",
     "evalue": "unhashable type: 'list'",
     "output_type": "error",
     "traceback": [
      "\u001b[1;31m---------------------------------------------------------------------------\u001b[0m",
      "\u001b[1;31mTypeError\u001b[0m                                 Traceback (most recent call last)",
      "\u001b[1;32m~\\AppData\\Local\\Temp/ipykernel_13044/2595919200.py\u001b[0m in \u001b[0;36m<module>\u001b[1;34m\u001b[0m\n\u001b[0;32m      1\u001b[0m \u001b[1;31m# Atentie, nu putem avea o lista drept cheie in dict\u001b[0m\u001b[1;33m\u001b[0m\u001b[1;33m\u001b[0m\u001b[1;33m\u001b[0m\u001b[0m\n\u001b[1;32m----> 2\u001b[1;33m \u001b[0md\u001b[0m \u001b[1;33m=\u001b[0m \u001b[1;33m{\u001b[0m\u001b[1;33m[\u001b[0m\u001b[1;36m1\u001b[0m\u001b[1;33m,\u001b[0m\u001b[1;36m2\u001b[0m\u001b[1;33m,\u001b[0m\u001b[1;36m3\u001b[0m\u001b[1;33m]\u001b[0m\u001b[1;33m:\u001b[0m \u001b[1;34m'valoare'\u001b[0m\u001b[1;33m}\u001b[0m  \u001b[1;31m# eroare\u001b[0m\u001b[1;33m\u001b[0m\u001b[1;33m\u001b[0m\u001b[0m\n\u001b[0m\u001b[0;32m      3\u001b[0m \u001b[1;33m\u001b[0m\u001b[0m\n\u001b[0;32m      4\u001b[0m \u001b[1;31m# Lista e mutabila, python nu poate risca asta, in spate, in memorie valorea e  asociata cheii si e stocata\u001b[0m\u001b[1;33m\u001b[0m\u001b[1;33m\u001b[0m\u001b[1;33m\u001b[0m\u001b[0m\n\u001b[0;32m      5\u001b[0m \u001b[1;31m# intr`o zona de memorie calculata pe baza acestei chei\u001b[0m\u001b[1;33m\u001b[0m\u001b[1;33m\u001b[0m\u001b[1;33m\u001b[0m\u001b[0m\n",
      "\u001b[1;31mTypeError\u001b[0m: unhashable type: 'list'"
     ]
    }
   ],
   "source": [
    "# Atentie, nu putem avea o lista drept cheie in dict\n",
    "d = {[1,2,3]: 'valoare'}  # eroare\n",
    "\n",
    "# Lista e mutabila, python nu poate risca asta, in spate, in memorie valorea e  asociata cheii si e stocata\n",
    "# intr`o zona de memorie calculata pe baza acestei chei"
   ]
  },
  {
   "cell_type": "code",
   "execution_count": 213,
   "id": "c833a30d",
   "metadata": {},
   "outputs": [
    {
     "name": "stdout",
     "output_type": "stream",
     "text": [
      "{('a', 'b', 'c'): 'ahaa'}\n"
     ]
    }
   ],
   "source": [
    "# Codul urmator da sau nu eroare?\n",
    "t = ('a','b','c')\n",
    "d = {t: 'ahaa'}\n",
    "print(d)"
   ]
  },
  {
   "cell_type": "code",
   "execution_count": 214,
   "id": "d86f3d21",
   "metadata": {},
   "outputs": [
    {
     "name": "stdout",
     "output_type": "stream",
     "text": [
      "Tesla\n"
     ]
    }
   ],
   "source": [
    "# accesam valorile prin intermediul cheilor\n",
    "print(my_dict['brand'])\n",
    "\n",
    "# nu prin indecsi ca la str,list sau tuple\n",
    "# print(my_dict[0])  # eroare\n",
    "\n",
    "# => dict e neindexat"
   ]
  },
  {
   "cell_type": "code",
   "execution_count": 215,
   "id": "8d69dc2a",
   "metadata": {},
   "outputs": [
    {
     "data": {
      "text/plain": [
       "dict_keys(['brand', 'model', 'year', 'is_licensed', 5, 2.1, 'availble_models', 'specs', (1, 2, 3)])"
      ]
     },
     "execution_count": 215,
     "metadata": {},
     "output_type": "execute_result"
    }
   ],
   "source": [
    "my_dict.keys()  # afiseaza cheile in ordinea in care au fost introduse\n",
    "\n",
    "# => dict e ordonat! (in py2 nu era!)"
   ]
  },
  {
   "cell_type": "code",
   "execution_count": 216,
   "id": "156c4d5a",
   "metadata": {},
   "outputs": [
    {
     "data": {
      "text/plain": [
       "{'brand': 'Tesla',\n",
       " 'model': 'X',\n",
       " 'year': 2022,\n",
       " 'is_licensed': True,\n",
       " 5: 10,\n",
       " 2.1: 'two point one',\n",
       " 'availble_models': ['X', 'Y', 'S', '3'],\n",
       " 'specs': {'top_speed': '250kmh', 'range': '650km'},\n",
       " (1, 2, 3): 'o valoare',\n",
       " 'engine': 'electric'}"
      ]
     },
     "execution_count": 216,
     "metadata": {},
     "output_type": "execute_result"
    }
   ],
   "source": [
    "# putem adauga noi elemente in dict:\n",
    "my_dict['engine'] = 'electric'\n",
    "my_dict"
   ]
  },
  {
   "cell_type": "code",
   "execution_count": 217,
   "id": "be79f42e",
   "metadata": {},
   "outputs": [
    {
     "data": {
      "text/plain": [
       "{'brand': 'Tesla',\n",
       " 'model': 'S',\n",
       " 'year': 2022,\n",
       " 'is_licensed': True,\n",
       " 5: 10,\n",
       " 2.1: 'two point one',\n",
       " 'availble_models': ['X', 'Y', 'S', '3'],\n",
       " 'specs': {'top_speed': '250kmh', 'range': '650km'},\n",
       " (1, 2, 3): 'o valoare',\n",
       " 'engine': 'electric'}"
      ]
     },
     "execution_count": 217,
     "metadata": {},
     "output_type": "execute_result"
    }
   ],
   "source": [
    "# putem modifica anumite valori:\n",
    "my_dict['model'] = \"S\"\n",
    "my_dict\n",
    "\n",
    "# => dict e mutabil"
   ]
  },
  {
   "cell_type": "code",
   "execution_count": 218,
   "id": "bf9bb1c9",
   "metadata": {},
   "outputs": [
    {
     "data": {
      "text/plain": [
       "{'brand': 'Tesla',\n",
       " 'model': 'S',\n",
       " 'is_licensed': True,\n",
       " 5: 10,\n",
       " 2.1: 'two point one',\n",
       " 'availble_models': ['X', 'Y', 'S', '3'],\n",
       " 'specs': {'top_speed': '250kmh', 'range': '650km'},\n",
       " (1, 2, 3): 'o valoare',\n",
       " 'engine': 'electric'}"
      ]
     },
     "execution_count": 218,
     "metadata": {},
     "output_type": "execute_result"
    }
   ],
   "source": [
    "# putem sa stergem elemente (cheie:val)\n",
    "del my_dict['year']\n",
    "my_dict"
   ]
  },
  {
   "cell_type": "code",
   "execution_count": 219,
   "id": "50142076",
   "metadata": {},
   "outputs": [
    {
     "name": "stdout",
     "output_type": "stream",
     "text": [
      "10\n"
     ]
    },
    {
     "data": {
      "text/plain": [
       "{'brand': 'Tesla',\n",
       " 'model': 'S',\n",
       " 'is_licensed': True,\n",
       " 2.1: 'two point one',\n",
       " 'availble_models': ['X', 'Y', 'S', '3'],\n",
       " 'specs': {'top_speed': '250kmh', 'range': '650km'},\n",
       " (1, 2, 3): 'o valoare',\n",
       " 'engine': 'electric'}"
      ]
     },
     "execution_count": 219,
     "metadata": {},
     "output_type": "execute_result"
    }
   ],
   "source": [
    "# putem sterge returnand valoarea\n",
    "val = my_dict.pop(5)\n",
    "print(val)\n",
    "my_dict"
   ]
  },
  {
   "cell_type": "code",
   "execution_count": 223,
   "id": "6a81d8d4",
   "metadata": {},
   "outputs": [
    {
     "data": {
      "text/plain": [
       "'650km'"
      ]
     },
     "execution_count": 223,
     "metadata": {},
     "output_type": "execute_result"
    }
   ],
   "source": [
    "# Cum credeti ca retunam range-ul?\n",
    "my_dict['specs']['range']  # nested dict"
   ]
  },
  {
   "cell_type": "code",
   "execution_count": 226,
   "id": "2ff08379",
   "metadata": {},
   "outputs": [
    {
     "name": "stdout",
     "output_type": "stream",
     "text": [
      "Tesla\n",
      "dict_keys(['brand', 'model', 'is_licensed', 2.1, 'availble_models', 'specs', (1, 2, 3), 'engine'])\n",
      "{'brand': 'Tesla', 'model': 'S', 'is_licensed': True, 2.1: 'two point one', 'availble_models': ['X', 'Y', 'S', '3'], 'specs': {'top_speed': '250kmh', 'range': '650km'}, (1, 2, 3): 'o valoare', 'engine': 'electric', 'year': 2021}\n"
     ]
    }
   ],
   "source": [
    "# Proprietati dict:\n",
    "my_d = {'brand': 'Tesla', 'model': 'S', 'year': 2022}\n",
    "\n",
    "# dict e neindexat!!\n",
    "print(my_dict['brand'])\n",
    "# print(my_dict[0])  # eroare\n",
    "\n",
    "# dict e ordonat!!\n",
    "print(my_dict.keys())  # afisate in ordinea introdusa\n",
    "\n",
    "# dict e mutabil!!\n",
    "my_dict['year'] = 2021\n",
    "print(my_dict)"
   ]
  },
  {
   "cell_type": "code",
   "execution_count": 227,
   "id": "c3fc29d3",
   "metadata": {},
   "outputs": [
    {
     "name": "stdout",
     "output_type": "stream",
     "text": [
      "{'a': 1, 'b': 2}\n",
      "{'a': 1, 'b': 2, 'c': 3, 'd': 4}\n"
     ]
    }
   ],
   "source": [
    "# Ce functii mai au dict-urile?\n",
    "d1 = {'a': 1, 'b': 2}\n",
    "d2 = {'c': 3, 'd': 4}\n",
    "print(d1)\n",
    "d1.update(d2)\n",
    "print(d1)"
   ]
  },
  {
   "cell_type": "code",
   "execution_count": 228,
   "id": "c8c25dbf",
   "metadata": {},
   "outputs": [
    {
     "data": {
      "text/plain": [
       "dict_items([('a', 1), ('b', 2), ('c', 3), ('d', 4)])"
      ]
     },
     "execution_count": 228,
     "metadata": {},
     "output_type": "execute_result"
    }
   ],
   "source": [
    "d1.items()  # utila mai tarziu cand o sa iteram peste dict (la for)"
   ]
  },
  {
   "cell_type": "code",
   "execution_count": 230,
   "id": "7e809027",
   "metadata": {},
   "outputs": [
    {
     "name": "stdout",
     "output_type": "stream",
     "text": [
      "1\n",
      "1\n"
     ]
    }
   ],
   "source": [
    "print(d1.get('a'))\n",
    "\n",
    "# echivalent cu \n",
    "print(d1['a'])"
   ]
  },
  {
   "cell_type": "code",
   "execution_count": 232,
   "id": "ec0ff0f2",
   "metadata": {},
   "outputs": [
    {
     "name": "stdout",
     "output_type": "stream",
     "text": [
      "None\n"
     ]
    }
   ],
   "source": [
    "# dar, daca nu exista cheia returneaza un default\n",
    "# print(d1['x'])  # eroare\n",
    "print(d1.get('x'))"
   ]
  },
  {
   "cell_type": "code",
   "execution_count": 236,
   "id": "9c9bdd0a",
   "metadata": {},
   "outputs": [
    {
     "data": {
      "text/plain": [
       "'Nu exista cheia cautata!'"
      ]
     },
     "execution_count": 236,
     "metadata": {},
     "output_type": "execute_result"
    }
   ],
   "source": [
    "d1.get('x', 'Nu exista cheia cautata!')"
   ]
  },
  {
   "cell_type": "code",
   "execution_count": 237,
   "id": "46c1257b",
   "metadata": {},
   "outputs": [],
   "source": [
    "# TODO_1: Avand dictionarul:\n",
    "my_d = {'a': {'aa': 11, 'ab': 12}, 'c': {'ca': 31}}\n",
    "# 1. Cum putem returna valoarea cheii 'ab' din interiorul cheii 'a', iar daca nu exista sa afisam 'Cheia nu exista!'?\n",
    "# 2. Cum putem returna valoarea cheii 'b', iar daca nu exista sa afisam 'Cheia nu exista!'?\n",
    "# 3. Cum putem returna valoarea cheii 'cb' din interiorul cheii 'c', iar daca nu exista sa afisam 'Cheia nu exista!'?\n",
    "# 4. Cum putem returna valoarea cheii 'ba' din interiorul cheii 'b', iar daca nu exista sa afisam 'Cheia nu exista!'?"
   ]
  },
  {
   "cell_type": "code",
   "execution_count": null,
   "id": "139f3c9e",
   "metadata": {},
   "outputs": [],
   "source": []
  },
  {
   "cell_type": "code",
   "execution_count": 238,
   "id": "7fe5e08b",
   "metadata": {},
   "outputs": [],
   "source": [
    "# SET"
   ]
  },
  {
   "cell_type": "code",
   "execution_count": 239,
   "id": "b484e2d5",
   "metadata": {},
   "outputs": [],
   "source": [
    "# seturile sunt colectii care stocheaza date imutabile si nu contine duplicate"
   ]
  },
  {
   "cell_type": "code",
   "execution_count": 242,
   "id": "1f19287e",
   "metadata": {},
   "outputs": [],
   "source": [
    "my_set = {'alb', 'rosu', 22, False, (1,2,3), 2.66, 22}"
   ]
  },
  {
   "cell_type": "code",
   "execution_count": 243,
   "id": "ef53b9a1",
   "metadata": {},
   "outputs": [
    {
     "data": {
      "text/plain": [
       "{(1, 2, 3), 2.66, 22, False, 'alb', 'rosu'}"
      ]
     },
     "execution_count": 243,
     "metadata": {},
     "output_type": "execute_result"
    }
   ],
   "source": [
    "my_set  # 22 apare o singura data!!"
   ]
  },
  {
   "cell_type": "code",
   "execution_count": 245,
   "id": "8b50721e",
   "metadata": {},
   "outputs": [],
   "source": [
    "my_set[0]  # eroare, seturile nu au index\n",
    "\n",
    "# => set e neindexat"
   ]
  },
  {
   "cell_type": "code",
   "execution_count": 246,
   "id": "cba9897d",
   "metadata": {},
   "outputs": [
    {
     "name": "stdout",
     "output_type": "stream",
     "text": [
      "c\n",
      "b\n",
      "a\n"
     ]
    }
   ],
   "source": [
    "# putem accesa elementele doar daca iterm peste set\n",
    "s1 = {'a', 'b', 'c'}\n",
    "for elem in s1: \n",
    "    print(elem)"
   ]
  },
  {
   "cell_type": "code",
   "execution_count": 248,
   "id": "cb2ce286",
   "metadata": {},
   "outputs": [
    {
     "name": "stdout",
     "output_type": "stream",
     "text": [
      "c\n"
     ]
    }
   ],
   "source": [
    "# sau putem daca dam pop\n",
    "print(s1.pop())"
   ]
  },
  {
   "cell_type": "code",
   "execution_count": 249,
   "id": "57c0b648",
   "metadata": {},
   "outputs": [
    {
     "data": {
      "text/plain": [
       "True"
      ]
     },
     "execution_count": 249,
     "metadata": {},
     "output_type": "execute_result"
    }
   ],
   "source": [
    "s1 = {'a', 'b', 'c'}\n",
    "s2 = {'b', 'c', 'a'}\n",
    "\n",
    "s1 == s2  # e True\n",
    "\n",
    "# => set e neordonat"
   ]
  },
  {
   "cell_type": "code",
   "execution_count": 250,
   "id": "ffc13874",
   "metadata": {},
   "outputs": [
    {
     "data": {
      "text/plain": [
       "{'a', 'b', 'c', 'zzzzz'}"
      ]
     },
     "execution_count": 250,
     "metadata": {},
     "output_type": "execute_result"
    }
   ],
   "source": [
    "# putem adauga elemente noi in set\n",
    "s1.add('zzzzz')\n",
    "s1\n",
    "\n",
    "# => set e mutabil, dar !!contine doar elemente imutabile!!"
   ]
  },
  {
   "cell_type": "code",
   "execution_count": 253,
   "id": "c9178d3b",
   "metadata": {},
   "outputs": [
    {
     "name": "stdout",
     "output_type": "stream",
     "text": [
      "True\n",
      "{'verde', 'negru', 'alb', 'rosu', 'albastru'}\n"
     ]
    }
   ],
   "source": [
    "# Proprietati set:\n",
    "s = {'alb', 'rosu', 'negru', 'albastru'}\n",
    "\n",
    "# set nu e indexat!\n",
    "# print(s[0])  # eroare\n",
    "\n",
    "# set nu e ordonat!\n",
    "s1 = {'alb', 'rosu', 'negru', 'albastru'}\n",
    "s2 = {'negru', 'rosu', 'albastru', 'alb'}\n",
    "print(s1 == s2)  # e True\n",
    "\n",
    "# set e mutabil\n",
    "s1.add('verde')\n",
    "print(s1)"
   ]
  },
  {
   "cell_type": "code",
   "execution_count": 257,
   "id": "3c670294",
   "metadata": {},
   "outputs": [
    {
     "name": "stdout",
     "output_type": "stream",
     "text": [
      "Union: \n",
      "{'verde', 'negru', 'alb', 'rosu', 'albastru', 'mov'}\n",
      "Intersection: \n",
      "{'rosu', 'alb'}\n",
      "Difference: \n",
      "{'albastru', 'negru'}\n",
      "Symmetric difference: \n",
      "{'verde', 'negru', 'albastru', 'mov'}\n"
     ]
    }
   ],
   "source": [
    "# Seturile sunt echivalentul Python al multimilor matematice\n",
    "s1 = {'alb', 'rosu', 'negru', 'albastru'}\n",
    "s2 = {'verde', 'alb', 'rosu', 'mov'}\n",
    "\n",
    "# Operatii cu seturi:\n",
    "# UNION - elemente distincte\n",
    "print('Union: ')\n",
    "print(s1 | s2)\n",
    "\n",
    "# INTERSECTION - elem comune\n",
    "print(\"Intersection: \")\n",
    "print(s1 & s2)\n",
    "\n",
    "# DIFFERENCE - elem unice din primul set\n",
    "print(\"Difference: \")\n",
    "print(s1 - s2)\n",
    "\n",
    "# SYMMETRIC DIFFERENCE - elem unice intre cele doula (toate elem mai putin cele comune)\n",
    "print(\"Symmetric difference: \")\n",
    "print(s1 ^ s2)\n"
   ]
  },
  {
   "cell_type": "code",
   "execution_count": 258,
   "id": "df4eda14",
   "metadata": {},
   "outputs": [],
   "source": [
    "# Rezumat structuri de date (aka colectii de date, collections)\n",
    "\n",
    "#  LIST    | TUPLE    | DICT      | SET       |\n",
    "# indexata | indexata | neindexat | neindexat |\n",
    "# mutabila | imutabil | mutabil   | imutabil  |\n",
    "# ordonata | ordonata | ordonat   | neordonat |"
   ]
  },
  {
   "cell_type": "code",
   "execution_count": 259,
   "id": "f2a9c8f9",
   "metadata": {},
   "outputs": [],
   "source": [
    "# TODO_2: Avand lista l=[1,1,2,3,1,4,4,5,6,2], cum facem sa\n",
    "# eliminam duplicatele?"
   ]
  },
  {
   "cell_type": "code",
   "execution_count": null,
   "id": "cd7a1e27",
   "metadata": {},
   "outputs": [],
   "source": [
    "# TODO_3: Given the set: animals1 = {\"wolf\", \"cheetah\", \"elephant\", \"crocodile\"}: \n",
    "# 1. Add the following list of animals to it: lst1 = [\"horse\", \"chimpanzee\"] \n",
    "# 2. print only elements from set animals1 that are not found in set \n",
    "# animals2 = {\"jaguar\", \"horse\", \"wolf\", \"crocodile\"} \n",
    "# => {\"cheetah\", \"elephant\", \"chimpanzee\"}\n",
    "animals1 = {\"wolf\", \"cheetah\", \"elephant\", \"crocodile\"}\n",
    "lst1 = [\"horse\", \"chimpanzee\"] \n",
    "animals2 = {\"jaguar\", \"horse\", \"wolf\", \"crocodile\"}\n",
    "\n",
    "# 1.\n",
    "animals1 = animals1 ^ set(lst1)\n",
    "print(animals1)\n",
    "\n",
    "# 2.\n",
    "print(animals1 - animals2)"
   ]
  }
 ],
 "metadata": {
  "kernelspec": {
   "display_name": "Python 3 (ipykernel)",
   "language": "python",
   "name": "python3"
  },
  "language_info": {
   "codemirror_mode": {
    "name": "ipython",
    "version": 3
   },
   "file_extension": ".py",
   "mimetype": "text/x-python",
   "name": "python",
   "nbconvert_exporter": "python",
   "pygments_lexer": "ipython3",
   "version": "3.10.6"
  }
 },
 "nbformat": 4,
 "nbformat_minor": 5
}
