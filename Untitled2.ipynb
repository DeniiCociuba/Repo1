{
 "cells": [
  {
   "cell_type": "code",
   "execution_count": 3,
   "id": "a91df598",
   "metadata": {},
   "outputs": [
    {
     "name": "stdout",
     "output_type": "stream",
     "text": [
      "Introduceti nr:5\n",
      "Numarul 5 este numar natural\n"
     ]
    }
   ],
   "source": [
    "# Tema 2:\n",
    "\n",
    "# ex 1. if else e sintaxta care executa un bloc de cod cand o conditie a fost indeplinita\n",
    "# ex 2.\n",
    "\n",
    "x = int(input('Introduceti nr:'))\n",
    "if x >= 0:\n",
    "    print(f'Numarul {x} este numar natural')\n",
    "else:\n",
    "    print('Numarul introdus nu este numar natural')\n",
    "\n",
    "\n",
    "              "
   ]
  },
  {
   "cell_type": "code",
   "execution_count": 5,
   "id": "563b2042",
   "metadata": {},
   "outputs": [
    {
     "name": "stdout",
     "output_type": "stream",
     "text": [
      "Introduceti nr:-5\n",
      "Numarul este negativ\n"
     ]
    }
   ],
   "source": [
    "# ex 3.\n",
    "\n",
    "x = int(input('Introduceti nr:'))\n",
    "if x > 0:\n",
    "    print('Numarul este pozitiv')\n",
    "elif x < 0:\n",
    "    print('Numarul este negativ')\n",
    "else:\n",
    "    print('Numarul este neutru')\n"
   ]
  },
  {
   "cell_type": "code",
   "execution_count": 7,
   "id": "39874130",
   "metadata": {},
   "outputs": [
    {
     "name": "stdout",
     "output_type": "stream",
     "text": [
      "Introduceti nr:11\n",
      "Numarul 11 se afla intre -2 si 13\n"
     ]
    }
   ],
   "source": [
    "# Ex. 4\n",
    "\n",
    "x = int(input('Introduceti nr:'))\n",
    "\n",
    "if x>=-2 and x<=13:\n",
    "    \n",
    "    print(f'Numarul {x} se afla intre -2 si 13')\n",
    "    \n",
    "else:\n",
    "\n",
    "    print('Numarul nu se afla in acel interval')"
   ]
  },
  {
   "cell_type": "code",
   "execution_count": 10,
   "id": "3dccbf28",
   "metadata": {},
   "outputs": [
    {
     "name": "stdout",
     "output_type": "stream",
     "text": [
      "Introduceti X:10\n",
      "Introduceti Y:7\n",
      "Diferenta e mai mica decat 5\n"
     ]
    }
   ],
   "source": [
    "# Ex. 5\n",
    "\n",
    "x = int(input('Introduceti X:'))\n",
    "y = int(input('Introduceti Y:'))\n",
    "\n",
    "a = x-y\n",
    "\n",
    "if a<5:\n",
    "    print('Diferenta e mai mica decat 5')\n",
    "else:\n",
    "    print('Diferenta e mai mare decat 5')"
   ]
  },
  {
   "cell_type": "code",
   "execution_count": 11,
   "id": "9e47b9e3",
   "metadata": {},
   "outputs": [
    {
     "name": "stdout",
     "output_type": "stream",
     "text": [
      "Introduceti nr:30\n",
      "Numarul nu se afla in intervalul (5,27)\n"
     ]
    }
   ],
   "source": [
    "# Ex. 6\n",
    "\n",
    "x = int(input('Introduceti nr:'))\n",
    "y = range(5,27)\n",
    "\n",
    "if x not in y:\n",
    "    print('Numarul nu se afla in intervalul (5,27)')\n",
    "else:\n",
    "    print('Numarul se afla in intervalul (5,27)')"
   ]
  },
  {
   "cell_type": "code",
   "execution_count": 15,
   "id": "ec224f5a",
   "metadata": {},
   "outputs": [
    {
     "name": "stdout",
     "output_type": "stream",
     "text": [
      "Introduceti x:10\n",
      "Introduceti y:15\n",
      "Numarul 15 e mai mare\n"
     ]
    }
   ],
   "source": [
    "# Ex. 7\n",
    "\n",
    "x = int(input('Introduceti x:'))\n",
    "y = int(input('Introduceti y:'))\n",
    "\n",
    "if x==y:\n",
    "    print('Numerele sunt egale')\n",
    "elif x>y:\n",
    "    print(f'Numarul {x} e mai mare')\n",
    "else:\n",
    "    print(f'Numarul {y} e mai mare')      "
   ]
  },
  {
   "cell_type": "code",
   "execution_count": 16,
   "id": "12c2d305",
   "metadata": {},
   "outputs": [],
   "source": [
    "# Ex 8\n",
    "\n",
    "\n",
    "\n",
    "\n",
    "\n",
    "\n",
    "\n",
    "\n"
   ]
  },
  {
   "cell_type": "code",
   "execution_count": null,
   "id": "1a31ed38",
   "metadata": {},
   "outputs": [],
   "source": [
    "# Ex 9: \n",
    "\n",
    "     "
   ]
  },
  {
   "cell_type": "code",
   "execution_count": null,
   "id": "7500276d",
   "metadata": {},
   "outputs": [],
   "source": []
  }
 ],
 "metadata": {
  "kernelspec": {
   "display_name": "Python 3 (ipykernel)",
   "language": "python",
   "name": "python3"
  },
  "language_info": {
   "codemirror_mode": {
    "name": "ipython",
    "version": 3
   },
   "file_extension": ".py",
   "mimetype": "text/x-python",
   "name": "python",
   "nbconvert_exporter": "python",
   "pygments_lexer": "ipython3",
   "version": "3.10.6"
  }
 },
 "nbformat": 4,
 "nbformat_minor": 5
}
