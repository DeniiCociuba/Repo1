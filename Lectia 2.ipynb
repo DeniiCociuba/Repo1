{
 "cells": [
  {
   "cell_type": "code",
   "execution_count": 10,
   "id": "b22676d1",
   "metadata": {},
   "outputs": [
    {
     "name": "stdout",
     "output_type": "stream",
     "text": [
      "\n",
      "3\n",
      "5\n"
     ]
    }
   ],
   "source": [
    "# ex 9 daca am fi avut prop. : \"The coral is either the stupidest animal or the smartest rock,love it or loath it.\"\n",
    "#si am fi vrut sa calculam de cate ori apare cuvantul the, nu insiruiera de carcatere?\n",
    "# => 3 \" <The>\" coral is either <the> stupidest animal or <the> smartesr rock, love it or loathe it\"\n",
    "\n",
    "s1 = \"The coral is either  the stupidest animal or the smartest rock, love it or loathe it\"\n",
    "s1.count ('the' )\n",
    "# s1.count (' the ')\n",
    "\n",
    "#v1\n",
    "s1 = s1.lower ()\n",
    "s1 = ' ' + s1\n",
    "print ()\n",
    "print(s1.count(' the '))\n",
    "\n",
    "#v2\n",
    "s1 = s1 = \"The coral is either  the stupidest animal or the smartest rock, love it or loathe it\"\n",
    "s1 = s1.lower ()\n",
    "s1.split (' ').count('the') #splituim stringul dupa fiecare carcater spatiu ' '\n",
    "print(s1.count('the'))"
   ]
  },
  {
   "cell_type": "code",
   "execution_count": 3,
   "id": "4213a088",
   "metadata": {},
   "outputs": [
    {
     "data": {
      "text/plain": [
       "'the coral'"
      ]
     },
     "execution_count": 3,
     "metadata": {},
     "output_type": "execute_result"
    }
   ],
   "source": [
    "s1 = 'THE Coral'\n",
    "s1.lower ()"
   ]
  },
  {
   "cell_type": "code",
   "execution_count": null,
   "id": "2c2a300b",
   "metadata": {},
   "outputs": [],
   "source": [
    "# ex 14 - citeste un string de la tastaura de ex 'alabala portocala':\n",
    "# a) salveaza le in 2 variabile separate\n",
    "# b) capitalizeaza toti 'a' in afara de primul.si ultimul carcater\n",
    "\n",
    "#a)\n",
    "# my_string = input ('Give me your string: ')\n",
    "\n",
    "#x,y = my_strin.split (\" \")\n",
    "#print (x)\n",
    "#print (y)\n",
    "\n",
    "#b) \"alabala portocala\" => \"alAbAlA portcoAla\"\n",
    "s1 = \"alabala portocala\"\n",
    "\n",
    "# parcurgem de la al 2-lea char pana la penultimul\n",
    "# print (s1[1:-1])\n",
    "to_upper = s1 [1:-1].replace ('a', 'A')\n",
    "# print (to_upper)\n",
    "\n",
    "to_upper = s1[0] + to_upper + s1 [-1]\n",
    "print(to_upper)"
   ]
  },
  {
   "cell_type": "code",
   "execution_count": null,
   "id": "984e90dc",
   "metadata": {},
   "outputs": [],
   "source": [
    "# ex 15 \n",
    "# e.g.: User, User1, parola123 => 9 carcatere => afiseaza: 'Parola pt user User1 este ********* si are 9 carcatere'\n",
    "\n",
    "user = input ('Insert your user: ')\n",
    "password = input (\"Insert your password: \")\n",
    "password_mask = len(password)* \"*\" # nr de caractere in stelute nr_char * = '*'\n",
    "\n",
    "print(f'Parola pt user {user}este {password mask} si are {len(password)} carcatere!)"
   ]
  },
  {
   "cell_type": "code",
   "execution_count": null,
   "id": "6b85d2ba",
   "metadata": {},
   "outputs": [],
   "source": []
  },
  {
   "cell_type": "code",
   "execution_count": null,
   "id": "12f10089",
   "metadata": {},
   "outputs": [],
   "source": []
  },
  {
   "cell_type": "code",
   "execution_count": null,
   "id": "701f257a",
   "metadata": {},
   "outputs": [],
   "source": []
  },
  {
   "cell_type": "code",
   "execution_count": null,
   "id": "e2bbf3f0",
   "metadata": {},
   "outputs": [],
   "source": []
  },
  {
   "cell_type": "code",
   "execution_count": null,
   "id": "6c335d5b",
   "metadata": {},
   "outputs": [],
   "source": []
  },
  {
   "cell_type": "code",
   "execution_count": null,
   "id": "a110783d",
   "metadata": {},
   "outputs": [],
   "source": [
    "# INTALNIREA 2 - Operatori, Conditionale"
   ]
  },
  {
   "cell_type": "code",
   "execution_count": null,
   "id": "84d8d880",
   "metadata": {},
   "outputs": [],
   "source": [
    "# Operatori de atribuire: = , += , -=, *=, /="
   ]
  },
  {
   "cell_type": "code",
   "execution_count": 18,
   "id": "ce12d567",
   "metadata": {},
   "outputs": [
    {
     "name": "stdout",
     "output_type": "stream",
     "text": [
      "50\n"
     ]
    }
   ],
   "source": [
    "# Avem x = 10 si vrem sa il marim de 5 ori\n",
    "x = 10\n",
    "x *= 5\n",
    "print(x)"
   ]
  },
  {
   "cell_type": "code",
   "execution_count": 17,
   "id": "a8e99a7f",
   "metadata": {},
   "outputs": [
    {
     "name": "stdout",
     "output_type": "stream",
     "text": [
      "6.0\n"
     ]
    }
   ],
   "source": [
    "y = 12\n",
    "# vrem sa il injumatatim pe y \n",
    "y /= 2\n",
    "print(y)"
   ]
  },
  {
   "cell_type": "code",
   "execution_count": 16,
   "id": "bd278bf6",
   "metadata": {},
   "outputs": [
    {
     "name": "stdout",
     "output_type": "stream",
     "text": [
      "7\n",
      "-3\n",
      "10\n",
      "2.5\n"
     ]
    }
   ],
   "source": [
    "x = 2\n",
    "y = 5\n",
    "print(x + y)\n",
    "print(x - y)\n",
    "print(x * y)\n",
    "print(y / x)\n",
    "\n",
    "#nu merge sa dau run"
   ]
  },
  {
   "cell_type": "code",
   "execution_count": 15,
   "id": "ab82c469",
   "metadata": {},
   "outputs": [
    {
     "name": "stdout",
     "output_type": "stream",
     "text": [
      "3.6666666666666665\n",
      "3\n"
     ]
    }
   ],
   "source": [
    "x = 11\n",
    "y = 3\n",
    "print(x / y) #impartire cu zecimale\n",
    "print (x // y) #returneaza partea intreaga (Catul)\n",
    "# nu merge sa dau run"
   ]
  },
  {
   "cell_type": "code",
   "execution_count": null,
   "id": "ff7d107e",
   "metadata": {},
   "outputs": [],
   "source": [
    "# D / I (impartitul) = C (catul) + R (restul)\n",
    "# // returneaza C\n",
    "# % returneaza R"
   ]
  },
  {
   "cell_type": "code",
   "execution_count": 14,
   "id": "2bd3433c",
   "metadata": {},
   "outputs": [
    {
     "name": "stdout",
     "output_type": "stream",
     "text": [
      "2\n"
     ]
    }
   ],
   "source": [
    "x = 11\n",
    "y = 3\n",
    "print (x % y)\n",
    "\n",
    "# 11 / 3 = 3 r 2\n",
    "\n",
    "#nu merge sa dau run "
   ]
  },
  {
   "cell_type": "code",
   "execution_count": 13,
   "id": "68414b84",
   "metadata": {},
   "outputs": [
    {
     "ename": "SyntaxError",
     "evalue": "invalid syntax. Perhaps you forgot a comma? (3198739120.py, line 2)",
     "output_type": "error",
     "traceback": [
      "\u001b[1;36m  Input \u001b[1;32mIn [13]\u001b[1;36m\u001b[0m\n\u001b[1;33m    print(z / y x) # se pastreaza ordinea efectuarii operatiilor la mate\u001b[0m\n\u001b[1;37m          ^\u001b[0m\n\u001b[1;31mSyntaxError\u001b[0m\u001b[1;31m:\u001b[0m invalid syntax. Perhaps you forgot a comma?\n"
     ]
    }
   ],
   "source": [
    "x,y,z = 2, 4, 8\n",
    "print(z / y x) # se pastreaza ordinea efectuarii operatiilor la mate\n",
    "\n",
    "# nu merge run"
   ]
  },
  {
   "cell_type": "code",
   "execution_count": 12,
   "id": "780ec6f0",
   "metadata": {},
   "outputs": [
    {
     "ename": "ZeroDivisionError",
     "evalue": "division by zero",
     "output_type": "error",
     "traceback": [
      "\u001b[1;31m---------------------------------------------------------------------------\u001b[0m",
      "\u001b[1;31mZeroDivisionError\u001b[0m                         Traceback (most recent call last)",
      "Input \u001b[1;32mIn [12]\u001b[0m, in \u001b[0;36m<cell line: 2>\u001b[1;34m()\u001b[0m\n\u001b[0;32m      1\u001b[0m x \u001b[38;5;241m=\u001b[39m \u001b[38;5;241m10\u001b[39m\n\u001b[1;32m----> 2\u001b[0m \u001b[38;5;28mprint\u001b[39m (\u001b[43mx\u001b[49m\u001b[43m \u001b[49m\u001b[38;5;241;43m/\u001b[39;49m\u001b[43m \u001b[49m\u001b[38;5;241;43m0\u001b[39;49m)\n",
      "\u001b[1;31mZeroDivisionError\u001b[0m: division by zero"
     ]
    }
   ],
   "source": [
    "x = 10\n",
    "print (x / 0) # eroare in python\n",
    "\n",
    "# no run"
   ]
  },
  {
   "cell_type": "code",
   "execution_count": 10,
   "id": "4f519599",
   "metadata": {},
   "outputs": [
    {
     "name": "stdout",
     "output_type": "stream",
     "text": [
      "11\n"
     ]
    }
   ],
   "source": [
    "print ( 1 + 2 + 5 * 2 - 2)\n",
    "#no run"
   ]
  },
  {
   "cell_type": "code",
   "execution_count": 11,
   "id": "d4cd3b9c",
   "metadata": {},
   "outputs": [
    {
     "name": "stdout",
     "output_type": "stream",
     "text": [
      "13\n"
     ]
    }
   ],
   "source": [
    "print (1+ (2 + 5) * 2 - 2)\n",
    "#no run"
   ]
  },
  {
   "cell_type": "code",
   "execution_count": 7,
   "id": "4eb0834f",
   "metadata": {},
   "outputs": [
    {
     "data": {
      "text/plain": [
       "True"
      ]
     },
     "execution_count": 7,
     "metadata": {},
     "output_type": "execute_result"
    }
   ],
   "source": [
    "# sa presupunem ca x = 22 si vrem sa determinam daca x e par sau nu?\n",
    "x = 22\n",
    "x % 2 == 0"
   ]
  },
  {
   "cell_type": "code",
   "execution_count": 8,
   "id": "49c6382c",
   "metadata": {},
   "outputs": [
    {
     "data": {
      "text/plain": [
       "27"
      ]
     },
     "execution_count": 8,
     "metadata": {},
     "output_type": "execute_result"
    }
   ],
   "source": [
    "x = 3 \n",
    "x ** 3 \n",
    "\n",
    "# 3 ^ 3 = 3 * 3 * 3 = 27\n",
    "\n",
    "#no run la nici care de mai sus"
   ]
  },
  {
   "cell_type": "code",
   "execution_count": 9,
   "id": "b9dc248c",
   "metadata": {},
   "outputs": [
    {
     "data": {
      "text/plain": [
       "27"
      ]
     },
     "execution_count": 9,
     "metadata": {},
     "output_type": "execute_result"
    }
   ],
   "source": [
    "x = 3 \n",
    "pow (x, 3)"
   ]
  },
  {
   "cell_type": "code",
   "execution_count": null,
   "id": "cec3b850",
   "metadata": {},
   "outputs": [],
   "source": []
  },
  {
   "cell_type": "code",
   "execution_count": null,
   "id": "0ab0fab5",
   "metadata": {},
   "outputs": [],
   "source": [
    "# Operatori de comparare ==, !=. <=, >=, <, >"
   ]
  },
  {
   "cell_type": "code",
   "execution_count": 6,
   "id": "27af7317",
   "metadata": {},
   "outputs": [
    {
     "name": "stdout",
     "output_type": "stream",
     "text": [
      "True\n",
      "False\n",
      "False\n",
      "True\n"
     ]
    }
   ],
   "source": [
    "print(5 > 2)\n",
    "print(5 < 2)\n",
    "print (5 == 2)\n",
    "print( 5 != 2)\n",
    "\n",
    "# no run"
   ]
  },
  {
   "cell_type": "code",
   "execution_count": 5,
   "id": "7e75639e",
   "metadata": {},
   "outputs": [
    {
     "name": "stdout",
     "output_type": "stream",
     "text": [
      "True\n"
     ]
    }
   ],
   "source": [
    "s1 = 'abc'\n",
    "s2 = 'xy'\n",
    "print(s1 < s2) # comparatia se face pozitie cu poztitie "
   ]
  },
  {
   "cell_type": "code",
   "execution_count": 4,
   "id": "7ae518ca",
   "metadata": {},
   "outputs": [
    {
     "data": {
      "text/plain": [
       "97"
      ]
     },
     "execution_count": 4,
     "metadata": {},
     "output_type": "execute_result"
    }
   ],
   "source": [
    "ord ('a')\n",
    "#run"
   ]
  },
  {
   "cell_type": "code",
   "execution_count": 3,
   "id": "7c40f080",
   "metadata": {},
   "outputs": [
    {
     "data": {
      "text/plain": [
       "120"
      ]
     },
     "execution_count": 3,
     "metadata": {},
     "output_type": "execute_result"
    }
   ],
   "source": [
    "ord ('x')\n",
    "#run"
   ]
  },
  {
   "cell_type": "code",
   "execution_count": 2,
   "id": "7b9e50c1",
   "metadata": {},
   "outputs": [],
   "source": [
    "s1 = 'abc'\n",
    "s2 = 'bac'"
   ]
  },
  {
   "cell_type": "code",
   "execution_count": null,
   "id": "ee415711",
   "metadata": {},
   "outputs": [],
   "source": []
  },
  {
   "cell_type": "code",
   "execution_count": null,
   "id": "7c5be767",
   "metadata": {},
   "outputs": [],
   "source": []
  },
  {
   "cell_type": "code",
   "execution_count": null,
   "id": "38b3c97d",
   "metadata": {},
   "outputs": [],
   "source": [
    "# Operatori logici: and, or, not"
   ]
  },
  {
   "cell_type": "code",
   "execution_count": 1,
   "id": "9b442c32",
   "metadata": {},
   "outputs": [
    {
     "data": {
      "text/plain": [
       "False"
      ]
     },
     "execution_count": 1,
     "metadata": {},
     "output_type": "execute_result"
    }
   ],
   "source": [
    "True and False"
   ]
  },
  {
   "cell_type": "code",
   "execution_count": 19,
   "id": "56da5982",
   "metadata": {},
   "outputs": [],
   "source": [
    "#   A   |   B   |   and |   or  |  not A\n",
    "# True  | True  |  True | True  | False\n",
    "# True  | False | False | True  | False\n",
    "# False | True  | False | True  | True\n",
    "# False | False | False | False | True"
   ]
  },
  {
   "cell_type": "code",
   "execution_count": 21,
   "id": "90cfbfb2",
   "metadata": {},
   "outputs": [
    {
     "data": {
      "text/plain": [
       "True"
      ]
     },
     "execution_count": 21,
     "metadata": {},
     "output_type": "execute_result"
    }
   ],
   "source": [
    "False or not False and True\n",
    "\n",
    "# False or True and True\n",
    "# True and True\n",
    "# True"
   ]
  },
  {
   "cell_type": "code",
   "execution_count": 22,
   "id": "3183ffb5",
   "metadata": {},
   "outputs": [
    {
     "data": {
      "text/plain": [
       "True"
      ]
     },
     "execution_count": 22,
     "metadata": {},
     "output_type": "execute_result"
    }
   ],
   "source": [
    "False and False or True and True\n",
    "\n",
    "# Fals or True and True\n",
    "# False or True\n",
    "# True\n"
   ]
  },
  {
   "cell_type": "code",
   "execution_count": 23,
   "id": "4ef488b2",
   "metadata": {},
   "outputs": [
    {
     "name": "stdout",
     "output_type": "stream",
     "text": [
      "False\n"
     ]
    }
   ],
   "source": [
    "print (False and (False or True) and True)\n",
    "#       False and True and True \n",
    "#       False and True\n",
    "#       False"
   ]
  },
  {
   "cell_type": "code",
   "execution_count": 24,
   "id": "38d3570a",
   "metadata": {},
   "outputs": [
    {
     "name": "stdout",
     "output_type": "stream",
     "text": [
      "True\n"
     ]
    }
   ],
   "source": [
    "print (not(5>7))"
   ]
  },
  {
   "cell_type": "code",
   "execution_count": 25,
   "id": "68accf61",
   "metadata": {},
   "outputs": [
    {
     "data": {
      "text/plain": [
       "7"
      ]
     },
     "execution_count": 25,
     "metadata": {},
     "output_type": "execute_result"
    }
   ],
   "source": [
    "5 and 7"
   ]
  },
  {
   "cell_type": "code",
   "execution_count": 26,
   "id": "a4e69b6e",
   "metadata": {},
   "outputs": [
    {
     "data": {
      "text/plain": [
       "True"
      ]
     },
     "execution_count": 26,
     "metadata": {},
     "output_type": "execute_result"
    }
   ],
   "source": [
    "x = 12\n",
    "x < 7 or x > 10"
   ]
  },
  {
   "cell_type": "code",
   "execution_count": 28,
   "id": "65feca11",
   "metadata": {},
   "outputs": [
    {
     "name": "stdout",
     "output_type": "stream",
     "text": [
      "True\n",
      "False\n"
     ]
    }
   ],
   "source": [
    "x = 10 \n",
    "y = 8 \n",
    "z = 9 \n",
    "#Vrem sa verificam daca x e mai mare decat y si mai mare decat z\n",
    "\n",
    "print((x > y) and (x > z))\n",
    "print(x > y > z) #gresit"
   ]
  },
  {
   "cell_type": "code",
   "execution_count": null,
   "id": "7e572b89",
   "metadata": {},
   "outputs": [],
   "source": []
  },
  {
   "cell_type": "code",
   "execution_count": 29,
   "id": "4eba7c6a",
   "metadata": {},
   "outputs": [],
   "source": [
    "# Operatori de identitate: is, is not"
   ]
  },
  {
   "cell_type": "code",
   "execution_count": 30,
   "id": "6024005d",
   "metadata": {},
   "outputs": [
    {
     "name": "stdout",
     "output_type": "stream",
     "text": [
      "True\n",
      "True\n",
      "True\n"
     ]
    }
   ],
   "source": [
    "a = 2\n",
    "b = 2\n",
    "c = a\n",
    "print(a is b)\n",
    "print(a is c)\n",
    "print(b is c)"
   ]
  },
  {
   "cell_type": "code",
   "execution_count": 31,
   "id": "5f961e16",
   "metadata": {},
   "outputs": [
    {
     "name": "stdout",
     "output_type": "stream",
     "text": [
      "True\n",
      "True\n",
      "True\n"
     ]
    }
   ],
   "source": [
    "s1 = 'que'\n",
    "s2 = 'que'\n",
    "s3 = s1\n",
    "print(s1 is s2)\n",
    "print(s2 is s3)\n",
    "print(s3 is s1)"
   ]
  },
  {
   "cell_type": "code",
   "execution_count": 32,
   "id": "a4ff813e",
   "metadata": {},
   "outputs": [
    {
     "name": "stdout",
     "output_type": "stream",
     "text": [
      "False\n",
      "False\n",
      "True\n"
     ]
    }
   ],
   "source": [
    "l1 = [1,2,3]\n",
    "l2 = [1,2,3]\n",
    "l3 = l1\n",
    "print(l1 is l2)\n",
    "print(l2 is l3)\n",
    "print(l3 is l1)"
   ]
  },
  {
   "cell_type": "code",
   "execution_count": null,
   "id": "eda99956",
   "metadata": {},
   "outputs": [],
   "source": []
  }
 ],
 "metadata": {
  "kernelspec": {
   "display_name": "Python 3 (ipykernel)",
   "language": "python",
   "name": "python3"
  },
  "language_info": {
   "codemirror_mode": {
    "name": "ipython",
    "version": 3
   },
   "file_extension": ".py",
   "mimetype": "text/x-python",
   "name": "python",
   "nbconvert_exporter": "python",
   "pygments_lexer": "ipython3",
   "version": "3.10.6"
  }
 },
 "nbformat": 4,
 "nbformat_minor": 5
}
