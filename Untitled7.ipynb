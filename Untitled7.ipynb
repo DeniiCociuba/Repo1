{
 "cells": [
  {
   "cell_type": "markdown",
   "id": "b52ff29d",
   "metadata": {},
   "source": [
    "# TEMA 5"
   ]
  },
  {
   "cell_type": "code",
   "execution_count": 4,
   "id": "f300eb87",
   "metadata": {},
   "outputs": [
    {
     "name": "stdout",
     "output_type": "stream",
     "text": [
      "10\n",
      "172\n"
     ]
    }
   ],
   "source": [
    "# ex 1.:\n",
    "def sum_2(a,b):\n",
    "    print(a+b)\n",
    "    \n",
    "sum_2(5,5)\n",
    "sum_2(79,93)"
   ]
  },
  {
   "cell_type": "code",
   "execution_count": 5,
   "id": "e778d1d2",
   "metadata": {},
   "outputs": [
    {
     "name": "stdout",
     "output_type": "stream",
     "text": [
      "False\n"
     ]
    }
   ],
   "source": [
    "# ex. 2\n",
    "\n",
    "def par_impar(a):\n",
    "    if a % 2 == 0:\n",
    "        return True\n",
    "    else:\n",
    "        return False\n",
    "print(par_impar(5))"
   ]
  },
  {
   "cell_type": "code",
   "execution_count": 4,
   "id": "17a7fb27",
   "metadata": {},
   "outputs": [
    {
     "name": "stdout",
     "output_type": "stream",
     "text": [
      "20\n"
     ]
    }
   ],
   "source": [
    "# ex3. \n",
    "def nume_complet(nume, prenume1, prenume2):\n",
    "    return (len(nume + prenume1 + prenume2))\n",
    "print(nume_complet (\"Cociuba\", \"Denisa\", \"Daniela\"))"
   ]
  },
  {
   "cell_type": "code",
   "execution_count": 5,
   "id": "7f475d81",
   "metadata": {},
   "outputs": [
    {
     "name": "stdout",
     "output_type": "stream",
     "text": [
      "63\n"
     ]
    }
   ],
   "source": [
    "# ex 4:\n",
    "\n",
    "def aria_dreptunghiului(a,b):\n",
    "    return (a * b)\n",
    "print(aria_dreptunghiului(7,9))"
   ]
  },
  {
   "cell_type": "code",
   "execution_count": 8,
   "id": "315b0872",
   "metadata": {},
   "outputs": [
    {
     "name": "stdout",
     "output_type": "stream",
     "text": [
      "25\n"
     ]
    }
   ],
   "source": [
    "# ex 5:\n",
    "\n",
    "def aria_cercului(raza):\n",
    "    return (raza * raza)\n",
    "print(aria_cercului (5))"
   ]
  },
  {
   "cell_type": "code",
   "execution_count": 13,
   "id": "8da325de",
   "metadata": {},
   "outputs": [
    {
     "name": "stdout",
     "output_type": "stream",
     "text": [
      "True\n"
     ]
    }
   ],
   "source": [
    "# ex 6:\n",
    "def bool_caracter(x, string):\n",
    "    if x in string:\n",
    "        return True\n",
    "    else:\n",
    "        return False\n",
    "print(bool_caracter('D', \"Denisa\"))"
   ]
  },
  {
   "cell_type": "code",
   "execution_count": 14,
   "id": "ede34005",
   "metadata": {},
   "outputs": [],
   "source": [
    "# ex 7"
   ]
  },
  {
   "cell_type": "code",
   "execution_count": 16,
   "id": "cedee540",
   "metadata": {},
   "outputs": [
    {
     "ename": "SyntaxError",
     "evalue": "incomplete input (2175577888.py, line 4)",
     "output_type": "error",
     "traceback": [
      "\u001b[1;36m  Input \u001b[1;32mIn [16]\u001b[1;36m\u001b[0m\n\u001b[1;33m    \u001b[0m\n\u001b[1;37m    ^\u001b[0m\n\u001b[1;31mSyntaxError\u001b[0m\u001b[1;31m:\u001b[0m incomplete input\n"
     ]
    }
   ],
   "source": [
    "# ex 8:\n",
    "def nr_pozitive(lista):\n",
    "    \n",
    "    "
   ]
  },
  {
   "cell_type": "code",
   "execution_count": 17,
   "id": "a5dfb8f2",
   "metadata": {},
   "outputs": [
    {
     "name": "stdout",
     "output_type": "stream",
     "text": [
      "Al doilea nr 10 este mai mare decat primul 5\n"
     ]
    }
   ],
   "source": [
    "#ex. 9\n",
    "\n",
    "def mare_mic(x,y):\n",
    "    if x > y:\n",
    "        print(f\"Primul nr {x} este mai mare decat al doilea nr {y}\")\n",
    "    elif x < y:\n",
    "        print(f\"Al doilea nr {y} este mai mare decat primul {x}\")\n",
    "    else:\n",
    "        print(f\"Numerele sunt egale.\")\n",
    "mare_mic(5,10)"
   ]
  },
  {
   "cell_type": "code",
   "execution_count": null,
   "id": "24821c39",
   "metadata": {},
   "outputs": [],
   "source": []
  }
 ],
 "metadata": {
  "kernelspec": {
   "display_name": "Python 3 (ipykernel)",
   "language": "python",
   "name": "python3"
  },
  "language_info": {
   "codemirror_mode": {
    "name": "ipython",
    "version": 3
   },
   "file_extension": ".py",
   "mimetype": "text/x-python",
   "name": "python",
   "nbconvert_exporter": "python",
   "pygments_lexer": "ipython3",
   "version": "3.10.6"
  }
 },
 "nbformat": 4,
 "nbformat_minor": 5
}
