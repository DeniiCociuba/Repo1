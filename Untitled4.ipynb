{
 "cells": [
  {
   "cell_type": "code",
   "execution_count": 24,
   "id": "23d694b6",
   "metadata": {},
   "outputs": [
    {
     "name": "stdout",
     "output_type": "stream",
     "text": [
      "['do', 're', 'mi', 'fa', 'sol', 'la', 'si', 'do']\n"
     ]
    }
   ],
   "source": [
    "note_muzicale = [\"do\", \"re\", \"mi\", \"fa\", \"sol\", \"la\", \"si\", \"do\"]\n",
    "print(note_muzicale)"
   ]
  },
  {
   "cell_type": "code",
   "execution_count": 25,
   "id": "ac6f3507",
   "metadata": {},
   "outputs": [
    {
     "name": "stdout",
     "output_type": "stream",
     "text": [
      "['do', 'si', 'la', 'sol', 'fa', 'mi', 're', 'do']\n"
     ]
    }
   ],
   "source": [
    "print(note_muzicale[: :-1])"
   ]
  },
  {
   "cell_type": "code",
   "execution_count": 26,
   "id": "e4aeaad3",
   "metadata": {},
   "outputs": [],
   "source": [
    "note_muzicale = [\"do\", \"si\", \"la\", \"sol,\", \"fa\", \"mi\", \"re\", \"do\"]"
   ]
  },
  {
   "cell_type": "code",
   "execution_count": 27,
   "id": "eac9e6ae",
   "metadata": {
    "scrolled": true
   },
   "outputs": [
    {
     "name": "stdout",
     "output_type": "stream",
     "text": [
      "2\n"
     ]
    }
   ],
   "source": [
    "#2\n",
    "print(note_muzicale.count('do'))"
   ]
  },
  {
   "cell_type": "code",
   "execution_count": 30,
   "id": "a471c59b",
   "metadata": {},
   "outputs": [
    {
     "name": "stdout",
     "output_type": "stream",
     "text": [
      "[3, 1, 0, 2, 6, 5, 4]\n"
     ]
    }
   ],
   "source": [
    "my_list1 = [3, 1, 0, 2]\n",
    "my_list2 = [6, 5, 4]\n",
    "my_list = my_list1 + my_list2\n",
    "print(my_list)"
   ]
  },
  {
   "cell_type": "code",
   "execution_count": 44,
   "id": "0e1ec05d",
   "metadata": {},
   "outputs": [
    {
     "name": "stdout",
     "output_type": "stream",
     "text": [
      "[0, 1, 2, 3, 4, 5, 6]\n",
      "3\n",
      "[3, 1, 0, 2, 6, 5, 4]\n"
     ]
    }
   ],
   "source": [
    "my_list = [3, 1, 0, 2, 6, 5, 4]\n",
    "sorted_my_list = sorted(my_list)\n",
    "print(sorted_my_list)\n",
    "print(my_list[0])\n",
    "print(my_list)"
   ]
  },
  {
   "cell_type": "markdown",
   "id": "05982d15",
   "metadata": {},
   "source": [
    "# LECTIA 4 - CICLURI REPETITIVE"
   ]
  },
  {
   "cell_type": "code",
   "execution_count": 46,
   "id": "52435089",
   "metadata": {},
   "outputs": [],
   "source": [
    "# WHILE"
   ]
  },
  {
   "cell_type": "code",
   "execution_count": 47,
   "id": "2a4f9d5e",
   "metadata": {},
   "outputs": [],
   "source": [
    "# while - e o bucla (aka Loop) cu numar necunoscut de iteratii (repetari)\n",
    "#in care blocul de cod se executa\n",
    "#atata timp cat conditia e adevarata"
   ]
  },
  {
   "cell_type": "code",
   "execution_count": 48,
   "id": "488e17a0",
   "metadata": {},
   "outputs": [
    {
     "name": "stdout",
     "output_type": "stream",
     "text": [
      "1\n",
      "2\n",
      "3\n"
     ]
    }
   ],
   "source": [
    "i = 1\n",
    "while i <= 3: # la un mom dat conditia trebuie neaparat sa nu mai fie adevarata\n",
    "    print(i)\n",
    "    i+=1 # SA NU UITATI INCREMENTAREA, ASTFEL INTRATI IN CICLU INFINIT"
   ]
  },
  {
   "cell_type": "code",
   "execution_count": 7,
   "id": "32f6356c",
   "metadata": {},
   "outputs": [],
   "source": [
    "# sintaxa while\n",
    "while conditie_adevarata:\n",
    "    #se executa blocul de instructiuni"
   ]
  },
  {
   "cell_type": "code",
   "execution_count": 8,
   "id": "cdd31072",
   "metadata": {},
   "outputs": [
    {
     "name": "stdout",
     "output_type": "stream",
     "text": [
      "Am mai alergat o tura!\n",
      "Mai poti o tura? Introdu 1 pt da, 0 pt nu:1\n",
      "Am mai alergat o tura!\n",
      "Mai poti o tura? Introdu 1 pt da, 0 pt nu:0\n",
      "Am terminat de alergat!\n",
      "Acum pot servi desert!\n"
     ]
    }
   ],
   "source": [
    "#ne putem imagina ca vrem sa mergem pe stadion la alergat si ne propunem sa alergam atata timp cat putem\n",
    "mai_pot_o_tura = True\n",
    "while mai_pot_o_tura:\n",
    "    print(\"Am mai alergat o tura!\")\n",
    "    mai_pot_o_tura = bool(int(input(\"Mai poti o tura? Introdu 1 pt da, 0 pt nu:\"))) # \"1\"/\"0\" transformat in True/False?\n",
    "else:\n",
    "    print(\"Am terminat de alergat!\")\n",
    "print(\"Acum pot servi desert!\")"
   ]
  },
  {
   "cell_type": "code",
   "execution_count": null,
   "id": "e2e0e4b9",
   "metadata": {},
   "outputs": [],
   "source": [
    "bool (\"\") # False"
   ]
  },
  {
   "cell_type": "code",
   "execution_count": null,
   "id": "0f2be79f",
   "metadata": {},
   "outputs": [],
   "source": []
  },
  {
   "cell_type": "code",
   "execution_count": 3,
   "id": "2731740d",
   "metadata": {},
   "outputs": [
    {
     "name": "stdout",
     "output_type": "stream",
     "text": [
      "Dice rolled: 1\n",
      "Dice rolled: 6\n"
     ]
    }
   ],
   "source": [
    "# vrem sa dam cu zarul si sa ne oprim cand apare un 3 sau 6\n",
    "import random\n",
    "\n",
    "dice_roll = 0\n",
    "while dice_roll not in (3,6):\n",
    "    dice_roll = random.randint(1,6)\n",
    "    print(f\"Dice rolled: {dice_roll}\")"
   ]
  },
  {
   "cell_type": "code",
   "execution_count": null,
   "id": "4dc0868a",
   "metadata": {},
   "outputs": [],
   "source": []
  },
  {
   "cell_type": "code",
   "execution_count": 9,
   "id": "bb70d108",
   "metadata": {},
   "outputs": [],
   "source": [
    "# FOR"
   ]
  },
  {
   "cell_type": "code",
   "execution_count": 10,
   "id": "46b333ef",
   "metadata": {},
   "outputs": [],
   "source": [
    "# for - e o bucla cu numar cunoscut de iterarii (pasi/repetari) in care se itereaza peste o secventa\n",
    "# si se executa bloc de cod in mod repetat pt fiecare element din secventa respectiva"
   ]
  },
  {
   "cell_type": "code",
   "execution_count": 11,
   "id": "e19011c1",
   "metadata": {},
   "outputs": [],
   "source": [
    "# secventa = lista, tuple, set, dict, string, range(), ..."
   ]
  },
  {
   "cell_type": "code",
   "execution_count": 12,
   "id": "de72ad60",
   "metadata": {},
   "outputs": [],
   "source": [
    "# sintaxa for \n",
    "for element in secventa:\n",
    "    # bloc de instructiuni\n",
    "    #(facem ceva cu element)"
   ]
  },
  {
   "cell_type": "code",
   "execution_count": 13,
   "id": "0aad74a7",
   "metadata": {},
   "outputs": [
    {
     "name": "stdout",
     "output_type": "stream",
     "text": [
      "Am mai alergat o tura! tura nr: 0\n",
      "Am mai alergat o tura! tura nr: 1\n",
      "Am mai alergat o tura! tura nr: 2\n",
      "Am mai alergat o tura! tura nr: 3\n",
      "Am mai alergat o tura! tura nr: 4\n"
     ]
    }
   ],
   "source": [
    "# ne imaginam ca mergem pe stadion la alergat si ne propunem sa alergam 5 ture\n",
    "for tura in range(5):\n",
    "    print(f\"Am mai alergat o tura! tura nr: {tura}\")"
   ]
  },
  {
   "cell_type": "code",
   "execution_count": 14,
   "id": "0978d795",
   "metadata": {},
   "outputs": [
    {
     "name": "stdout",
     "output_type": "stream",
     "text": [
      "1\n",
      "2\n",
      "3\n"
     ]
    }
   ],
   "source": [
    "for elem in [1, 2, 3]:\n",
    "    print(elem)"
   ]
  },
  {
   "cell_type": "code",
   "execution_count": 15,
   "id": "cfe75179",
   "metadata": {},
   "outputs": [
    {
     "name": "stdout",
     "output_type": "stream",
     "text": [
      "a\n",
      "b\n",
      "c\n"
     ]
    }
   ],
   "source": [
    "for elem in \"abc\":\n",
    "    print(elem)"
   ]
  },
  {
   "cell_type": "code",
   "execution_count": 16,
   "id": "7960fa1b",
   "metadata": {},
   "outputs": [
    {
     "name": "stdout",
     "output_type": "stream",
     "text": [
      "1\n",
      "2\n",
      "3\n"
     ]
    }
   ],
   "source": [
    "for elem in (1, 2, 3):\n",
    "    print(elem)"
   ]
  },
  {
   "cell_type": "code",
   "execution_count": 18,
   "id": "c7625d4a",
   "metadata": {},
   "outputs": [],
   "source": [
    "# ATENTIE sa nu iterati peste numere...\n",
    "# for elem in 10:\n",
    "  #  print(elem)"
   ]
  },
  {
   "cell_type": "code",
   "execution_count": 23,
   "id": "29febca4",
   "metadata": {},
   "outputs": [
    {
     "name": "stdout",
     "output_type": "stream",
     "text": [
      "Romania\n",
      "19.5mil\n",
      "Europe\n"
     ]
    }
   ],
   "source": [
    "country = {'name': 'Romania', 'population': '19.5mil', 'continent': 'Europe'}\n",
    "           \n",
    "# ca sa retrunam val ('Romania') de la cheia 'name'\n",
    "# print(country ['name'])      \n",
    "           \n",
    "for key in country:\n",
    "    print(country[key])"
   ]
  },
  {
   "cell_type": "code",
   "execution_count": 25,
   "id": "67c6a77d",
   "metadata": {},
   "outputs": [
    {
     "name": "stdout",
     "output_type": "stream",
     "text": [
      "key=name, value=Romania\n",
      "key=population, value=19.5mil\n",
      "key=continent, value=Europe\n"
     ]
    }
   ],
   "source": [
    "for key, val in country.items():\n",
    "    print(f\"key={key}, value={val}\")"
   ]
  },
  {
   "cell_type": "code",
   "execution_count": 33,
   "id": "372903ca",
   "metadata": {},
   "outputs": [
    {
     "name": "stdout",
     "output_type": "stream",
     "text": [
      "Elementul Romania se gaseste pe indexul 0\n",
      "Elementul USA se gaseste pe indexul 1\n",
      "Elementul UK se gaseste pe indexul 2\n",
      "Elementul Spain se gaseste pe indexul 3\n"
     ]
    }
   ],
   "source": [
    "\n",
    "countries = [\"Romania\", \"USA\", \"UK\", \"Spain\"]\n",
    "#countries[0]\n",
    "\n",
    "#vrem sa afisam elementul cat si indexul pe care se afla\n",
    "for idx, elem in enumerate(countries):\n",
    "    print(f\"Elementul {elem} se gaseste pe indexul {idx}\")"
   ]
  },
  {
   "cell_type": "code",
   "execution_count": 34,
   "id": "0ab7fdc7",
   "metadata": {},
   "outputs": [
    {
     "name": "stdout",
     "output_type": "stream",
     "text": [
      "You're visiting Romania\n",
      "You're visiting USA\n",
      "You're visiting UK\n",
      "You're visiting Spain\n",
      "Vacation is done, back to work!\n"
     ]
    }
   ],
   "source": [
    "# exista si bloc else, care se va executa o singura data in momentul in care am terminat de iterat\n",
    "countries = [\"Romania\", \"USA\", \"UK\", \"Spain\"]\n",
    "for c in countries:\n",
    "    print(f\"You're visiting {c}\")\n",
    "else:\n",
    "    print(f\"Vacation is done, back to work!\")"
   ]
  },
  {
   "cell_type": "code",
   "execution_count": null,
   "id": "6b5b4b6f",
   "metadata": {},
   "outputs": [],
   "source": []
  },
  {
   "cell_type": "code",
   "execution_count": 39,
   "id": "a8c1676c",
   "metadata": {},
   "outputs": [
    {
     "name": "stdout",
     "output_type": "stream",
     "text": [
      "Alege un numar: 9\n",
      "0\n",
      "2\n",
      "4\n",
      "6\n",
      "8\n"
     ]
    }
   ],
   "source": [
    "#C4_EX01: Print all even natural numbers lower than a keyboard inputed one. e.g.: in = 9 => 0 2 4 6 8\n",
    "\n",
    "nr = int(input('Alege un numar: '))\n",
    "for nr in range(0, nr):\n",
    "    if ( nr % 2 == 0):\n",
    "        print(nr)\n",
    "    nr = nr + 1"
   ]
  },
  {
   "cell_type": "code",
   "execution_count": 40,
   "id": "8d6e653c",
   "metadata": {},
   "outputs": [
    {
     "name": "stdout",
     "output_type": "stream",
     "text": [
      "0\n",
      "1\n",
      "2\n",
      "3\n",
      "4\n",
      "5\n",
      "6\n",
      "7\n",
      "8\n"
     ]
    }
   ],
   "source": [
    "for nr in range(0, nr):\n",
    "    print(nr)"
   ]
  },
  {
   "cell_type": "code",
   "execution_count": 41,
   "id": "ea6b4b61",
   "metadata": {},
   "outputs": [],
   "source": [
    "#C4_EX02: Given a number n=15, write a loop that prints the number and decreases it\n",
    "#until it hits 0 by:\n",
    "# -2 in case the number is divisible by 5\n",
    "# -3 if it is even\n",
    "# -1 if it is odd\n",
    "\n",
    "#while/for? while - nr necunoscut de repetari/ for - nr cunoscut de repetari"
   ]
  },
  {
   "cell_type": "code",
   "execution_count": 1,
   "id": "e7005d9e",
   "metadata": {},
   "outputs": [
    {
     "name": "stdout",
     "output_type": "stream",
     "text": [
      "15\n",
      "13\n",
      "12\n",
      "9\n",
      "8\n",
      "5\n",
      "3\n",
      "2\n"
     ]
    }
   ],
   "source": [
    "nr = 15\n",
    "# nr => 13; nr => 12; n => 8; n=> 5; ... \n",
    "\n",
    "while nr > 0:    #conditia devine falsa cand n == 0\n",
    "        print(nr)\n",
    "        if (nr % 5 == 0):\n",
    "            nr -= 2\n",
    "        elif (nr % 2 == 0):\n",
    "            nr -= 3\n",
    "        else: \n",
    "            nr -= 1"
   ]
  },
  {
   "cell_type": "code",
   "execution_count": 2,
   "id": "c3e381d6",
   "metadata": {},
   "outputs": [],
   "source": [
    "# BREAK "
   ]
  },
  {
   "cell_type": "code",
   "execution_count": 3,
   "id": "661e946d",
   "metadata": {},
   "outputs": [],
   "source": [
    "# break - e o comanda care opreste iteratia iesind din bucla; executia va continua cu instructiunile de du[a bucla"
   ]
  },
  {
   "cell_type": "code",
   "execution_count": 5,
   "id": "584ef1a4",
   "metadata": {},
   "outputs": [
    {
     "name": "stdout",
     "output_type": "stream",
     "text": [
      "Dice rolled: 4\n",
      "Dice rolled: 6\n"
     ]
    }
   ],
   "source": [
    "import random\n",
    "\n",
    "dice_roll = 0\n",
    "while True: #conditia, in teorie, e mereu adevarata\n",
    "    dice_roll = random.randint(1,6)\n",
    "    print(f\"Dice rolled: {dice_roll}\")\n",
    "    if dice_roll in (3, 6):\n",
    "        break"
   ]
  },
  {
   "cell_type": "code",
   "execution_count": null,
   "id": "bc916180",
   "metadata": {},
   "outputs": [],
   "source": []
  },
  {
   "cell_type": "code",
   "execution_count": 7,
   "id": "8fdf66d9",
   "metadata": {},
   "outputs": [
    {
     "name": "stdout",
     "output_type": "stream",
     "text": [
      "0\n",
      "1\n",
      "2\n",
      "3\n",
      "4\n",
      "After break execution continues here..\n"
     ]
    }
   ],
   "source": [
    "for nr in range (9):\n",
    "    if nr == 5:\n",
    "        break\n",
    "    print(nr)\n",
    "else:\n",
    "    print(\"For finished..\") # Atentie, printul nu se mai afiseaza daca iesim cu break inainte de sf range-ului\n",
    "print(\"After break execution continues here..\")"
   ]
  },
  {
   "cell_type": "code",
   "execution_count": null,
   "id": "f003dbc9",
   "metadata": {},
   "outputs": [],
   "source": []
  },
  {
   "cell_type": "code",
   "execution_count": 8,
   "id": "c6076a58",
   "metadata": {},
   "outputs": [],
   "source": [
    "# CONTINUE"
   ]
  },
  {
   "cell_type": "code",
   "execution_count": 9,
   "id": "217cb9cc",
   "metadata": {},
   "outputs": [],
   "source": [
    "# continue - intrerupe iteratia curenta si sare la iteratia urmatoare (e un fel de skip)"
   ]
  },
  {
   "cell_type": "code",
   "execution_count": 10,
   "id": "bbd546ef",
   "metadata": {},
   "outputs": [
    {
     "name": "stdout",
     "output_type": "stream",
     "text": [
      "4\n",
      "3\n",
      "1\n",
      "0\n"
     ]
    }
   ],
   "source": [
    "nr = 5 \n",
    "while nr > 0:\n",
    "    nr -= 1\n",
    "    if nr == 2:\n",
    "        continue\n",
    "    print(nr)  # cand nr e 2, nu mai ajunge sa-l printeze, ci continua cu urmatoarea iteratie"
   ]
  },
  {
   "cell_type": "code",
   "execution_count": 11,
   "id": "817864c5",
   "metadata": {},
   "outputs": [
    {
     "name": "stdout",
     "output_type": "stream",
     "text": [
      "1\n",
      "3\n",
      "5\n",
      "7\n"
     ]
    }
   ],
   "source": [
    "for nr in range (9):\n",
    "    if nr % 2 == 0:\n",
    "        continue\n",
    "    print(nr)"
   ]
  },
  {
   "cell_type": "code",
   "execution_count": null,
   "id": "a67f1802",
   "metadata": {},
   "outputs": [],
   "source": []
  },
  {
   "cell_type": "code",
   "execution_count": 12,
   "id": "0fd16682",
   "metadata": {},
   "outputs": [],
   "source": [
    "# PASS"
   ]
  },
  {
   "cell_type": "code",
   "execution_count": 13,
   "id": "d2002d48",
   "metadata": {},
   "outputs": [],
   "source": [
    "# pass - nu afecteaza codul in nici un fel, singura utilitate pe care o are in anumite situatii este ca tine loc de comanda\n",
    "#pentru a nu primi eroare"
   ]
  },
  {
   "cell_type": "code",
   "execution_count": 14,
   "id": "7f14e761",
   "metadata": {},
   "outputs": [
    {
     "name": "stdout",
     "output_type": "stream",
     "text": [
      "Inainde de for\n",
      "Dupa for\n"
     ]
    }
   ],
   "source": [
    "print(\"Inainde de for\")\n",
    "for nr in range(10):  #presupunem ca dintr-un oarecare motiv vrem sa iteram, dar nu vrem sa facem nimic inauntru for-ului\n",
    "    pass  # tine loc de comanda sa nu primim eroare IndentationError\n",
    "print(\"Dupa for\")"
   ]
  },
  {
   "cell_type": "code",
   "execution_count": null,
   "id": "ec6c29ec",
   "metadata": {},
   "outputs": [],
   "source": [
    "# COPIAZA EXERCITIUL CE NI L-A LASAT"
   ]
  }
 ],
 "metadata": {
  "kernelspec": {
   "display_name": "Python 3 (ipykernel)",
   "language": "python",
   "name": "python3"
  },
  "language_info": {
   "codemirror_mode": {
    "name": "ipython",
    "version": 3
   },
   "file_extension": ".py",
   "mimetype": "text/x-python",
   "name": "python",
   "nbconvert_exporter": "python",
   "pygments_lexer": "ipython3",
   "version": "3.10.6"
  }
 },
 "nbformat": 4,
 "nbformat_minor": 5
}
