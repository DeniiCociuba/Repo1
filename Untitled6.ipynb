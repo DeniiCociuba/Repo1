{
 "cells": [
  {
   "cell_type": "markdown",
   "id": "7cede54b",
   "metadata": {},
   "source": [
    "# INTALNIRE 5 - FUNCTII "
   ]
  },
  {
   "cell_type": "code",
   "execution_count": 1,
   "id": "1a7c1ca5",
   "metadata": {},
   "outputs": [],
   "source": [
    "# Functia este o zona de cod cu o mica logica proprie care poate fi folosita/refolosita\n",
    "#  (apelata) de oricate ori avem nevoie\n",
    "# ajuta sa eliminam copy-paste\n",
    "# write once, use n times"
   ]
  },
  {
   "cell_type": "code",
   "execution_count": 2,
   "id": "4a3cf46d",
   "metadata": {},
   "outputs": [],
   "source": [
    "# ca sa fie functie trebuie sa aiba sintaxa \"def\""
   ]
  },
  {
   "cell_type": "code",
   "execution_count": 5,
   "id": "ee59c501",
   "metadata": {},
   "outputs": [],
   "source": [
    "# sintaxa definire functie\n",
    "\n",
    " def nume_functie(eventuali_parametri):\n",
    "    # codul aferent functiei\n",
    "    \n",
    "#apelul se face cu \n",
    "nume_functie(eventuali_parametri)"
   ]
  },
  {
   "cell_type": "code",
   "execution_count": 6,
   "id": "5af4aea7",
   "metadata": {},
   "outputs": [],
   "source": [
    "# Tipuri de functii: built-in (print(), input(), type(), abs(), ...), explicite (cele scrise de noi)\n",
    "# cele de mai sus"
   ]
  },
  {
   "cell_type": "code",
   "execution_count": 4,
   "id": "df2abbce",
   "metadata": {},
   "outputs": [
    {
     "name": "stdout",
     "output_type": "stream",
     "text": [
      "Salut\n",
      "Hello!!\n"
     ]
    }
   ],
   "source": [
    "def greeting():\n",
    "    print(\"Hello!!\") # asta e doar defintia, nu iti ruleaza cod pt ca nu ai apelat-o\n",
    "print(\"Salut\") # daca nu apelezi functia, iti apare doar Salut\n",
    "               # Python e un limbaj interpretat, citeste codul linie cu linie (citeste def-ul, o salveaza in memorie \n",
    "               #pt mai tarziu,merge mai departe,vede ca are print, printeaza ala si apoi vede ca ai apelat functia)\n",
    "\n",
    "greeting()\n",
    "    \n"
   ]
  },
  {
   "cell_type": "code",
   "execution_count": 2,
   "id": "19958970",
   "metadata": {},
   "outputs": [
    {
     "name": "stdout",
     "output_type": "stream",
     "text": [
      "Hello!!\n"
     ]
    }
   ],
   "source": [
    "greeting()"
   ]
  },
  {
   "cell_type": "code",
   "execution_count": 3,
   "id": "7a708f80",
   "metadata": {},
   "outputs": [],
   "source": [
    "# unde ai rulat codul, in mom in care ai scris \"greeting\", python deja stie ca mai sus ai definit un greeting si iti printeaza mesajul\n",
    "# asta inseamna ca ai apelat functia"
   ]
  },
  {
   "cell_type": "code",
   "execution_count": 5,
   "id": "77eb1e96",
   "metadata": {},
   "outputs": [
    {
     "name": "stdout",
     "output_type": "stream",
     "text": [
      "Hello, Denii\n"
     ]
    }
   ],
   "source": [
    "# Vrem sa modificam sa ne salute personal cu numele propriu\n",
    "# Ce facem?\n",
    "\n",
    "def greeting():\n",
    "    print(\"Hello, Denii\")\n",
    "    \n",
    "greeting()\n",
    "\n",
    "\n"
   ]
  },
  {
   "cell_type": "code",
   "execution_count": 7,
   "id": "6f55e149",
   "metadata": {},
   "outputs": [
    {
     "name": "stdout",
     "output_type": "stream",
     "text": [
      "Hello, World\n",
      "Hello, Universe\n"
     ]
    }
   ],
   "source": [
    "# si daca vreau sa mai salut pe cineva? Ce facem? scrie cate o fctie pt fiecare nume existent?\n",
    "# solutia e sa ne adaugam un parametru (aka argument) name\n",
    "def greeting(name):\n",
    "    print(f\"Hello, {name}\")\n",
    "    # doar aici are sens name, in interiorul functiei (are scope local)\n",
    "    \n",
    "greeting(\"World\")\n",
    "greeting(\"Universe\")"
   ]
  },
  {
   "cell_type": "code",
   "execution_count": 10,
   "id": "6073a4c9",
   "metadata": {},
   "outputs": [
    {
     "name": "stdout",
     "output_type": "stream",
     "text": [
      "Hello, World & Universe\n"
     ]
    }
   ],
   "source": [
    "#daca vrei sa scrii \"Hello World & Universe\"\n",
    "\n",
    "def greeting(name1, name2):\n",
    "    print(f\"Hello, {name1} & {name2}\")\n",
    "    \n",
    "greeting(\"World\", \"Universe\")"
   ]
  },
  {
   "cell_type": "code",
   "execution_count": 11,
   "id": "39df92e6",
   "metadata": {},
   "outputs": [],
   "source": [
    "# altfel spus, parametri = datele de intrare ale functiei"
   ]
  },
  {
   "cell_type": "code",
   "execution_count": 12,
   "id": "0fd47ff6",
   "metadata": {},
   "outputs": [],
   "source": [
    "# o fctie poate sa aiba oricati parametri\n",
    "# daca avem mai multi, se desparte de , \n",
    "# practic sunt niste variabile declarate dar neinitializate\n",
    "# ele vor fi initializate (adica vor primi valori), la apelarea functiei"
   ]
  },
  {
   "cell_type": "code",
   "execution_count": 14,
   "id": "292738a5",
   "metadata": {},
   "outputs": [
    {
     "name": "stdout",
     "output_type": "stream",
     "text": [
      "5\n",
      "29\n"
     ]
    }
   ],
   "source": [
    "# Vrem sa scrie o fctie care printeaza suma a 2 nr data ca argumente?\n",
    "def sum_2(a,b):\n",
    "    print(a+b)\n",
    "    #in interiorul functiei\n",
    "    \n",
    "sum_2(2,3)\n",
    "sum_2(7,22)\n",
    "#aici suntem in \"main\""
   ]
  },
  {
   "cell_type": "code",
   "execution_count": 17,
   "id": "e9d318a9",
   "metadata": {},
   "outputs": [
    {
     "name": "stdout",
     "output_type": "stream",
     "text": [
      "Suma calculata este: 5\n",
      "Suma 5 este impara\n"
     ]
    }
   ],
   "source": [
    "# Acum, ce am putea face daca in progr \"main\" (in afara fctiei sum_2),\n",
    "# vrem sa:\n",
    "# - printam rezultatul sumei: \"Suma calculata este: <val_suma>\"\n",
    "# - folosim rezultatul sumei afisand \"Suma <val_suma este para/impara\"\n",
    "\n",
    "def sum_2(a,b):\n",
    "    return a+b #return ia valoarea lui a+b si o returneaza (proceseaza datele de iesire ale fctiei)\n",
    "\n",
    "val_sum = sum_2(2,3)\n",
    "print(f\"Suma calculata este: {val_sum}\")\n",
    "      \n",
    "if val_sum % 2 == 0:\n",
    "      print(f\"Suma {val_sum} este para\")\n",
    "else:\n",
    "      print(f\"Suma {val_sum} este impara\")\n",
    "        \n",
    "        "
   ]
  },
  {
   "cell_type": "code",
   "execution_count": 18,
   "id": "562f1adf",
   "metadata": {},
   "outputs": [],
   "source": [
    "# Return se foloseste cand fctia ne si expune un raspuns\n",
    "# acest raspuns se poate salva in variabile\n",
    "# return e optional, se poate returna orice tip de date cunoscut\n",
    "# in general avem un sg return, exceptie cand folosim if else"
   ]
  },
  {
   "cell_type": "code",
   "execution_count": 19,
   "id": "a79af5bf",
   "metadata": {},
   "outputs": [],
   "source": [
    "# observam2 tipuri de fctii: \n",
    "# - care returneaza ceva\n",
    "# - care nu returneaza"
   ]
  },
  {
   "cell_type": "code",
   "execution_count": 21,
   "id": "986229b8",
   "metadata": {},
   "outputs": [
    {
     "name": "stdout",
     "output_type": "stream",
     "text": [
      "[5, 1, 4, 3, 2]\n",
      "[1, 2, 3, 4, 5]\n",
      "[1, 2, 3, 4, 5]\n"
     ]
    }
   ],
   "source": [
    "# Vrem sa sortam lista si avem 2 optiuni: sorted(lst) si lst.sort()\n",
    "lst= [5,1,4,3,2]\n",
    "\n",
    "sorted(lst) # afiseaza lista sortata dar nu modifica valoarea\n",
    "print(lst)\n",
    "\n",
    "sorted_lst = sorted(lst)\n",
    "print(sorted_lst)\n",
    "\n",
    "lst.sort() # lst.sort modifica val si o afiseaza sortata (ii modif starea)\n",
    "print(lst)"
   ]
  },
  {
   "cell_type": "code",
   "execution_count": 26,
   "id": "56d43f94",
   "metadata": {},
   "outputs": [
    {
     "name": "stdout",
     "output_type": "stream",
     "text": [
      "Hello, World\n",
      "Hello, Universe\n"
     ]
    }
   ],
   "source": [
    "def greeting(name=\"World\"):\n",
    "    print(f\"Hello, {name}\")\n",
    "# Vrem sa putem chema fctia asta si fara sa specificam neaparat un nume, caz in care ea sa fol by default \"World\"\n",
    "\n",
    "greeting()\n",
    "greeting(\"Universe\")\n",
    "\n",
    "# name devine un parametru optional care ne permite atribuirea unei valori default"
   ]
  },
  {
   "cell_type": "code",
   "execution_count": 28,
   "id": "da819834",
   "metadata": {},
   "outputs": [
    {
     "name": "stdout",
     "output_type": "stream",
     "text": [
      "None\n",
      "Cheia nu exista\n"
     ]
    }
   ],
   "source": [
    "# Unde am mai vazut noi valori default?\n",
    "d = {'a' : 1, 'c' : 3}\n",
    "#Vrem sa luam valoarea de la cheia 'b'\n",
    "print(d.get('b'))\n",
    "# Daca voiam sa pubem un mesaj 'Cheia nu exista!'\n",
    "print(d.get('b', 'Cheia nu exista'))"
   ]
  },
  {
   "cell_type": "code",
   "execution_count": 31,
   "id": "87f2f785",
   "metadata": {},
   "outputs": [
    {
     "name": "stdout",
     "output_type": "stream",
     "text": [
      "Hello, my name is John and i am 20 years old\n",
      "Hello, my name is World and i am 4000000000 years old\n"
     ]
    }
   ],
   "source": [
    "def greeting(age, name=\"World\"): # age - param pozitional, name - param optional\n",
    "    print(f\"Hello, my name is {name} and i am {age} years old\")\n",
    "\n",
    "greeting(20, \"John\")\n",
    "greeting(4_000_000_000)"
   ]
  },
  {
   "cell_type": "code",
   "execution_count": 32,
   "id": "e97e2693",
   "metadata": {},
   "outputs": [
    {
     "ename": "SyntaxError",
     "evalue": "non-default argument follows default argument (2885374221.py, line 3)",
     "output_type": "error",
     "traceback": [
      "\u001b[1;36m  Input \u001b[1;32mIn [32]\u001b[1;36m\u001b[0m\n\u001b[1;33m    def greeting(name=\"World\", age):\u001b[0m\n\u001b[1;37m                               ^\u001b[0m\n\u001b[1;31mSyntaxError\u001b[0m\u001b[1;31m:\u001b[0m non-default argument follows default argument\n"
     ]
    }
   ],
   "source": [
    "# Atentie, parametri optionali trebuie sa fie intotdeauna situati dupa cei pozitionali\n",
    "\n",
    "def greeting(name=\"World\", age):    # eroare de sintaxa\n",
    "    print(f\"Hello, my name is {name} and i am {age} years old\")\n",
    "    "
   ]
  },
  {
   "cell_type": "code",
   "execution_count": 34,
   "id": "2767493e",
   "metadata": {},
   "outputs": [
    {
     "data": {
      "text/plain": [
       "10"
      ]
     },
     "execution_count": 34,
     "metadata": {},
     "output_type": "execute_result"
    }
   ],
   "source": [
    "# Vrem sa scriem o fctie care aduna 4 nr si returneaza suma\n",
    "def sum_4(a,b,c,d):\n",
    "    return a+b+c+d\n",
    "sum_4(1,2,3,4)"
   ]
  },
  {
   "cell_type": "code",
   "execution_count": 9,
   "id": "8a5c6026",
   "metadata": {},
   "outputs": [
    {
     "name": "stdout",
     "output_type": "stream",
     "text": [
      "1306\n",
      "6\n",
      "20\n",
      "20\n"
     ]
    }
   ],
   "source": [
    "# Dar daca vrem sa adunam  10 nr? sau 100?\n",
    "# Deja nu mai e amuzant sa codul...\n",
    "# Asa ca exista ceva se cheama *args (arguments) si *kwargs (keyword agruments) (fctii cu nr nedeterminat de argumente)\n",
    "def sum_n(*args):  # args se evalueaza ca o tupla\n",
    "    s = 0\n",
    "    for n in args: #(10,6,1,111,5...)\n",
    "        s += n\n",
    "    return s\n",
    "\n",
    "print(sum_n(11,2,103,25,1,1111,53))\n",
    "print(sum_n(1,2,3))\n",
    "\n",
    "#putem apela si cu *tuple\n",
    "t = (15,3,2)\n",
    "print(sum_n(*t))\n",
    "\n",
    "#putem apela si cu *lista\n",
    "t = [15,3,2]\n",
    "print(sum_n(*t))"
   ]
  },
  {
   "cell_type": "code",
   "execution_count": 12,
   "id": "a8a84fea",
   "metadata": {},
   "outputs": [
    {
     "name": "stdout",
     "output_type": "stream",
     "text": [
      "23500000\n",
      "67500000\n"
     ]
    }
   ],
   "source": [
    "# Avem dictionatul countries, vrem sa calculam suma populatiei tarilor din dict\n",
    "countries1 = {\"Romania\": 19_500_000, \"Moldova\": 4_000_000}\n",
    "\n",
    "def sum_of_population (**kwargs): # kwargs (keyword arguments) se evalueaza ca un dict\n",
    "    s = 0\n",
    "    for key in kwargs:\n",
    "        s += kwargs[key]\n",
    "    return s\n",
    "\n",
    "print(sum_of_population(**countries1))\n",
    "\n",
    "countries2 = {\"Romania\": 19_500_000, \"Moldova\": 4_000_000, \"Ucraina\": 44_000_000}\n",
    "print(sum_of_population(**countries2))"
   ]
  },
  {
   "cell_type": "code",
   "execution_count": 13,
   "id": "cb39d949",
   "metadata": {},
   "outputs": [
    {
     "name": "stdout",
     "output_type": "stream",
     "text": [
      "23500000\n"
     ]
    }
   ],
   "source": [
    "# fctia cu kwargs se mai poate apela si asa:\n",
    "print(sum_of_population(Romania=19_500_000, Moldova=4_000_000))\n",
    "# Atentie - se scrie ca si o variabila !!"
   ]
  },
  {
   "cell_type": "code",
   "execution_count": 16,
   "id": "6c751e1b",
   "metadata": {},
   "outputs": [
    {
     "name": "stdout",
     "output_type": "stream",
     "text": [
      "HelloRomania!\n",
      "23500112\n"
     ]
    }
   ],
   "source": [
    "# C05_EX01: Vrem sa salutam tara data ca argument pozitional si sa calculam suma a n nr date ca argumente optionale\n",
    "# impreuna cu populatiile argumentelor keyword\n",
    "def greet_and_sum_of_n_numbers(country_name, *args, **kwargs):\n",
    "    print(f'Hello{country_name}!')\n",
    "    s=0\n",
    "    for n in args:\n",
    "        s = s+n\n",
    "    for key in kwargs:\n",
    "        s = s+kwargs[key]\n",
    "    return s\n",
    "rezultat = greet_and_sum_of_n_numbers(\"Romania\", 100, 11, 1, Romania = 19_500_000, Moldova=4_000_000)\n",
    "# ar trebui sa returneze 23500111\n",
    "print(rezultat)"
   ]
  },
  {
   "cell_type": "code",
   "execution_count": 17,
   "id": "dd853d6a",
   "metadata": {},
   "outputs": [],
   "source": [
    "# EXCEPTIONS "
   ]
  },
  {
   "cell_type": "code",
   "execution_count": 18,
   "id": "b5717bea",
   "metadata": {},
   "outputs": [],
   "source": [
    "# exceptiile sunt evenimente care apar in timpul executiei unui program. intrerupandu-l\n",
    "# ar trebui sa ni le inchipuim ca pe niste obiecte care reprezinta o eroare specifica"
   ]
  },
  {
   "cell_type": "code",
   "execution_count": 19,
   "id": "294329a8",
   "metadata": {},
   "outputs": [
    {
     "ename": "NameError",
     "evalue": "name 'some_var_name_that_i_never_declare' is not defined",
     "output_type": "error",
     "traceback": [
      "\u001b[1;31m---------------------------------------------------------------------------\u001b[0m",
      "\u001b[1;31mNameError\u001b[0m                                 Traceback (most recent call last)",
      "Input \u001b[1;32mIn [19]\u001b[0m, in \u001b[0;36m<cell line: 1>\u001b[1;34m()\u001b[0m\n\u001b[1;32m----> 1\u001b[0m \u001b[38;5;28mprint\u001b[39m(\u001b[43msome_var_name_that_i_never_declare\u001b[49m)\n",
      "\u001b[1;31mNameError\u001b[0m: name 'some_var_name_that_i_never_declare' is not defined"
     ]
    }
   ],
   "source": [
    "# NameError\n",
    "print(some_var_name_that_i_never_declare)"
   ]
  },
  {
   "cell_type": "code",
   "execution_count": 20,
   "id": "422941e3",
   "metadata": {},
   "outputs": [
    {
     "ename": "ZeroDivisionError",
     "evalue": "division by zero",
     "output_type": "error",
     "traceback": [
      "\u001b[1;31m---------------------------------------------------------------------------\u001b[0m",
      "\u001b[1;31mZeroDivisionError\u001b[0m                         Traceback (most recent call last)",
      "Input \u001b[1;32mIn [20]\u001b[0m, in \u001b[0;36m<cell line: 1>\u001b[1;34m()\u001b[0m\n\u001b[1;32m----> 1\u001b[0m \u001b[38;5;28mprint\u001b[39m(\u001b[38;5;241;43m3\u001b[39;49m\u001b[38;5;241;43m/\u001b[39;49m\u001b[38;5;241;43m0\u001b[39;49m)\n",
      "\u001b[1;31mZeroDivisionError\u001b[0m: division by zero"
     ]
    }
   ],
   "source": [
    "# ZeroDivisionError\n",
    "print(3/0)"
   ]
  },
  {
   "cell_type": "code",
   "execution_count": 21,
   "id": "f3f6c8bd",
   "metadata": {},
   "outputs": [
    {
     "ename": "AttributeError",
     "evalue": "'list' object has no attribute 'add'",
     "output_type": "error",
     "traceback": [
      "\u001b[1;31m---------------------------------------------------------------------------\u001b[0m",
      "\u001b[1;31mAttributeError\u001b[0m                            Traceback (most recent call last)",
      "Input \u001b[1;32mIn [21]\u001b[0m, in \u001b[0;36m<cell line: 2>\u001b[1;34m()\u001b[0m\n\u001b[0;32m      1\u001b[0m lst \u001b[38;5;241m=\u001b[39m [\u001b[38;5;241m1\u001b[39m,\u001b[38;5;241m2\u001b[39m,\u001b[38;5;241m3\u001b[39m,\u001b[38;5;241m4\u001b[39m]\n\u001b[1;32m----> 2\u001b[0m \u001b[43mlst\u001b[49m\u001b[38;5;241;43m.\u001b[39;49m\u001b[43madd\u001b[49m(\u001b[38;5;241m5\u001b[39m)\n",
      "\u001b[1;31mAttributeError\u001b[0m: 'list' object has no attribute 'add'"
     ]
    }
   ],
   "source": [
    "# AttributeError\n",
    "lst = [1,2,3,4]\n",
    "lst.add(5)"
   ]
  },
  {
   "cell_type": "code",
   "execution_count": 23,
   "id": "d1f4969b",
   "metadata": {},
   "outputs": [
    {
     "ename": "IndexError",
     "evalue": "list index out of range",
     "output_type": "error",
     "traceback": [
      "\u001b[1;31m---------------------------------------------------------------------------\u001b[0m",
      "\u001b[1;31mIndexError\u001b[0m                                Traceback (most recent call last)",
      "Input \u001b[1;32mIn [23]\u001b[0m, in \u001b[0;36m<cell line: 3>\u001b[1;34m()\u001b[0m\n\u001b[0;32m      1\u001b[0m \u001b[38;5;66;03m# Error\u001b[39;00m\n\u001b[0;32m      2\u001b[0m lst \u001b[38;5;241m=\u001b[39m [\u001b[38;5;241m1\u001b[39m,\u001b[38;5;241m2\u001b[39m,\u001b[38;5;241m3\u001b[39m,\u001b[38;5;241m4\u001b[39m]\n\u001b[1;32m----> 3\u001b[0m \u001b[38;5;28mprint\u001b[39m(\u001b[43mlst\u001b[49m\u001b[43m[\u001b[49m\u001b[38;5;241;43m8\u001b[39;49m\u001b[43m]\u001b[49m)\n",
      "\u001b[1;31mIndexError\u001b[0m: list index out of range"
     ]
    }
   ],
   "source": [
    "# IndexError\n",
    "lst = [1,2,3,4]\n",
    "print(lst[8])"
   ]
  },
  {
   "cell_type": "code",
   "execution_count": 24,
   "id": "e48e975e",
   "metadata": {},
   "outputs": [
    {
     "ename": "ModuleNotFoundError",
     "evalue": "No module named 'some_fake_ass_module'",
     "output_type": "error",
     "traceback": [
      "\u001b[1;31m---------------------------------------------------------------------------\u001b[0m",
      "\u001b[1;31mModuleNotFoundError\u001b[0m                       Traceback (most recent call last)",
      "Input \u001b[1;32mIn [24]\u001b[0m, in \u001b[0;36m<cell line: 1>\u001b[1;34m()\u001b[0m\n\u001b[1;32m----> 1\u001b[0m \u001b[38;5;28;01mimport\u001b[39;00m \u001b[38;5;21;01msome_fake_ass_module\u001b[39;00m\n",
      "\u001b[1;31mModuleNotFoundError\u001b[0m: No module named 'some_fake_ass_module'"
     ]
    }
   ],
   "source": [
    "# ImportError => ModuleNotFoundError (s-a schimbat numele in Python 3)\n",
    "import some_fake_ass_module"
   ]
  },
  {
   "cell_type": "code",
   "execution_count": null,
   "id": "ecc23502",
   "metadata": {},
   "outputs": [],
   "source": []
  }
 ],
 "metadata": {
  "kernelspec": {
   "display_name": "Python 3 (ipykernel)",
   "language": "python",
   "name": "python3"
  },
  "language_info": {
   "codemirror_mode": {
    "name": "ipython",
    "version": 3
   },
   "file_extension": ".py",
   "mimetype": "text/x-python",
   "name": "python",
   "nbconvert_exporter": "python",
   "pygments_lexer": "ipython3",
   "version": "3.10.6"
  }
 },
 "nbformat": 4,
 "nbformat_minor": 5
}
