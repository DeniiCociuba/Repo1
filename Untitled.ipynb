{
 "cells": [
  {
   "cell_type": "markdown",
   "id": "597c5eb1",
   "metadata": {},
   "source": [
    "# INTALNIREA 9 "
   ]
  },
  {
   "cell_type": "code",
   "execution_count": 2,
   "id": "06e43fec",
   "metadata": {},
   "outputs": [],
   "source": [
    "# TESTE UNITARE - bucati de cod prin care ne asiguram ca alte bucati de cod ruleaza corect"
   ]
  },
  {
   "cell_type": "code",
   "execution_count": 3,
   "id": "ee7c3410",
   "metadata": {},
   "outputs": [],
   "source": [
    "# In Python sunt 3 metode de unit testing:\n",
    "# libraria unitest\n",
    "# libraria pytest\n",
    "# libraria doctest"
   ]
  },
  {
   "cell_type": "code",
   "execution_count": 4,
   "id": "ae93d16e",
   "metadata": {},
   "outputs": [],
   "source": [
    "# Import-utile in python: \n",
    "# "
   ]
  },
  {
   "cell_type": "code",
   "execution_count": 6,
   "id": "05ad751c",
   "metadata": {},
   "outputs": [
    {
     "data": {
      "text/plain": [
       "4.0"
      ]
     },
     "execution_count": 6,
     "metadata": {},
     "output_type": "execute_result"
    }
   ],
   "source": [
    "# Daca vrem sa folosim functia de radacina patrat (sqrt) din libraria math?\n",
    "import math\n",
    "math.sqrt(16)"
   ]
  },
  {
   "cell_type": "code",
   "execution_count": null,
   "id": "8c8aa479",
   "metadata": {},
   "outputs": [],
   "source": []
  }
 ],
 "metadata": {
  "kernelspec": {
   "display_name": "Python 3 (ipykernel)",
   "language": "python",
   "name": "python3"
  },
  "language_info": {
   "codemirror_mode": {
    "name": "ipython",
    "version": 3
   },
   "file_extension": ".py",
   "mimetype": "text/x-python",
   "name": "python",
   "nbconvert_exporter": "python",
   "pygments_lexer": "ipython3",
   "version": "3.10.6"
  }
 },
 "nbformat": 4,
 "nbformat_minor": 5
}
