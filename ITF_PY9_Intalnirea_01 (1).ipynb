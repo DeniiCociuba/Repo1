{
 "cells": [
  {
   "cell_type": "code",
   "execution_count": 139,
   "id": "c36e94a1",
   "metadata": {},
   "outputs": [
    {
     "name": "stdout",
     "output_type": "stream",
     "text": [
      "Hello Pythonistas!\n"
     ]
    }
   ],
   "source": [
    "print(\"Hello Pythonistas!\")"
   ]
  },
  {
   "cell_type": "code",
   "execution_count": 8,
   "id": "588e6f75",
   "metadata": {},
   "outputs": [],
   "source": [
    "# Limbaje compilate (Java) - Limbaje interpretate (Python)\n",
    "# - compilat = cod transformat in limbaj masina\n",
    "# - interpretat = cod e citit linie cu linie de un interpretor si executat"
   ]
  },
  {
   "cell_type": "code",
   "execution_count": 10,
   "id": "af936dcf",
   "metadata": {},
   "outputs": [],
   "source": [
    "# Comentariile incept cu #\n",
    "# Acesta este un comentariu  CTRL+/\n"
   ]
  },
  {
   "cell_type": "code",
   "execution_count": 142,
   "id": "9d55602e",
   "metadata": {},
   "outputs": [],
   "source": [
    "s = \"\"\"\n",
    "Tot ce scriem aici e un commentariu/string\n",
    "Pe mai multe linii\n",
    "\"\"\"\n",
    "\n",
    "'''\n",
    "Putem folosi si ghilimele simple\n",
    "'''\n",
    "pass"
   ]
  },
  {
   "cell_type": "code",
   "execution_count": 143,
   "id": "4f01a0db",
   "metadata": {},
   "outputs": [
    {
     "name": "stdout",
     "output_type": "stream",
     "text": [
      "\n",
      "Tot ce scriem aici e un commentariu/string\n",
      "Pe mai multe linii\n",
      "\n"
     ]
    }
   ],
   "source": [
    "print(s)"
   ]
  },
  {
   "cell_type": "code",
   "execution_count": 15,
   "id": "dd650686",
   "metadata": {},
   "outputs": [],
   "source": [
    "# Com1\n",
    "# Comm2\n",
    "# Comm3"
   ]
  },
  {
   "cell_type": "code",
   "execution_count": 16,
   "id": "14ee2098",
   "metadata": {},
   "outputs": [
    {
     "name": "stdout",
     "output_type": "stream",
     "text": [
      "Hello Pythonistas!\n"
     ]
    }
   ],
   "source": [
    "# Python are focusul pe viteza programatorului, nu neaparat pe ce a calculatorului\n",
    "print(\"Hello Pythonistas!\")"
   ]
  },
  {
   "cell_type": "code",
   "execution_count": 17,
   "id": "b2a5007a",
   "metadata": {},
   "outputs": [
    {
     "ename": "SyntaxError",
     "evalue": "invalid syntax (Temp/ipykernel_20704/3495889836.py, line 1)",
     "output_type": "error",
     "traceback": [
      "\u001b[1;36m  File \u001b[1;32m\"C:\\Users\\ChemDash\\AppData\\Local\\Temp/ipykernel_20704/3495889836.py\"\u001b[1;36m, line \u001b[1;32m1\u001b[0m\n\u001b[1;33m    public void main()\u001b[0m\n\u001b[1;37m           ^\u001b[0m\n\u001b[1;31mSyntaxError\u001b[0m\u001b[1;31m:\u001b[0m invalid syntax\n"
     ]
    }
   ],
   "source": [
    "#java way\n",
    "# public void main()\n",
    "# {\n",
    "#     System.out.print(\"CEVA m\")\n",
    "# }"
   ]
  },
  {
   "cell_type": "code",
   "execution_count": 20,
   "id": "4f55e339",
   "metadata": {},
   "outputs": [
    {
     "name": "stdout",
     "output_type": "stream",
     "text": [
      "da, 2 > 1\n"
     ]
    }
   ],
   "source": [
    "# python way\n",
    "if 2>1:\n",
    "    print('da, 2 > 1')"
   ]
  },
  {
   "cell_type": "code",
   "execution_count": 21,
   "id": "c88becac",
   "metadata": {},
   "outputs": [],
   "source": [
    "# Variabile"
   ]
  },
  {
   "cell_type": "code",
   "execution_count": 22,
   "id": "e963f6a3",
   "metadata": {},
   "outputs": [],
   "source": [
    "# variabila = o forma de a stoca date;\n",
    "# - un nume\n",
    "# - are valoare\n",
    "# - o locatie din memorie unde e salvata"
   ]
  },
  {
   "cell_type": "code",
   "execution_count": 23,
   "id": "51ca4043",
   "metadata": {},
   "outputs": [],
   "source": [
    "# o analogie, o variabila are fi cutia de cadou pe care punem o eticheta\n",
    "cadou = \"Rolex\""
   ]
  },
  {
   "cell_type": "code",
   "execution_count": 24,
   "id": "d7165577",
   "metadata": {},
   "outputs": [],
   "source": [
    "numar = 10"
   ]
  },
  {
   "cell_type": "code",
   "execution_count": 25,
   "id": "262c1083",
   "metadata": {},
   "outputs": [
    {
     "name": "stdout",
     "output_type": "stream",
     "text": [
      "10\n"
     ]
    }
   ],
   "source": [
    "print(numar)"
   ]
  },
  {
   "cell_type": "code",
   "execution_count": 27,
   "id": "25fcb3a8",
   "metadata": {},
   "outputs": [
    {
     "name": "stdout",
     "output_type": "stream",
     "text": [
      "1\n",
      "2\n",
      "3\n"
     ]
    }
   ],
   "source": [
    "var1, var2, var3 = 1,2,3\n",
    "print(var1)\n",
    "print(var2)\n",
    "print(var3)"
   ]
  },
  {
   "cell_type": "code",
   "execution_count": 36,
   "id": "271e8205",
   "metadata": {},
   "outputs": [],
   "source": [
    "# conventii generale de naming al variabilelor:\n",
    "\n",
    "# snake_case -> e cea mai folosita varianta in python (naming de variabile si functii)\n",
    "my_var = 10\n",
    "# camelCase -> e folosita la numele metodelor claselor\n",
    "myVar = 11\n",
    "# PascalCase -> e in general folosita la numele claselor\n",
    "MyVar = 12\n",
    "class MyClass:\n",
    "    pass\n",
    "# kebab-case -> nu merge in Python\n",
    "# my-var = 13  # eroare"
   ]
  },
  {
   "cell_type": "code",
   "execution_count": 35,
   "id": "e16334dc",
   "metadata": {},
   "outputs": [
    {
     "data": {
      "text/plain": [
       "10"
      ]
     },
     "execution_count": 35,
     "metadata": {},
     "output_type": "execute_result"
    }
   ],
   "source": [
    "my_var"
   ]
  },
  {
   "cell_type": "code",
   "execution_count": 45,
   "id": "fc731f34",
   "metadata": {},
   "outputs": [],
   "source": [
    "# conventii Python de naming al variabilelor \n",
    "# numele variabilelor in Python nu pot sa inceapa cu cifra sau cu caracter special (oricare in afara de _)\n",
    "\n",
    "\n",
    "_var = 15\n",
    "my_var = 16\n",
    "my_1st_var = 17\n"
   ]
  },
  {
   "cell_type": "code",
   "execution_count": 47,
   "id": "1c91e841",
   "metadata": {},
   "outputs": [
    {
     "name": "stdout",
     "output_type": "stream",
     "text": [
      "1\n",
      "2\n"
     ]
    }
   ],
   "source": [
    "# Vreau sa va dati cu parerea daca Python e case sensitive sau nu??\n",
    "\n",
    "my_var = 1\n",
    "My_var = 2\n",
    "\n",
    "# e my_var tot una cu My_var???\n",
    "print(my_var)\n",
    "print(My_var)\n",
    "\n",
    "# ==> Python e intr-adevar case-sensitive"
   ]
  },
  {
   "cell_type": "code",
   "execution_count": 50,
   "id": "6ca46568",
   "metadata": {},
   "outputs": [],
   "source": [
    "# Python e tipizat dinamic (dynamically typed)\n",
    "my_var = 1\n",
    "my_var = \"text\""
   ]
  },
  {
   "cell_type": "code",
   "execution_count": 51,
   "id": "807d4fa6",
   "metadata": {},
   "outputs": [
    {
     "name": "stdout",
     "output_type": "stream",
     "text": [
      "text\n"
     ]
    }
   ],
   "source": [
    "print(my_var)"
   ]
  },
  {
   "cell_type": "code",
   "execution_count": 52,
   "id": "fad0918a",
   "metadata": {},
   "outputs": [],
   "source": [
    "a = b = c = \"Apple\""
   ]
  },
  {
   "cell_type": "code",
   "execution_count": 54,
   "id": "83451f51",
   "metadata": {},
   "outputs": [
    {
     "name": "stdout",
     "output_type": "stream",
     "text": [
      "Apple\n"
     ]
    }
   ],
   "source": [
    "print(a)"
   ]
  },
  {
   "cell_type": "code",
   "execution_count": 55,
   "id": "517b3e3c",
   "metadata": {},
   "outputs": [
    {
     "name": "stdout",
     "output_type": "stream",
     "text": [
      "Apple\n"
     ]
    }
   ],
   "source": [
    "print(b)"
   ]
  },
  {
   "cell_type": "code",
   "execution_count": null,
   "id": "3ed8b4fc",
   "metadata": {},
   "outputs": [],
   "source": []
  },
  {
   "cell_type": "code",
   "execution_count": 58,
   "id": "79187fd3",
   "metadata": {},
   "outputs": [],
   "source": [
    "# Tipuri de date\n",
    "marca = \"Dacia\" # str aka string (text)\n",
    "an_fabricatie = 2022 # int aka integer (valori intregi de la - infinit la + infinit)\n",
    "inmatriculata = True # bool aka boolean (valori de adevar: True/False)\n",
    "pret = 14999.99 # float (valori fractionare de la - la + infinit)"
   ]
  },
  {
   "cell_type": "code",
   "execution_count": null,
   "id": "e21b278b",
   "metadata": {},
   "outputs": [],
   "source": []
  },
  {
   "cell_type": "code",
   "execution_count": 59,
   "id": "c9388a2b",
   "metadata": {},
   "outputs": [],
   "source": [
    "nr = -5.4"
   ]
  },
  {
   "cell_type": "code",
   "execution_count": 62,
   "id": "e063bd87",
   "metadata": {},
   "outputs": [
    {
     "name": "stdout",
     "output_type": "stream",
     "text": [
      "<class 'float'>\n"
     ]
    }
   ],
   "source": [
    "print(type(nr))"
   ]
  },
  {
   "cell_type": "code",
   "execution_count": 63,
   "id": "32f15309",
   "metadata": {},
   "outputs": [],
   "source": [
    "# type casting"
   ]
  },
  {
   "cell_type": "code",
   "execution_count": 66,
   "id": "daeeb4b2",
   "metadata": {},
   "outputs": [],
   "source": [
    "cifra = \"3\""
   ]
  },
  {
   "cell_type": "code",
   "execution_count": 67,
   "id": "e5ffb2e4",
   "metadata": {},
   "outputs": [
    {
     "name": "stdout",
     "output_type": "stream",
     "text": [
      "<class 'str'>\n"
     ]
    }
   ],
   "source": [
    "print(type(cifra))"
   ]
  },
  {
   "cell_type": "code",
   "execution_count": 69,
   "id": "340cf29c",
   "metadata": {},
   "outputs": [
    {
     "name": "stdout",
     "output_type": "stream",
     "text": [
      "<class 'int'>\n"
     ]
    }
   ],
   "source": [
    "cifra = int(cifra)\n",
    "print(type(cifra))"
   ]
  },
  {
   "cell_type": "code",
   "execution_count": 71,
   "id": "acaecf14",
   "metadata": {},
   "outputs": [
    {
     "name": "stdout",
     "output_type": "stream",
     "text": [
      "3.0\n",
      "<class 'float'>\n"
     ]
    }
   ],
   "source": [
    "# Daca vreau sa tranform cifra noastra cifra = \"3\" in valoarea 3.0??\n",
    "cifra = \"3\"\n",
    "\n",
    "cifra = float(cifra)\n",
    "print(cifra)\n",
    "print(type(cifra))"
   ]
  },
  {
   "cell_type": "code",
   "execution_count": 73,
   "id": "fd44419d",
   "metadata": {},
   "outputs": [
    {
     "name": "stdout",
     "output_type": "stream",
     "text": [
      "<class 'str'>\n"
     ]
    }
   ],
   "source": [
    "my_var = \"123a\"\n",
    "# vreau sa transform variabila in tipul int..?\n",
    "\n",
    "print(type(my_var))"
   ]
  },
  {
   "cell_type": "code",
   "execution_count": 74,
   "id": "096c8ffd",
   "metadata": {},
   "outputs": [
    {
     "ename": "ValueError",
     "evalue": "invalid literal for int() with base 10: '123a'",
     "output_type": "error",
     "traceback": [
      "\u001b[1;31m---------------------------------------------------------------------------\u001b[0m",
      "\u001b[1;31mValueError\u001b[0m                                Traceback (most recent call last)",
      "\u001b[1;32m~\\AppData\\Local\\Temp/ipykernel_20704/4172966561.py\u001b[0m in \u001b[0;36m<module>\u001b[1;34m\u001b[0m\n\u001b[1;32m----> 1\u001b[1;33m \u001b[0mmy_var\u001b[0m \u001b[1;33m=\u001b[0m \u001b[0mint\u001b[0m\u001b[1;33m(\u001b[0m\u001b[0mmy_var\u001b[0m\u001b[1;33m)\u001b[0m\u001b[1;33m\u001b[0m\u001b[1;33m\u001b[0m\u001b[0m\n\u001b[0m",
      "\u001b[1;31mValueError\u001b[0m: invalid literal for int() with base 10: '123a'"
     ]
    }
   ],
   "source": [
    "my_var = int(my_var)  # eroare fiindca my_var contine si alte caractere altele decat cifre"
   ]
  },
  {
   "cell_type": "code",
   "execution_count": 79,
   "id": "1fd8703f",
   "metadata": {},
   "outputs": [
    {
     "name": "stdout",
     "output_type": "stream",
     "text": [
      "True\n",
      "False\n",
      "True\n"
     ]
    }
   ],
   "source": [
    "# type casting la bool\n",
    "my_str = \"text\"\n",
    "my_str1 = \"\"  # string gol aka empty string\n",
    "my_str2 = 'weqeqew'\n",
    "\n",
    "my_bool = bool(my_str)  # transformarea in bool e True pentru orice valoare mai putin una, la fiecare tip de date\n",
    "print(my_bool)\n",
    "\n",
    "my_bool = bool(my_str1)\n",
    "print(my_bool)\n",
    "\n",
    "print(bool(my_str2))"
   ]
  },
  {
   "cell_type": "code",
   "execution_count": 84,
   "id": "c3bd36d8",
   "metadata": {},
   "outputs": [
    {
     "name": "stdout",
     "output_type": "stream",
     "text": [
      "True\n",
      "True\n",
      "False\n"
     ]
    }
   ],
   "source": [
    "nr1 = 1\n",
    "nr2 = 1313\n",
    "nr3 = 0\n",
    "\n",
    "print(bool(nr1))\n",
    "print(bool(nr2))\n",
    "print(bool(nr3))\n"
   ]
  },
  {
   "cell_type": "code",
   "execution_count": null,
   "id": "11c578c2",
   "metadata": {},
   "outputs": [],
   "source": []
  },
  {
   "cell_type": "code",
   "execution_count": 81,
   "id": "928fe341",
   "metadata": {},
   "outputs": [],
   "source": [
    "# print"
   ]
  },
  {
   "cell_type": "code",
   "execution_count": 146,
   "id": "45185158",
   "metadata": {},
   "outputs": [],
   "source": [
    "print?"
   ]
  },
  {
   "cell_type": "code",
   "execution_count": 87,
   "id": "146bc5fc",
   "metadata": {},
   "outputs": [],
   "source": [
    "# PARANTEZA (jupyter-notebook e un REPL: read-evaluate-print-loop)"
   ]
  },
  {
   "cell_type": "code",
   "execution_count": 88,
   "id": "87790a6f",
   "metadata": {},
   "outputs": [
    {
     "name": "stdout",
     "output_type": "stream",
     "text": [
      "text\n"
     ]
    }
   ],
   "source": [
    "print(\"text\")"
   ]
  },
  {
   "cell_type": "code",
   "execution_count": 89,
   "id": "bd9288c8",
   "metadata": {},
   "outputs": [
    {
     "name": "stdout",
     "output_type": "stream",
     "text": [
      "Hello Pythonistas!\n"
     ]
    }
   ],
   "source": [
    "my_var = \"Hello Pythonistas!\"\n",
    "print(my_var)"
   ]
  },
  {
   "cell_type": "code",
   "execution_count": 90,
   "id": "05d20260",
   "metadata": {},
   "outputs": [],
   "source": [
    "marca = \"Dacia\"\n",
    "an_fabricatie = 2022\n",
    "inmatriculata = True \n",
    "pret = 14999.99 "
   ]
  },
  {
   "cell_type": "code",
   "execution_count": 91,
   "id": "38e81f84",
   "metadata": {},
   "outputs": [
    {
     "name": "stdout",
     "output_type": "stream",
     "text": [
      "Dacia\n"
     ]
    }
   ],
   "source": [
    "print(marca)"
   ]
  },
  {
   "cell_type": "code",
   "execution_count": 92,
   "id": "3ebf3f16",
   "metadata": {},
   "outputs": [
    {
     "name": "stdout",
     "output_type": "stream",
     "text": [
      "2022\n"
     ]
    }
   ],
   "source": [
    "print(an_fabricatie)"
   ]
  },
  {
   "cell_type": "code",
   "execution_count": 97,
   "id": "81de1eec",
   "metadata": {},
   "outputs": [],
   "source": [
    "model = \"Duster\""
   ]
  },
  {
   "cell_type": "code",
   "execution_count": 98,
   "id": "bb803505",
   "metadata": {},
   "outputs": [
    {
     "name": "stdout",
     "output_type": "stream",
     "text": [
      "DaciaDuster\n"
     ]
    }
   ],
   "source": [
    "# Vrem sa afisam in print marca si modelul\n",
    "print(marca + model)"
   ]
  },
  {
   "cell_type": "code",
   "execution_count": 119,
   "id": "5c89b18f",
   "metadata": {},
   "outputs": [
    {
     "name": "stdout",
     "output_type": "stream",
     "text": [
      "Dacia Duster\n"
     ]
    }
   ],
   "source": [
    "print(marca + ' ' + model)  # concatenare (+) de stringuri"
   ]
  },
  {
   "cell_type": "code",
   "execution_count": 102,
   "id": "b9a0bee3",
   "metadata": {},
   "outputs": [
    {
     "name": "stdout",
     "output_type": "stream",
     "text": [
      "Dacia Duster\n"
     ]
    }
   ],
   "source": [
    "print(marca,model)"
   ]
  },
  {
   "cell_type": "code",
   "execution_count": 107,
   "id": "eabef238",
   "metadata": {},
   "outputs": [
    {
     "name": "stdout",
     "output_type": "stream",
     "text": [
      "Dacia*Duster\n"
     ]
    }
   ],
   "source": [
    "# vrem sa punem intre marca si model sa punem *\n",
    "print(marca,model, sep='*')"
   ]
  },
  {
   "cell_type": "code",
   "execution_count": 108,
   "id": "4323d4ed",
   "metadata": {},
   "outputs": [
    {
     "name": "stdout",
     "output_type": "stream",
     "text": [
      "Dacia\n",
      "Duster\n"
     ]
    }
   ],
   "source": [
    "print(marca)\n",
    "print(model)"
   ]
  },
  {
   "cell_type": "code",
   "execution_count": 112,
   "id": "fd3c7f19",
   "metadata": {},
   "outputs": [
    {
     "name": "stdout",
     "output_type": "stream",
     "text": [
      "Dacia>Duster\n"
     ]
    }
   ],
   "source": [
    "# vrem sa apara asa: Dacia>Duster prin 2 printuri\n",
    "print(marca, end='>')  # \\n = ENTER\n",
    "print(model)"
   ]
  },
  {
   "cell_type": "code",
   "execution_count": 113,
   "id": "955bc37b",
   "metadata": {},
   "outputs": [],
   "source": [
    "# sep si end nu se folosesc chiar asa des, da e bine de stiut ca exista!"
   ]
  },
  {
   "cell_type": "code",
   "execution_count": 114,
   "id": "6b665c07",
   "metadata": {},
   "outputs": [],
   "source": [
    "marca = \"Dacia\"\n",
    "model = \"Duster\"\n",
    "an_fabricatie = 2022\n",
    "inmatriculata = True \n",
    "pret = 14999.99 "
   ]
  },
  {
   "cell_type": "code",
   "execution_count": 130,
   "id": "d9a49f8a",
   "metadata": {},
   "outputs": [
    {
     "name": "stdout",
     "output_type": "stream",
     "text": [
      "Masina are marca: Dacia si este fabricata in anul: 2022\n"
     ]
    }
   ],
   "source": [
    "# Acum sa presupunem ca vrem sa afisam marca si an_fabricatie intr`o propozitie de genul:\n",
    "# \"Masina are marca: ... si este fabricata in anul: ....!\"\n",
    "\n",
    "# v1: concatenare de stringuri\n",
    "print(\"Masina are marca: \" + marca + \" si este fabricata in anul: \" + str(an_fabricatie))"
   ]
  },
  {
   "cell_type": "code",
   "execution_count": 127,
   "id": "c273942e",
   "metadata": {},
   "outputs": [
    {
     "name": "stdout",
     "output_type": "stream",
     "text": [
      "Masina are marca: Dacia si este fabricata in anul: 2022 si inmatriculata e? True\n"
     ]
    }
   ],
   "source": [
    "# f-string: formatare de string-uri\n",
    "\n",
    "# v2: cea optima cu f-strings!!\n",
    "print(f\"Masina are marca: {marca} si este fabricata in anul: {an_fabricatie} si inmatriculata e? {inmatriculata}\")"
   ]
  },
  {
   "cell_type": "code",
   "execution_count": null,
   "id": "ca3f3d98",
   "metadata": {},
   "outputs": [],
   "source": []
  },
  {
   "cell_type": "code",
   "execution_count": 131,
   "id": "c1201d8f",
   "metadata": {},
   "outputs": [],
   "source": [
    "# Cursul de sapt viitoare va fi marti 23.08.2022 ora 18:30!!"
   ]
  },
  {
   "cell_type": "code",
   "execution_count": 132,
   "id": "38e55b4e",
   "metadata": {},
   "outputs": [],
   "source": [
    "# f-strings permite inserarea de valori direct in interiorul stringului "
   ]
  },
  {
   "cell_type": "code",
   "execution_count": 136,
   "id": "a5e4d5ff",
   "metadata": {},
   "outputs": [
    {
     "name": "stdout",
     "output_type": "stream",
     "text": [
      "Suma 1+2 este 3!\n"
     ]
    }
   ],
   "source": [
    "# vrem sa afiseze \"Suma 1+2 este 3!\" cu f-string\n",
    "print(f\"Suma 1+2 este {1+2}!\")  # orice gaseste Pythonu intre acolade, el evalueaza expresia si returneaza rezultatul\n"
   ]
  },
  {
   "cell_type": "code",
   "execution_count": 137,
   "id": "2eeb7023",
   "metadata": {},
   "outputs": [
    {
     "name": "stdout",
     "output_type": "stream",
     "text": [
      "Valoare lui pi cu 2 zecimale este: 3.1465783\n"
     ]
    }
   ],
   "source": [
    "pi = 3.1465783\n",
    "# TODO: Vrem sa printam valoarea lui pi cu doar 2 zecimale sub forma propozitiei: \"Valoare lui pi cu 2 zecimale este: ...\"\n",
    "print(f\"Valoare lui pi cu 2 zecimale este: {pi}\")"
   ]
  },
  {
   "cell_type": "code",
   "execution_count": null,
   "id": "b0410549",
   "metadata": {},
   "outputs": [],
   "source": []
  },
  {
   "cell_type": "code",
   "execution_count": 149,
   "id": "804009fb",
   "metadata": {},
   "outputs": [
    {
     "name": "stdout",
     "output_type": "stream",
     "text": [
      "Introduceti numele dvs: moldovan vlad\n",
      "moldovan vlad\n"
     ]
    }
   ],
   "source": [
    "name = input(\"Introduceti numele dvs: \")\n",
    "print(name)"
   ]
  },
  {
   "cell_type": "code",
   "execution_count": 150,
   "id": "9c047bb0",
   "metadata": {},
   "outputs": [
    {
     "name": "stdout",
     "output_type": "stream",
     "text": [
      "Alegeti un numar: 15\n",
      "15\n"
     ]
    }
   ],
   "source": [
    "nr = input(\"Alegeti un numar: \")\n",
    "print(nr)"
   ]
  },
  {
   "cell_type": "code",
   "execution_count": 152,
   "id": "efa97751",
   "metadata": {},
   "outputs": [
    {
     "name": "stdout",
     "output_type": "stream",
     "text": [
      "<class 'str'>\n"
     ]
    }
   ],
   "source": [
    "print(type(nr))"
   ]
  },
  {
   "cell_type": "code",
   "execution_count": 157,
   "id": "cdb61929",
   "metadata": {},
   "outputs": [
    {
     "name": "stdout",
     "output_type": "stream",
     "text": [
      "Alegeti un numar: 123\n",
      "<class 'int'>\n"
     ]
    }
   ],
   "source": [
    "# Daca eu stiu ca vreau sa introduc un numar, si ca sa ma asigur ca e numar, pot sa fac ce?\n",
    "\n",
    "nr = int(input(\"Alegeti un numar: \"))\n",
    "print(type(nr))"
   ]
  },
  {
   "cell_type": "code",
   "execution_count": 158,
   "id": "e245719c",
   "metadata": {},
   "outputs": [],
   "source": [
    "# TODO: Scrieti o bucata de cod care primeste ca input de la tastatura un text si incearca sa il transforme in int, \n",
    "# daca cumva s-a introdus altceva decat un numar, sa se afiseze textul: \"Your input is not a number\", \n",
    "# daca textul introdus e intr`adevar un numar, afisati: \"Your number is ...\""
   ]
  },
  {
   "cell_type": "code",
   "execution_count": null,
   "id": "21cf7b76",
   "metadata": {},
   "outputs": [],
   "source": []
  },
  {
   "cell_type": "code",
   "execution_count": 159,
   "id": "521b4699",
   "metadata": {},
   "outputs": [],
   "source": [
    "# string"
   ]
  },
  {
   "cell_type": "code",
   "execution_count": 160,
   "id": "486c25ba",
   "metadata": {},
   "outputs": [],
   "source": [
    "my_str = \"Hello Pythonistas!\"  # stringul e un sir de caractere"
   ]
  },
  {
   "cell_type": "code",
   "execution_count": 161,
   "id": "7f5187c2",
   "metadata": {},
   "outputs": [
    {
     "name": "stdout",
     "output_type": "stream",
     "text": [
      "<class 'str'>\n"
     ]
    }
   ],
   "source": [
    "my_str = \"A\" \n",
    "print(type(my_str))"
   ]
  },
  {
   "cell_type": "code",
   "execution_count": 163,
   "id": "127078a1",
   "metadata": {},
   "outputs": [
    {
     "name": "stdout",
     "output_type": "stream",
     "text": [
      "18\n"
     ]
    }
   ],
   "source": [
    "my_str = \"Hello Pythonistas!\"  # stringul e un sir de caractere\n",
    "print(len(my_str))"
   ]
  },
  {
   "cell_type": "code",
   "execution_count": 165,
   "id": "a5880e92",
   "metadata": {},
   "outputs": [],
   "source": [
    "# string-ul in Python e indexat (index=pozitie)\n",
    "my_str = \"Hello Pythonistas!\"\n",
    "#         0123456..........17"
   ]
  },
  {
   "cell_type": "code",
   "execution_count": 166,
   "id": "285eba8d",
   "metadata": {},
   "outputs": [
    {
     "name": "stdout",
     "output_type": "stream",
     "text": [
      "H\n"
     ]
    }
   ],
   "source": [
    "print(my_str[0])"
   ]
  },
  {
   "cell_type": "code",
   "execution_count": 167,
   "id": "adbfcfec",
   "metadata": {},
   "outputs": [
    {
     "name": "stdout",
     "output_type": "stream",
     "text": [
      "e\n"
     ]
    }
   ],
   "source": [
    "print(my_str[1])"
   ]
  },
  {
   "cell_type": "code",
   "execution_count": 168,
   "id": "a0a1ca75",
   "metadata": {},
   "outputs": [
    {
     "name": "stdout",
     "output_type": "stream",
     "text": [
      "!\n"
     ]
    }
   ],
   "source": [
    "print(my_str[17])"
   ]
  },
  {
   "cell_type": "code",
   "execution_count": 169,
   "id": "3c5c2711",
   "metadata": {},
   "outputs": [
    {
     "name": "stdout",
     "output_type": "stream",
     "text": [
      "!\n"
     ]
    }
   ],
   "source": [
    "print(my_str[-1])  # indexarea cu minus porneste de la finalul stringului"
   ]
  },
  {
   "cell_type": "code",
   "execution_count": 172,
   "id": "f02a2e14",
   "metadata": {},
   "outputs": [
    {
     "name": "stdout",
     "output_type": "stream",
     "text": [
      "s\n"
     ]
    }
   ],
   "source": [
    "print(my_str[-2])"
   ]
  },
  {
   "cell_type": "code",
   "execution_count": null,
   "id": "c9068d80",
   "metadata": {},
   "outputs": [],
   "source": [
    "# .index"
   ]
  },
  {
   "cell_type": "code",
   "execution_count": 175,
   "id": "a2cb5d8b",
   "metadata": {},
   "outputs": [
    {
     "name": "stdout",
     "output_type": "stream",
     "text": [
      "6\n"
     ]
    }
   ],
   "source": [
    "# Vrem sa aflam indexul caracterului \"P\"\n",
    "print(my_str.index(\"P\"))"
   ]
  },
  {
   "cell_type": "code",
   "execution_count": 180,
   "id": "55440baf",
   "metadata": {},
   "outputs": [
    {
     "data": {
      "text/plain": [
       "4"
      ]
     },
     "execution_count": 180,
     "metadata": {},
     "output_type": "execute_result"
    }
   ],
   "source": [
    "my_str = \"Hello Pythonistas!\"\n",
    "my_str.find(\"o\")"
   ]
  },
  {
   "cell_type": "code",
   "execution_count": 186,
   "id": "952e8b6b",
   "metadata": {
    "scrolled": true
   },
   "outputs": [
    {
     "ename": "AssertionError",
     "evalue": "",
     "output_type": "error",
     "traceback": [
      "\u001b[1;31m---------------------------------------------------------------------------\u001b[0m",
      "\u001b[1;31mAssertionError\u001b[0m                            Traceback (most recent call last)",
      "\u001b[1;32m~\\AppData\\Local\\Temp/ipykernel_20704/3123038097.py\u001b[0m in \u001b[0;36m<module>\u001b[1;34m\u001b[0m\n\u001b[0;32m      1\u001b[0m \u001b[0mnr\u001b[0m \u001b[1;33m=\u001b[0m \u001b[1;36m10\u001b[0m\u001b[1;33m\u001b[0m\u001b[1;33m\u001b[0m\u001b[0m\n\u001b[1;32m----> 2\u001b[1;33m \u001b[1;32massert\u001b[0m \u001b[0mnr\u001b[0m \u001b[1;33m==\u001b[0m \u001b[1;36m15\u001b[0m\u001b[1;33m\u001b[0m\u001b[1;33m\u001b[0m\u001b[0m\n\u001b[0m",
      "\u001b[1;31mAssertionError\u001b[0m: "
     ]
    }
   ],
   "source": [
    "nr = 10\n",
    "assert nr == 15  # assert-ul e folosit in testare"
   ]
  },
  {
   "cell_type": "code",
   "execution_count": 187,
   "id": "f909e12d",
   "metadata": {},
   "outputs": [],
   "source": [
    "s = '123131'\n",
    "# vrem sa assertuim ca s e un numar??"
   ]
  },
  {
   "cell_type": "code",
   "execution_count": 188,
   "id": "e32a5619",
   "metadata": {},
   "outputs": [],
   "source": [
    "s = 'Coral is either the stupidest animal or the smartest rock'\n",
    "#####0123456789..........\n",
    "# Foloseste un assert ca sa verifici daca stringul s contine doar numere? "
   ]
  },
  {
   "cell_type": "code",
   "execution_count": 194,
   "id": "40481df2",
   "metadata": {},
   "outputs": [],
   "source": [
    "s.find?"
   ]
  },
  {
   "cell_type": "code",
   "execution_count": 192,
   "id": "94e9917b",
   "metadata": {},
   "outputs": [
    {
     "data": {
      "text/plain": [
       "0"
      ]
     },
     "execution_count": 192,
     "metadata": {},
     "output_type": "execute_result"
    }
   ],
   "source": [
    "s.find('Coral')"
   ]
  },
  {
   "cell_type": "code",
   "execution_count": 195,
   "id": "17bc9e1b",
   "metadata": {},
   "outputs": [
    {
     "data": {
      "text/plain": [
       "6"
      ]
     },
     "execution_count": 195,
     "metadata": {},
     "output_type": "execute_result"
    }
   ],
   "source": [
    "s.find('is')"
   ]
  },
  {
   "cell_type": "code",
   "execution_count": 202,
   "id": "c6706b22",
   "metadata": {},
   "outputs": [],
   "source": [
    "# s = 'Coral is either the stupidest animal or the smartest rock'\n",
    "\n",
    "# assert s.count('0') == 0 and s.count('1') == 0 "
   ]
  },
  {
   "cell_type": "code",
   "execution_count": null,
   "id": "15fcdfdc",
   "metadata": {},
   "outputs": [],
   "source": []
  },
  {
   "cell_type": "code",
   "execution_count": 203,
   "id": "1db343aa",
   "metadata": {},
   "outputs": [],
   "source": [
    "my_str = \"Hello Pythonistas!\""
   ]
  },
  {
   "cell_type": "code",
   "execution_count": 205,
   "id": "fade9a33",
   "metadata": {},
   "outputs": [
    {
     "ename": "TypeError",
     "evalue": "'str' object does not support item assignment",
     "output_type": "error",
     "traceback": [
      "\u001b[1;31m---------------------------------------------------------------------------\u001b[0m",
      "\u001b[1;31mTypeError\u001b[0m                                 Traceback (most recent call last)",
      "\u001b[1;32m~\\AppData\\Local\\Temp/ipykernel_20704/3801825748.py\u001b[0m in \u001b[0;36m<module>\u001b[1;34m\u001b[0m\n\u001b[0;32m      1\u001b[0m \u001b[1;31m# Vrem sa transformam H in h\u001b[0m\u001b[1;33m\u001b[0m\u001b[1;33m\u001b[0m\u001b[1;33m\u001b[0m\u001b[0m\n\u001b[1;32m----> 2\u001b[1;33m \u001b[0mmy_str\u001b[0m\u001b[1;33m[\u001b[0m\u001b[1;36m0\u001b[0m\u001b[1;33m]\u001b[0m \u001b[1;33m=\u001b[0m \u001b[1;34m'h'\u001b[0m\u001b[1;33m\u001b[0m\u001b[1;33m\u001b[0m\u001b[0m\n\u001b[0m",
      "\u001b[1;31mTypeError\u001b[0m: 'str' object does not support item assignment"
     ]
    }
   ],
   "source": [
    "# Vrem sa transformam H in h\n",
    "my_str[0] = 'h'  # eroare pentru ca stringul e imutabil (odata creata variabila string, nu mai poate fi modificata)"
   ]
  },
  {
   "cell_type": "code",
   "execution_count": 208,
   "id": "8224f77b",
   "metadata": {},
   "outputs": [
    {
     "name": "stdout",
     "output_type": "stream",
     "text": [
      "Hello Pythonistas!\n",
      "hello Pythonistas!\n"
     ]
    }
   ],
   "source": [
    "# solutia: reasignarea\n",
    "my_str.replace('H', 'h')\n",
    "print(my_str)\n",
    "\n",
    "my_str = my_str.replace('H', 'h')\n",
    "print(my_str)"
   ]
  },
  {
   "cell_type": "code",
   "execution_count": null,
   "id": "4ce7df72",
   "metadata": {},
   "outputs": [],
   "source": []
  },
  {
   "cell_type": "code",
   "execution_count": 209,
   "id": "e6d22298",
   "metadata": {},
   "outputs": [],
   "source": [
    "# slicing"
   ]
  },
  {
   "cell_type": "code",
   "execution_count": 210,
   "id": "070d19a8",
   "metadata": {},
   "outputs": [],
   "source": [
    "my_str = \"Hello Pythonistas!\"\n",
    "##########01234567.........."
   ]
  },
  {
   "cell_type": "code",
   "execution_count": 215,
   "id": "487bf0b3",
   "metadata": {},
   "outputs": [
    {
     "name": "stdout",
     "output_type": "stream",
     "text": [
      "Hello\n",
      "Hello\n"
     ]
    }
   ],
   "source": [
    "# Vrem sa afisam primele 5 caractere ale stringului\n",
    "print(my_str[0:5])\n",
    "\n",
    "# sau \n",
    "print(my_str[:5])\n"
   ]
  },
  {
   "cell_type": "code",
   "execution_count": 228,
   "id": "4d1bf02b",
   "metadata": {},
   "outputs": [
    {
     "name": "stdout",
     "output_type": "stream",
     "text": [
      "Python\n",
      "Pytho\n"
     ]
    }
   ],
   "source": [
    "# Daca vrem sa afisam \"Python\" cu slicing?\n",
    "print(my_str[6:12])\n",
    "\n",
    "# sau automat\n",
    "print(my_str[my_str.find(\"Python\"):my_str.find(\"n\")+1])"
   ]
  },
  {
   "cell_type": "code",
   "execution_count": 220,
   "id": "e0c73d9f",
   "metadata": {},
   "outputs": [
    {
     "name": "stdout",
     "output_type": "stream",
     "text": [
      "stas!\n"
     ]
    }
   ],
   "source": [
    "# Dar daca vrem sa returnam ultimele 5 caractere???\n",
    "print(my_str[-5:])"
   ]
  },
  {
   "cell_type": "code",
   "execution_count": 222,
   "id": "891da120",
   "metadata": {},
   "outputs": [
    {
     "name": "stdout",
     "output_type": "stream",
     "text": [
      "HloPtoits\n",
      "HloPtoits\n"
     ]
    }
   ],
   "source": [
    "# Putem sa afisam substringul format din tot al doilea caracter al stringului nostru\n",
    "my_str = \"Hello Pythonistas!\"\n",
    "print(my_str[0:len(my_str):2])\n",
    "\n",
    "# sau\n",
    "print(my_str[::2])"
   ]
  },
  {
   "cell_type": "code",
   "execution_count": 223,
   "id": "008dbca4",
   "metadata": {},
   "outputs": [],
   "source": [
    "# sintaxa slicing:\n",
    "# string[start:end:step], unde\n",
    "# start = indexul de inceput, end = indexul de oprire (exclude indexul), step = pas cu care sare peste elemente"
   ]
  },
  {
   "cell_type": "code",
   "execution_count": 224,
   "id": "3e1da6cb",
   "metadata": {},
   "outputs": [],
   "source": [
    "# TODO: Avand stringul my_str = \"Hello Pythonistas!\" incercati sa afisati substringul \"eoyos\" folosindu`va de slicing:) "
   ]
  },
  {
   "cell_type": "code",
   "execution_count": 225,
   "id": "e1d66997",
   "metadata": {},
   "outputs": [
    {
     "data": {
      "text/plain": [
       "6"
      ]
     },
     "execution_count": 225,
     "metadata": {},
     "output_type": "execute_result"
    }
   ],
   "source": [
    "my_str.find(\"Python\")"
   ]
  },
  {
   "cell_type": "code",
   "execution_count": 226,
   "id": "88c1b679",
   "metadata": {},
   "outputs": [],
   "source": [
    "my_str.find?"
   ]
  },
  {
   "cell_type": "code",
   "execution_count": null,
   "id": "ac4a2aaa",
   "metadata": {},
   "outputs": [],
   "source": []
  }
 ],
 "metadata": {
  "kernelspec": {
   "display_name": "Python 3 (ipykernel)",
   "language": "python",
   "name": "python3"
  },
  "language_info": {
   "codemirror_mode": {
    "name": "ipython",
    "version": 3
   },
   "file_extension": ".py",
   "mimetype": "text/x-python",
   "name": "python",
   "nbconvert_exporter": "python",
   "pygments_lexer": "ipython3",
   "version": "3.8.12"
  }
 },
 "nbformat": 4,
 "nbformat_minor": 5
}
