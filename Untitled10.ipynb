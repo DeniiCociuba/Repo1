{
 "cells": [
  {
   "cell_type": "markdown",
   "id": "de544990",
   "metadata": {},
   "source": [
    "# Tema 06 - OOP"
   ]
  },
  {
   "cell_type": "code",
   "execution_count": 4,
   "id": "3c9531f4",
   "metadata": {},
   "outputs": [
    {
     "ename": "IndentationError",
     "evalue": "expected an indented block after function definition on line 2 (3531533495.py, line 11)",
     "output_type": "error",
     "traceback": [
      "\u001b[1;36m  Input \u001b[1;32mIn [4]\u001b[1;36m\u001b[0m\n\u001b[1;33m    def my_circle(raza, culoare):\u001b[0m\n\u001b[1;37m                                 ^\u001b[0m\n\u001b[1;31mIndentationError\u001b[0m\u001b[1;31m:\u001b[0m expected an indented block after function definition on line 2\n"
     ]
    }
   ],
   "source": [
    "class Cerc:\n",
    "    def __init__(self, raza,culoare):     \n",
    "        self.raza = raza\n",
    "        self.culoare = culoare\n",
    "        \n",
    "    def descriere_cerc(self):\n",
    "        print('Culoarea este {self.culoare} si raza este {raza}')\n",
    "\n",
    "c1 = Cerc(3, 'rosu') \n",
    "\n",
    "#def my_circle(raza, culoare):\n",
    "#    print(f'Cercul are {raza} si {culoare}')\n",
    "    \n",
    "#my_circle(3, 'rosu')"
   ]
  },
  {
   "cell_type": "code",
   "execution_count": null,
   "id": "21a5d381",
   "metadata": {},
   "outputs": [],
   "source": [
    " #initul inseamna ca se apeleaza fctia in mom in care introducem valori\n",
    " #initul se apeleaza la initializare (aia de mai jos)\n",
    "#fctia tre sa primeasca argrumente !! (argum. raza si culoare)\n",
    "# la initializare, cercul primeste 2 atribute (alea din paranteza)\n",
    "#clasele au mereu aceiasi parametri pe care ii au fctiile dar au si self (care iti zice exact ca e clasa respectiva)c1 = Cerc(3, 'rosu')                    \n",
    "#exact aceleasi atribute trebuiesc pasate si initului\n",
    "    "
   ]
  }
 ],
 "metadata": {
  "kernelspec": {
   "display_name": "Python 3 (ipykernel)",
   "language": "python",
   "name": "python3"
  },
  "language_info": {
   "codemirror_mode": {
    "name": "ipython",
    "version": 3
   },
   "file_extension": ".py",
   "mimetype": "text/x-python",
   "name": "python",
   "nbconvert_exporter": "python",
   "pygments_lexer": "ipython3",
   "version": "3.10.6"
  }
 },
 "nbformat": 4,
 "nbformat_minor": 5
}
