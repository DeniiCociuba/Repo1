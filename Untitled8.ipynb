{
 "cells": [
  {
   "cell_type": "markdown",
   "id": "78c823a2",
   "metadata": {},
   "source": [
    "RECAP"
   ]
  },
  {
   "cell_type": "code",
   "execution_count": 2,
   "id": "78fa06e3",
   "metadata": {},
   "outputs": [
    {
     "name": "stdout",
     "output_type": "stream",
     "text": [
      "3.6666666666666665\n",
      "3\n"
     ]
    }
   ],
   "source": [
    "n = 11\n",
    "print(n/3)  #rezultatul\n",
    "print(n//3) # catul (partea intreaga a impartirii)\n"
   ]
  },
  {
   "cell_type": "code",
   "execution_count": 3,
   "id": "d2038cd7",
   "metadata": {},
   "outputs": [
    {
     "name": "stdout",
     "output_type": "stream",
     "text": [
      "yesof course\n"
     ]
    }
   ],
   "source": [
    "my_text = 'yes'\n",
    "print(my_text + 'of course')"
   ]
  },
  {
   "cell_type": "code",
   "execution_count": 4,
   "id": "06211643",
   "metadata": {},
   "outputs": [
    {
     "name": "stdout",
     "output_type": "stream",
     "text": [
      "yes\n"
     ]
    },
    {
     "ename": "TypeError",
     "evalue": "unsupported operand type(s) for +: 'NoneType' and 'int'",
     "output_type": "error",
     "traceback": [
      "\u001b[1;31m---------------------------------------------------------------------------\u001b[0m",
      "\u001b[1;31mTypeError\u001b[0m                                 Traceback (most recent call last)",
      "Input \u001b[1;32mIn [4]\u001b[0m, in \u001b[0;36m<cell line: 2>\u001b[1;34m()\u001b[0m\n\u001b[0;32m      1\u001b[0m my_text \u001b[38;5;241m=\u001b[39m \u001b[38;5;124m'\u001b[39m\u001b[38;5;124myes\u001b[39m\u001b[38;5;124m'\u001b[39m\n\u001b[1;32m----> 2\u001b[0m \u001b[38;5;28;43mprint\u001b[39;49m\u001b[43m(\u001b[49m\u001b[43mmy_text\u001b[49m\u001b[43m)\u001b[49m\u001b[43m \u001b[49m\u001b[38;5;241;43m+\u001b[39;49m\u001b[43m \u001b[49m\u001b[38;5;241;43m3\u001b[39;49m\n",
      "\u001b[1;31mTypeError\u001b[0m: unsupported operand type(s) for +: 'NoneType' and 'int'"
     ]
    }
   ],
   "source": [
    "my_text = 'yes'\n",
    "print(my_text) + 3"
   ]
  },
  {
   "cell_type": "code",
   "execution_count": 5,
   "id": "e670f9ba",
   "metadata": {},
   "outputs": [
    {
     "name": "stdout",
     "output_type": "stream",
     "text": [
      "yesyesyes\n"
     ]
    }
   ],
   "source": [
    "my_text = 'yes'\n",
    "print(my_text * 3)"
   ]
  },
  {
   "cell_type": "code",
   "execution_count": 9,
   "id": "325dff43",
   "metadata": {},
   "outputs": [
    {
     "name": "stdout",
     "output_type": "stream",
     "text": [
      "10\n",
      "[None, None, None, None, None, None, None, None, None, None]\n"
     ]
    }
   ],
   "source": [
    "lst = [None] * 10\n",
    "print(len(lst))\n",
    "print(lst)"
   ]
  },
  {
   "cell_type": "code",
   "execution_count": 10,
   "id": "11907e83",
   "metadata": {},
   "outputs": [
    {
     "name": "stdout",
     "output_type": "stream",
     "text": [
      "True\n"
     ]
    }
   ],
   "source": [
    "#Recap 10: How should we write the print statement to retrieve the truth value from the comparision of an integer number a=8\n",
    "# being bigger than both b=6 and c=3 ?\n",
    "\n",
    "a = 8\n",
    "b = 6\n",
    "c = 3\n",
    "\n",
    "if a > b and a > c:\n",
    "    print(True)"
   ]
  },
  {
   "cell_type": "code",
   "execution_count": 40,
   "id": "815a93b1",
   "metadata": {},
   "outputs": [
    {
     "name": "stdout",
     "output_type": "stream",
     "text": [
      "Hello\n"
     ]
    }
   ],
   "source": [
    "hello = \"Hello World!\"\n",
    "\n",
    "print(hello[0:5])"
   ]
  },
  {
   "cell_type": "code",
   "execution_count": 46,
   "id": "e52374bb",
   "metadata": {},
   "outputs": [
    {
     "name": "stdout",
     "output_type": "stream",
     "text": [
      "eoWl\n"
     ]
    }
   ],
   "source": [
    "hello = \"Hello, World!\"\n",
    "#        0123456789...\n",
    "print(hello[1::3]) # 1, 4, 7, 10  #slice[start:stop:step] #[::] -> inseamna de la inceput pana la final"
   ]
  },
  {
   "cell_type": "code",
   "execution_count": 48,
   "id": "5b7410a2",
   "metadata": {},
   "outputs": [
    {
     "name": "stdout",
     "output_type": "stream",
     "text": [
      "!dlroW ,olleH\n"
     ]
    }
   ],
   "source": [
    "print(hello[::-1]) # string-ul inversat"
   ]
  },
  {
   "cell_type": "code",
   "execution_count": null,
   "id": "1ededc11",
   "metadata": {},
   "outputs": [],
   "source": []
  },
  {
   "cell_type": "code",
   "execution_count": null,
   "id": "25d15cf3",
   "metadata": {},
   "outputs": [],
   "source": []
  },
  {
   "cell_type": "markdown",
   "id": "36abd189",
   "metadata": {},
   "source": [
    "# OOP "
   ]
  },
  {
   "cell_type": "code",
   "execution_count": 49,
   "id": "3ae0d2ef",
   "metadata": {},
   "outputs": [],
   "source": [
    "# OOP = Object oriented programming (lucram cu obiecte)"
   ]
  },
  {
   "cell_type": "code",
   "execution_count": 50,
   "id": "4394b95f",
   "metadata": {},
   "outputs": [],
   "source": [
    "car = 'Dacia' # obiectul car care e de tipul/clasa string ( e variabila dar poate fi si obiect)"
   ]
  },
  {
   "cell_type": "code",
   "execution_count": 51,
   "id": "06f0b74f",
   "metadata": {},
   "outputs": [],
   "source": [
    "# Clasa - e un sablon/schita pt a crea obiecte/entitati, definind atribute(caracteri)"
   ]
  },
  {
   "cell_type": "code",
   "execution_count": 75,
   "id": "f79a875a",
   "metadata": {},
   "outputs": [],
   "source": [
    "class Car:\n",
    "    #atribute/fields\n",
    "    brand = \"Dacia\"\n",
    "    model = \"1310\"\n",
    "    year = 1970\n",
    "    \n",
    "    #metode/functii\n",
    "    def accelerate(self):\n",
    "        print(\"VRRUUUUMM\")\n",
    "        \n",
    "    def show_year(self):\n",
    "        print(self.year)\n",
    "    \n",
    "# e numai un sablon/blueprint si nu se poate face nimic, nu ruleaza nici un cod\n",
    "# se poate folosi sa ne istantiem: "
   ]
  },
  {
   "cell_type": "code",
   "execution_count": 66,
   "id": "befa3832",
   "metadata": {},
   "outputs": [],
   "source": [
    "my_car = Car() # cream obiectul my_Car(instanta a clasei car)"
   ]
  },
  {
   "cell_type": "code",
   "execution_count": 12,
   "id": "d446dcf9",
   "metadata": {},
   "outputs": [
    {
     "ename": "NameError",
     "evalue": "name 'my_car' is not defined",
     "output_type": "error",
     "traceback": [
      "\u001b[1;31m---------------------------------------------------------------------------\u001b[0m",
      "\u001b[1;31mNameError\u001b[0m                                 Traceback (most recent call last)",
      "Input \u001b[1;32mIn [12]\u001b[0m, in \u001b[0;36m<cell line: 1>\u001b[1;34m()\u001b[0m\n\u001b[1;32m----> 1\u001b[0m \u001b[43mmy_car\u001b[49m\u001b[38;5;241m.\u001b[39maccelerate()\n",
      "\u001b[1;31mNameError\u001b[0m: name 'my_car' is not defined"
     ]
    }
   ],
   "source": [
    "my_car.accelerate()  #apelam metoda accelarate a clasei car"
   ]
  },
  {
   "cell_type": "code",
   "execution_count": 68,
   "id": "be4db727",
   "metadata": {},
   "outputs": [
    {
     "name": "stdout",
     "output_type": "stream",
     "text": [
      "1970\n"
     ]
    }
   ],
   "source": [
    "my_car.show_year()"
   ]
  },
  {
   "cell_type": "code",
   "execution_count": 17,
   "id": "c5a8b1a5",
   "metadata": {},
   "outputs": [
    {
     "ename": "NameError",
     "evalue": "name 'my_car' is not defined",
     "output_type": "error",
     "traceback": [
      "\u001b[1;31m---------------------------------------------------------------------------\u001b[0m",
      "\u001b[1;31mNameError\u001b[0m                                 Traceback (most recent call last)",
      "Input \u001b[1;32mIn [17]\u001b[0m, in \u001b[0;36m<cell line: 1>\u001b[1;34m()\u001b[0m\n\u001b[1;32m----> 1\u001b[0m \u001b[38;5;28mprint\u001b[39m(\u001b[43mmy_car\u001b[49m\u001b[38;5;241m.\u001b[39mbrand)\n",
      "\u001b[1;31mNameError\u001b[0m: name 'my_car' is not defined"
     ]
    }
   ],
   "source": [
    "print(my_car.brand) #apelam atributul clasei car"
   ]
  },
  {
   "cell_type": "code",
   "execution_count": 18,
   "id": "84239da6",
   "metadata": {},
   "outputs": [
    {
     "ename": "NameError",
     "evalue": "name 'Car' is not defined",
     "output_type": "error",
     "traceback": [
      "\u001b[1;31m---------------------------------------------------------------------------\u001b[0m",
      "\u001b[1;31mNameError\u001b[0m                                 Traceback (most recent call last)",
      "Input \u001b[1;32mIn [18]\u001b[0m, in \u001b[0;36m<cell line: 1>\u001b[1;34m()\u001b[0m\n\u001b[1;32m----> 1\u001b[0m dacia \u001b[38;5;241m=\u001b[39m \u001b[43mCar\u001b[49m()\n",
      "\u001b[1;31mNameError\u001b[0m: name 'Car' is not defined"
     ]
    }
   ],
   "source": [
    "dacia = Car()"
   ]
  },
  {
   "cell_type": "code",
   "execution_count": 15,
   "id": "f5a3e7b9",
   "metadata": {},
   "outputs": [
    {
     "ename": "NameError",
     "evalue": "name 'dacia' is not defined",
     "output_type": "error",
     "traceback": [
      "\u001b[1;31m---------------------------------------------------------------------------\u001b[0m",
      "\u001b[1;31mNameError\u001b[0m                                 Traceback (most recent call last)",
      "Input \u001b[1;32mIn [15]\u001b[0m, in \u001b[0;36m<cell line: 1>\u001b[1;34m()\u001b[0m\n\u001b[1;32m----> 1\u001b[0m \u001b[43mdacia\u001b[49m\u001b[38;5;241m.\u001b[39mbrand\n",
      "\u001b[1;31mNameError\u001b[0m: name 'dacia' is not defined"
     ]
    }
   ],
   "source": [
    "dacia.brand"
   ]
  },
  {
   "cell_type": "code",
   "execution_count": 16,
   "id": "998599c0",
   "metadata": {},
   "outputs": [
    {
     "name": "stdout",
     "output_type": "stream",
     "text": [
      "135.0\n"
     ]
    }
   ],
   "source": [
    "def discount(pret, reducere = 10):\n",
    "    print(pret-reducere/100*pret)\n",
    "    \n",
    "discount(150)"
   ]
  },
  {
   "cell_type": "code",
   "execution_count": 104,
   "id": "f7dd3283",
   "metadata": {},
   "outputs": [],
   "source": [
    "class Car:\n",
    "    #constructor\n",
    "    def __init__(self, input_brand, input_model, input_year, input_has_leather=True):\n",
    "        self.brand = input_brand\n",
    "        self.model = input_model\n",
    "        self.year = input_year\n",
    "        self.has_leather = True\n",
    "        \n",
    "    #metode\n",
    "    def accelerate(self):\n",
    "        print(\"VRRUUUUMM\")\n",
    "        \n",
    "    def show_year(self):\n",
    "        print(self.year) # cu self suntem in interiorul clasei si lucram cu tot ce tine de clasa"
   ]
  },
  {
   "cell_type": "code",
   "execution_count": 22,
   "id": "1c740d39",
   "metadata": {},
   "outputs": [
    {
     "ename": "NameError",
     "evalue": "name 'Car' is not defined",
     "output_type": "error",
     "traceback": [
      "\u001b[1;31m---------------------------------------------------------------------------\u001b[0m",
      "\u001b[1;31mNameError\u001b[0m                                 Traceback (most recent call last)",
      "Input \u001b[1;32mIn [22]\u001b[0m, in \u001b[0;36m<cell line: 1>\u001b[1;34m()\u001b[0m\n\u001b[1;32m----> 1\u001b[0m tesla \u001b[38;5;241m=\u001b[39m \u001b[43mCar\u001b[49m(\u001b[38;5;124m'\u001b[39m\u001b[38;5;124mTesla\u001b[39m\u001b[38;5;124m'\u001b[39m, \u001b[38;5;124m'\u001b[39m\u001b[38;5;124mY\u001b[39m\u001b[38;5;124m'\u001b[39m, \u001b[38;5;241m2022\u001b[39m, \u001b[38;5;28;01mTrue\u001b[39;00m)\n",
      "\u001b[1;31mNameError\u001b[0m: name 'Car' is not defined"
     ]
    }
   ],
   "source": [
    "tesla = Car('Tesla', 'Y', 2022, True)"
   ]
  },
  {
   "cell_type": "code",
   "execution_count": 19,
   "id": "89639989",
   "metadata": {},
   "outputs": [
    {
     "ename": "NameError",
     "evalue": "name 'tesla' is not defined",
     "output_type": "error",
     "traceback": [
      "\u001b[1;31m---------------------------------------------------------------------------\u001b[0m",
      "\u001b[1;31mNameError\u001b[0m                                 Traceback (most recent call last)",
      "Input \u001b[1;32mIn [19]\u001b[0m, in \u001b[0;36m<cell line: 1>\u001b[1;34m()\u001b[0m\n\u001b[1;32m----> 1\u001b[0m \u001b[43mtesla\u001b[49m\u001b[38;5;241m.\u001b[39mbrand\n",
      "\u001b[1;31mNameError\u001b[0m: name 'tesla' is not defined"
     ]
    }
   ],
   "source": [
    "tesla.brand"
   ]
  },
  {
   "cell_type": "code",
   "execution_count": 90,
   "id": "6f27617c",
   "metadata": {},
   "outputs": [
    {
     "data": {
      "text/plain": [
       "2022"
      ]
     },
     "execution_count": 90,
     "metadata": {},
     "output_type": "execute_result"
    }
   ],
   "source": [
    "tesla.year"
   ]
  },
  {
   "cell_type": "code",
   "execution_count": 109,
   "id": "3daf2e34",
   "metadata": {},
   "outputs": [
    {
     "data": {
      "text/plain": [
       "'Y'"
      ]
     },
     "execution_count": 109,
     "metadata": {},
     "output_type": "execute_result"
    }
   ],
   "source": [
    "tesla.model"
   ]
  },
  {
   "cell_type": "code",
   "execution_count": 98,
   "id": "e312e3f9",
   "metadata": {},
   "outputs": [],
   "source": [
    "vw = car('VW', 'Passat', 2020)"
   ]
  },
  {
   "cell_type": "code",
   "execution_count": 100,
   "id": "12663ba7",
   "metadata": {},
   "outputs": [
    {
     "data": {
      "text/plain": [
       "'VW'"
      ]
     },
     "execution_count": 100,
     "metadata": {},
     "output_type": "execute_result"
    }
   ],
   "source": [
    "vw.brand"
   ]
  },
  {
   "cell_type": "code",
   "execution_count": 101,
   "id": "cb9d5a0f",
   "metadata": {},
   "outputs": [
    {
     "data": {
      "text/plain": [
       "'Passat'"
      ]
     },
     "execution_count": 101,
     "metadata": {},
     "output_type": "execute_result"
    }
   ],
   "source": [
    "vw.model"
   ]
  },
  {
   "cell_type": "code",
   "execution_count": 102,
   "id": "5d2bf6f5",
   "metadata": {},
   "outputs": [
    {
     "data": {
      "text/plain": [
       "2020"
      ]
     },
     "execution_count": 102,
     "metadata": {},
     "output_type": "execute_result"
    }
   ],
   "source": [
    "vw.year"
   ]
  },
  {
   "cell_type": "code",
   "execution_count": 2,
   "id": "80732b22",
   "metadata": {},
   "outputs": [
    {
     "ename": "NameError",
     "evalue": "name 'Car' is not defined",
     "output_type": "error",
     "traceback": [
      "\u001b[1;31m---------------------------------------------------------------------------\u001b[0m",
      "\u001b[1;31mNameError\u001b[0m                                 Traceback (most recent call last)",
      "Input \u001b[1;32mIn [2]\u001b[0m, in \u001b[0;36m<cell line: 1>\u001b[1;34m()\u001b[0m\n\u001b[1;32m----> 1\u001b[0m audi \u001b[38;5;241m=\u001b[39m \u001b[43mCar\u001b[49m(\u001b[38;5;124m'\u001b[39m\u001b[38;5;124mAudi\u001b[39m\u001b[38;5;124m'\u001b[39m, \u001b[38;5;124m'\u001b[39m\u001b[38;5;124mA7\u001b[39m\u001b[38;5;124m'\u001b[39m, \u001b[38;5;241m2021\u001b[39m)\n",
      "\u001b[1;31mNameError\u001b[0m: name 'Car' is not defined"
     ]
    }
   ],
   "source": [
    "audi = Car('Audi', 'A7', 2021) # am initializat un obiect numit audi din clasa Car"
   ]
  },
  {
   "cell_type": "code",
   "execution_count": null,
   "id": "f8ff8680",
   "metadata": {},
   "outputs": [],
   "source": []
  }
 ],
 "metadata": {
  "kernelspec": {
   "display_name": "Python 3 (ipykernel)",
   "language": "python",
   "name": "python3"
  },
  "language_info": {
   "codemirror_mode": {
    "name": "ipython",
    "version": 3
   },
   "file_extension": ".py",
   "mimetype": "text/x-python",
   "name": "python",
   "nbconvert_exporter": "python",
   "pygments_lexer": "ipython3",
   "version": "3.10.6"
  }
 },
 "nbformat": 4,
 "nbformat_minor": 5
}
